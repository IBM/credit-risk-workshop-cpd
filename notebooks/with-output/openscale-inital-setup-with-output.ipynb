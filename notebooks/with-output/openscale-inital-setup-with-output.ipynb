{
 "cells": [
  {
   "cell_type": "markdown",
   "metadata": {},
   "source": [
    "<img src=\"https://github.com/pmservice/ai-openscale-tutorials/raw/master/notebooks/images/banner.png\" align=\"left\" alt=\"banner\">"
   ]
  },
  {
   "cell_type": "markdown",
   "metadata": {},
   "source": [
    "# Working with Watson OpenScale - Initial Setup"
   ]
  },
  {
   "cell_type": "markdown",
   "metadata": {},
   "source": [
    "## The notebook will configure OpenScale to monitor a machine learning deployment."
   ]
  },
  {
   "cell_type": "markdown",
   "metadata": {},
   "source": [
    "### Contents\n",
    "\n",
    "- [1.0 Install Python Packages](#setup)\n",
    "- [2.0 Configure Credentials](#credentials)\n",
    "- [3.0 OpenScale configuration](#openscale)\n",
    "- [4.0 Create Datamart](#datamart)\n",
    "- [5.0 Bind Machine Learning engines](#bind)\n",
    "- [6.0 Check and setup subscriptions](#subscriptions)\n",
    "- [7.0 Score the model](#score)\n",
    "- [8.0 Store the variables](#store)"
   ]
  },
  {
   "cell_type": "markdown",
   "metadata": {},
   "source": [
    "# 1.0 Install Python Packages <a name=setup></a>"
   ]
  },
  {
   "cell_type": "code",
   "execution_count": 3,
   "metadata": {},
   "outputs": [
    {
     "name": "stdout",
     "output_type": "stream",
     "text": [
      "Requirement already satisfied, skipping upgrade: six in /user-home/_global_/python-3 (from h5py->ibm-ai-openscale==2.1.21) (1.12.0)\n",
      "Requirement already satisfied, skipping upgrade: docutils<0.16,>=0.10 in /opt/conda/envs/Python-3.6-WMLCE/lib/python3.6/site-packages (from ibm-cos-sdk-core==2.6.0->ibm-cos-sdk==2.6.0->watson-machine-learning-client-V4==1.0.95) (0.14)\n"
     ]
    }
   ],
   "source": [
    "!rm -rf /home/spark/shared/user-libs/python3.6*\n",
    "\n",
    "!pip install --upgrade ibm-ai-openscale==2.1.21 --no-cache | tail -n 1\n",
    "!pip install --upgrade watson-machine-learning-client-V4==1.0.95 | tail -n 1"
   ]
  },
  {
   "cell_type": "markdown",
   "metadata": {},
   "source": [
    "### Action: restart the kernel!"
   ]
  },
  {
   "cell_type": "markdown",
   "metadata": {},
   "source": [
    "# 2 .0 Configure credentials <a name=\"credentials\"></a>"
   ]
  },
  {
   "cell_type": "code",
   "execution_count": 1,
   "metadata": {},
   "outputs": [],
   "source": [
    "import warnings\n",
    "warnings.filterwarnings('ignore')"
   ]
  },
  {
   "cell_type": "markdown",
   "metadata": {},
   "source": [
    "<font color='red'>Replace the `username` and `password` values of `************` with your Cloud Pak for Data `username` and `password`. The value for `url` should match the `url` for your Cloud Pak for Data cluster, which you can get from the browser address bar (be sure to include the 'https://'.</font> The credentials should look something like this (these are example values, not the ones you will use):\n",
    "\n",
    "`\n",
    "WOS_CREDENTIALS = {\n",
    "                   \"url\": \"https://zen.clusterid.us-south.containers.appdomain.cloud\",\n",
    "                   \"username\": \"cp4duser\",\n",
    "                   \"password\" : \"cp4dpass\"\n",
    "                  }\n",
    "`\n",
    "#### NOTE: Make sure that there is no trailing forward slash `/` in the `url`"
   ]
  },
  {
   "cell_type": "code",
   "execution_count": 1,
   "metadata": {},
   "outputs": [],
   "source": [
    "WOS_CREDENTIALS = {\n",
    "    \"url\": \"https://************\",\n",
    "    \"username\": \"************\",\n",
    "    \"password\": \"************\"\n",
    "}"
   ]
  },
  {
   "cell_type": "code",
   "execution_count": 2,
   "metadata": {},
   "outputs": [],
   "source": [
    "WML_CREDENTIALS = WOS_CREDENTIALS.copy()\n",
    "WML_CREDENTIALS['instance_id']='openshift'\n",
    "WML_CREDENTIALS['version']='3.0.0'"
   ]
  },
  {
   "cell_type": "markdown",
   "metadata": {},
   "source": [
    "# 3.0 Configure OpenScale <a name=\"openscale\"></a>"
   ]
  },
  {
   "cell_type": "markdown",
   "metadata": {},
   "source": [
    "The notebook will now import the necessary libraries and configure OpenScale"
   ]
  },
  {
   "cell_type": "code",
   "execution_count": 3,
   "metadata": {},
   "outputs": [],
   "source": [
    "from watson_machine_learning_client import WatsonMachineLearningAPIClient\n",
    "import json\n",
    "\n",
    "wml_client = WatsonMachineLearningAPIClient(WML_CREDENTIALS)"
   ]
  },
  {
   "cell_type": "code",
   "execution_count": 4,
   "metadata": {},
   "outputs": [],
   "source": [
    "from ibm_ai_openscale import APIClient4ICP\n",
    "from ibm_ai_openscale.engines import *\n",
    "from ibm_ai_openscale.utils import *\n",
    "from ibm_ai_openscale.supporting_classes import PayloadRecord, Feature\n",
    "from ibm_ai_openscale.supporting_classes.enums import *"
   ]
  },
  {
   "cell_type": "code",
   "execution_count": 5,
   "metadata": {},
   "outputs": [
    {
     "data": {
      "text/plain": [
       "'2.1.21'"
      ]
     },
     "execution_count": 5,
     "metadata": {},
     "output_type": "execute_result"
    }
   ],
   "source": [
    "ai_client = APIClient4ICP(WOS_CREDENTIALS)\n",
    "ai_client.version"
   ]
  },
  {
   "cell_type": "markdown",
   "metadata": {},
   "source": [
    "# 4.0 Create datamart <a name=\"datamart\"></a>"
   ]
  },
  {
   "cell_type": "markdown",
   "metadata": {},
   "source": [
    "## 4.1 Set up datamart"
   ]
  },
  {
   "cell_type": "markdown",
   "metadata": {},
   "source": [
    "Watson OpenScale uses a database to store payload logs and calculated metrics. If an OpenScale datamart exists in Db2, the existing datamart will be used and no data will be overwritten.\n",
    "\n",
    "Prior instances of the Credit model will be removed from OpenScale monitoring."
   ]
  },
  {
   "cell_type": "code",
   "execution_count": 9,
   "metadata": {},
   "outputs": [
    {
     "name": "stdout",
     "output_type": "stream",
     "text": [
      "Using existing external datamart\n"
     ]
    }
   ],
   "source": [
    "try:\n",
    "    data_mart_details = ai_client.data_mart.get_details()\n",
    "    print('Using existing external datamart')\n",
    "except:\n",
    "    print('Setting up external datamart')\n",
    "    ai_client.data_mart.setup(db_credentials=DATABASE_CREDENTIALS, schema=SCHEMA_NAME)"
   ]
  },
  {
   "cell_type": "markdown",
   "metadata": {},
   "source": [
    "## 5.0  Bind machine learning engines <a name=\"bind\"></a>"
   ]
  },
  {
   "cell_type": "markdown",
   "metadata": {},
   "source": [
    "Watson OpenScale needs to be bound to the Watson Machine Learning instance to capture payload data into and out of the model. "
   ]
  },
  {
   "cell_type": "markdown",
   "metadata": {},
   "source": [
    "### Create the binding if it doesn't already exist."
   ]
  },
  {
   "cell_type": "code",
   "execution_count": 11,
   "metadata": {},
   "outputs": [
    {
     "name": "stdout",
     "output_type": "stream",
     "text": [
      "Found binding:\n"
     ]
    },
    {
     "data": {
      "text/plain": [
       "'405e817b-3715-453b-91a7-6a36186de087'"
      ]
     },
     "execution_count": 11,
     "metadata": {},
     "output_type": "execute_result"
    }
   ],
   "source": [
    "binding_uid = None\n",
    "\n",
    "binding_uid = ai_client.data_mart.bindings.get_details()['service_bindings'][0]['metadata']['guid']\n",
    "if binding_uid is None:\n",
    "    print(\"Adding binding:\")\n",
    "    binding_uid = ai_client.data_mart.bindings.add('WML instance', WatsonMachineLearningInstance4ICP(wml_credentials=WML_CREDENTIALS))\n",
    "    bindings_details = ai_client.data_mart.bindings.get_details()\n",
    "else:\n",
    "    print(\"Found binding:\")\n",
    "binding_uid"
   ]
  },
  {
   "cell_type": "code",
   "execution_count": 12,
   "metadata": {},
   "outputs": [
    {
     "data": {
      "text/html": [
       "<HTML>\n",
       "        <body>\n",
       "            <h3>Service bindings</h3>\n",
       "            <table style='border: 1px solid #dddddd; font-family: Courier'>\n",
       "                <th style='border: 1px solid #dddddd'>uid</th><th style='border: 1px solid #dddddd'>name</th><th style='border: 1px solid #dddddd'>service_type</th><th style='border: 1px solid #dddddd'>created</th>\n",
       "                <tr><td style='border: 1px solid #dddddd'>3c617b36-f0f6-406d-899a-2b7086356da7</td><td style='border: 1px solid #dddddd'>WML instance</td><td style='border: 1px solid #dddddd'>watson_machine_learning</td><td style='border: 1px solid #dddddd'>2020-07-16T17:17:59.614Z</td></tr><tr><td style='border: 1px solid #dddddd'>f58831a3-3816-4ae5-9552-93500b448475</td><td style='border: 1px solid #dddddd'>WML instance</td><td style='border: 1px solid #dddddd'>watson_machine_learning</td><td style='border: 1px solid #dddddd'>2020-07-10T15:30:48.227Z</td></tr><tr><td style='border: 1px solid #dddddd'>262c4a39-0b5c-4787-aba8-7e9efe495445</td><td style='border: 1px solid #dddddd'>WML instance</td><td style='border: 1px solid #dddddd'>watson_machine_learning</td><td style='border: 1px solid #dddddd'>2020-07-09T22:02:03.147Z</td></tr><tr><td style='border: 1px solid #dddddd'>3f65b02c-ad55-4e51-bdf3-5bb87275cd04</td><td style='border: 1px solid #dddddd'>WML instance</td><td style='border: 1px solid #dddddd'>watson_machine_learning</td><td style='border: 1px solid #dddddd'>2020-07-05T20:06:43.004Z</td></tr><tr><td style='border: 1px solid #dddddd'>507f0e58-5ac1-4f22-bf92-fe51747b1d18</td><td style='border: 1px solid #dddddd'>WML instance</td><td style='border: 1px solid #dddddd'>watson_machine_learning</td><td style='border: 1px solid #dddddd'>2020-06-16T05:32:13.707Z</td></tr><tr><td style='border: 1px solid #dddddd'>d45d24c4-113a-470d-9669-2a39ed49faf5</td><td style='border: 1px solid #dddddd'>WML instance</td><td style='border: 1px solid #dddddd'>watson_machine_learning</td><td style='border: 1px solid #dddddd'>2020-06-16T04:34:12.349Z</td></tr><tr><td style='border: 1px solid #dddddd'>69eeed33-8d5b-4c4c-950b-97dd7f1c4cca</td><td style='border: 1px solid #dddddd'>WML instance</td><td style='border: 1px solid #dddddd'>watson_machine_learning</td><td style='border: 1px solid #dddddd'>2020-06-16T03:16:56.422Z</td></tr><tr><td style='border: 1px solid #dddddd'>3ee275c9-1325-488b-93ec-23a07ad5d54a</td><td style='border: 1px solid #dddddd'>WML instance</td><td style='border: 1px solid #dddddd'>watson_machine_learning</td><td style='border: 1px solid #dddddd'>2020-06-15T22:49:40.887Z</td></tr><tr><td style='border: 1px solid #dddddd'>fb3a6090-36eb-412a-a465-6b4ecd1a3bd4</td><td style='border: 1px solid #dddddd'>WML instance</td><td style='border: 1px solid #dddddd'>watson_machine_learning</td><td style='border: 1px solid #dddddd'>2020-06-15T20:30:51.235Z</td></tr><tr><td style='border: 1px solid #dddddd'>8c569603-7483-46eb-b722-1652ea5a6d36</td><td style='border: 1px solid #dddddd'>WML instance</td><td style='border: 1px solid #dddddd'>watson_machine_learning</td><td style='border: 1px solid #dddddd'>2020-06-15T16:50:04.080Z</td></tr><tr><td style='border: 1px solid #dddddd'>405e817b-3715-453b-91a7-6a36186de087</td><td style='border: 1px solid #dddddd'>WML instance</td><td style='border: 1px solid #dddddd'>watson_machine_learning</td><td style='border: 1px solid #dddddd'>2020-06-15T16:26:24.549Z</td></tr>\n",
       "            </table>\n",
       "        </body>\n",
       "        </HTML>"
      ],
      "text/plain": [
       "<IPython.core.display.HTML object>"
      ]
     },
     "metadata": {},
     "output_type": "display_data"
    }
   ],
   "source": [
    "ai_client.data_mart.bindings.list()"
   ]
  },
  {
   "cell_type": "markdown",
   "metadata": {},
   "source": [
    "### 5.1 get list of assets"
   ]
  },
  {
   "cell_type": "code",
   "execution_count": 13,
   "metadata": {
    "scrolled": false
   },
   "outputs": [
    {
     "data": {
      "text/html": [
       "<HTML>\n",
       "        <body>\n",
       "            <h3>Available assets</h3>\n",
       "            <table style='border: 1px solid #dddddd; font-family: Courier'>\n",
       "                <th style='border: 1px solid #dddddd'>source_uid</th><th style='border: 1px solid #dddddd'>name</th><th style='border: 1px solid #dddddd'>created</th><th style='border: 1px solid #dddddd'>type</th><th style='border: 1px solid #dddddd'>frameworks</th><th style='border: 1px solid #dddddd'>binding_uid</th><th style='border: 1px solid #dddddd'>is_subscribed</th>\n",
       "                <tr><td style='border: 1px solid #dddddd'>5b2016f1-ad4e-47f5-af86-32497f372383</td><td style='border: 1px solid #dddddd'>sda-model-8-3-2020</td><td style='border: 1px solid #dddddd'>2020-08-03T13:16:53.002Z</td><td style='border: 1px solid #dddddd'>model</td><td style='border: 1px solid #dddddd'>mllib_2.3</td><td style='border: 1px solid #dddddd'>3f65b02c-ad55-4e51-bdf3-5bb87275cd04</td><td style='border: 1px solid #dddddd'>False</td></tr><tr><td style='border: 1px solid #dddddd'>5b2016f1-ad4e-47f5-af86-32497f372383</td><td style='border: 1px solid #dddddd'>sda-model-8-3-2020</td><td style='border: 1px solid #dddddd'>2020-08-03T13:16:53.002Z</td><td style='border: 1px solid #dddddd'>model</td><td style='border: 1px solid #dddddd'>mllib_2.3</td><td style='border: 1px solid #dddddd'>262c4a39-0b5c-4787-aba8-7e9efe495445</td><td style='border: 1px solid #dddddd'>False</td></tr><tr><td style='border: 1px solid #dddddd'>011da060-cb3b-4224-8bde-b15004fdab5b</td><td style='border: 1px solid #dddddd'>SANDHYA_MODEL</td><td style='border: 1px solid #dddddd'>2020-07-16T17:17:01.002Z</td><td style='border: 1px solid #dddddd'>model</td><td style='border: 1px solid #dddddd'>mllib_2.3</td><td style='border: 1px solid #dddddd'>3f65b02c-ad55-4e51-bdf3-5bb87275cd04</td><td style='border: 1px solid #dddddd'>True</td></tr><tr><td style='border: 1px solid #dddddd'>011da060-cb3b-4224-8bde-b15004fdab5b</td><td style='border: 1px solid #dddddd'>SANDHYA_MODEL</td><td style='border: 1px solid #dddddd'>2020-07-16T17:17:01.002Z</td><td style='border: 1px solid #dddddd'>model</td><td style='border: 1px solid #dddddd'>mllib_2.3</td><td style='border: 1px solid #dddddd'>262c4a39-0b5c-4787-aba8-7e9efe495445</td><td style='border: 1px solid #dddddd'>True</td></tr><tr><td style='border: 1px solid #dddddd'>011da060-cb3b-4224-8bde-b15004fdab5b</td><td style='border: 1px solid #dddddd'>SANDHYA_MODEL</td><td style='border: 1px solid #dddddd'>2020-07-16T17:17:01.002Z</td><td style='border: 1px solid #dddddd'>model</td><td style='border: 1px solid #dddddd'>mllib_2.3</td><td style='border: 1px solid #dddddd'>f58831a3-3816-4ae5-9552-93500b448475</td><td style='border: 1px solid #dddddd'>True</td></tr><tr><td style='border: 1px solid #dddddd'>011da060-cb3b-4224-8bde-b15004fdab5b</td><td style='border: 1px solid #dddddd'>SANDHYA_MODEL</td><td style='border: 1px solid #dddddd'>2020-07-16T17:17:01.002Z</td><td style='border: 1px solid #dddddd'>model</td><td style='border: 1px solid #dddddd'>mllib_2.3</td><td style='border: 1px solid #dddddd'>3c617b36-f0f6-406d-899a-2b7086356da7</td><td style='border: 1px solid #dddddd'>True</td></tr><tr><td style='border: 1px solid #dddddd'>1db1301e-42e2-4f67-ad37-58df6102d961</td><td style='border: 1px solid #dddddd'>Trading Customer Churn Prediction Model</td><td style='border: 1px solid #dddddd'>2020-07-13T22:30:40.002Z</td><td style='border: 1px solid #dddddd'>model</td><td style='border: 1px solid #dddddd'>mllib_2.3</td><td style='border: 1px solid #dddddd'>3f65b02c-ad55-4e51-bdf3-5bb87275cd04</td><td style='border: 1px solid #dddddd'>False</td></tr><tr><td style='border: 1px solid #dddddd'>1db1301e-42e2-4f67-ad37-58df6102d961</td><td style='border: 1px solid #dddddd'>Trading Customer Churn Prediction Model</td><td style='border: 1px solid #dddddd'>2020-07-13T22:30:40.002Z</td><td style='border: 1px solid #dddddd'>model</td><td style='border: 1px solid #dddddd'>mllib_2.3</td><td style='border: 1px solid #dddddd'>262c4a39-0b5c-4787-aba8-7e9efe495445</td><td style='border: 1px solid #dddddd'>False</td></tr><tr><td style='border: 1px solid #dddddd'>1db1301e-42e2-4f67-ad37-58df6102d961</td><td style='border: 1px solid #dddddd'>Trading Customer Churn Prediction Model</td><td style='border: 1px solid #dddddd'>2020-07-13T22:30:40.002Z</td><td style='border: 1px solid #dddddd'>model</td><td style='border: 1px solid #dddddd'>mllib_2.3</td><td style='border: 1px solid #dddddd'>f58831a3-3816-4ae5-9552-93500b448475</td><td style='border: 1px solid #dddddd'>False</td></tr><tr><td style='border: 1px solid #dddddd'>1db1301e-42e2-4f67-ad37-58df6102d961</td><td style='border: 1px solid #dddddd'>Trading Customer Churn Prediction Model</td><td style='border: 1px solid #dddddd'>2020-07-13T22:30:40.002Z</td><td style='border: 1px solid #dddddd'>model</td><td style='border: 1px solid #dddddd'>mllib_2.3</td><td style='border: 1px solid #dddddd'>3c617b36-f0f6-406d-899a-2b7086356da7</td><td style='border: 1px solid #dddddd'>False</td></tr><tr><td style='border: 1px solid #dddddd'>927d417e-59d8-4a76-bba3-72fc56a9e5ae</td><td style='border: 1px solid #dddddd'>my name Risk Model</td><td style='border: 1px solid #dddddd'>2020-07-09T22:01:36.002Z</td><td style='border: 1px solid #dddddd'>model</td><td style='border: 1px solid #dddddd'>mllib_2.3</td><td style='border: 1px solid #dddddd'>3f65b02c-ad55-4e51-bdf3-5bb87275cd04</td><td style='border: 1px solid #dddddd'>False</td></tr><tr><td style='border: 1px solid #dddddd'>927d417e-59d8-4a76-bba3-72fc56a9e5ae</td><td style='border: 1px solid #dddddd'>my name Risk Model</td><td style='border: 1px solid #dddddd'>2020-07-09T22:01:36.002Z</td><td style='border: 1px solid #dddddd'>model</td><td style='border: 1px solid #dddddd'>mllib_2.3</td><td style='border: 1px solid #dddddd'>262c4a39-0b5c-4787-aba8-7e9efe495445</td><td style='border: 1px solid #dddddd'>False</td></tr><tr><td style='border: 1px solid #dddddd'>44588fec-35d3-40fb-a4a4-0c8ea947b7e2</td><td style='border: 1px solid #dddddd'>SAMAYA 06-18 RISK MODEL</td><td style='border: 1px solid #dddddd'>2020-06-18T14:39:24.002Z</td><td style='border: 1px solid #dddddd'>model</td><td style='border: 1px solid #dddddd'>mllib_2.3</td><td style='border: 1px solid #dddddd'>405e817b-3715-453b-91a7-6a36186de087</td><td style='border: 1px solid #dddddd'>False</td></tr><tr><td style='border: 1px solid #dddddd'>44588fec-35d3-40fb-a4a4-0c8ea947b7e2</td><td style='border: 1px solid #dddddd'>SAMAYA 06-18 RISK MODEL</td><td style='border: 1px solid #dddddd'>2020-06-18T14:39:24.002Z</td><td style='border: 1px solid #dddddd'>model</td><td style='border: 1px solid #dddddd'>mllib_2.3</td><td style='border: 1px solid #dddddd'>8c569603-7483-46eb-b722-1652ea5a6d36</td><td style='border: 1px solid #dddddd'>False</td></tr><tr><td style='border: 1px solid #dddddd'>44588fec-35d3-40fb-a4a4-0c8ea947b7e2</td><td style='border: 1px solid #dddddd'>SAMAYA 06-18 RISK MODEL</td><td style='border: 1px solid #dddddd'>2020-06-18T14:39:24.002Z</td><td style='border: 1px solid #dddddd'>model</td><td style='border: 1px solid #dddddd'>mllib_2.3</td><td style='border: 1px solid #dddddd'>fb3a6090-36eb-412a-a465-6b4ecd1a3bd4</td><td style='border: 1px solid #dddddd'>False</td></tr><tr><td style='border: 1px solid #dddddd'>44588fec-35d3-40fb-a4a4-0c8ea947b7e2</td><td style='border: 1px solid #dddddd'>SAMAYA 06-18 RISK MODEL</td><td style='border: 1px solid #dddddd'>2020-06-18T14:39:24.002Z</td><td style='border: 1px solid #dddddd'>model</td><td style='border: 1px solid #dddddd'>mllib_2.3</td><td style='border: 1px solid #dddddd'>3ee275c9-1325-488b-93ec-23a07ad5d54a</td><td style='border: 1px solid #dddddd'>False</td></tr><tr><td style='border: 1px solid #dddddd'>44588fec-35d3-40fb-a4a4-0c8ea947b7e2</td><td style='border: 1px solid #dddddd'>SAMAYA 06-18 RISK MODEL</td><td style='border: 1px solid #dddddd'>2020-06-18T14:39:24.002Z</td><td style='border: 1px solid #dddddd'>model</td><td style='border: 1px solid #dddddd'>mllib_2.3</td><td style='border: 1px solid #dddddd'>69eeed33-8d5b-4c4c-950b-97dd7f1c4cca</td><td style='border: 1px solid #dddddd'>False</td></tr><tr><td style='border: 1px solid #dddddd'>44588fec-35d3-40fb-a4a4-0c8ea947b7e2</td><td style='border: 1px solid #dddddd'>SAMAYA 06-18 RISK MODEL</td><td style='border: 1px solid #dddddd'>2020-06-18T14:39:24.002Z</td><td style='border: 1px solid #dddddd'>model</td><td style='border: 1px solid #dddddd'>mllib_2.3</td><td style='border: 1px solid #dddddd'>d45d24c4-113a-470d-9669-2a39ed49faf5</td><td style='border: 1px solid #dddddd'>False</td></tr><tr><td style='border: 1px solid #dddddd'>44588fec-35d3-40fb-a4a4-0c8ea947b7e2</td><td style='border: 1px solid #dddddd'>SAMAYA 06-18 RISK MODEL</td><td style='border: 1px solid #dddddd'>2020-06-18T14:39:24.002Z</td><td style='border: 1px solid #dddddd'>model</td><td style='border: 1px solid #dddddd'>mllib_2.3</td><td style='border: 1px solid #dddddd'>507f0e58-5ac1-4f22-bf92-fe51747b1d18</td><td style='border: 1px solid #dddddd'>False</td></tr><tr><td style='border: 1px solid #dddddd'>80368053-d081-4a16-b023-1c888ec9b737</td><td style='border: 1px solid #dddddd'>MODEL_RISK_NEW_2</td><td style='border: 1px solid #dddddd'>2020-06-18T03:25:04.002Z</td><td style='border: 1px solid #dddddd'>model</td><td style='border: 1px solid #dddddd'>mllib_2.3</td><td style='border: 1px solid #dddddd'>405e817b-3715-453b-91a7-6a36186de087</td><td style='border: 1px solid #dddddd'>False</td></tr><tr><td style='border: 1px solid #dddddd'>80368053-d081-4a16-b023-1c888ec9b737</td><td style='border: 1px solid #dddddd'>MODEL_RISK_NEW_2</td><td style='border: 1px solid #dddddd'>2020-06-18T03:25:04.002Z</td><td style='border: 1px solid #dddddd'>model</td><td style='border: 1px solid #dddddd'>mllib_2.3</td><td style='border: 1px solid #dddddd'>8c569603-7483-46eb-b722-1652ea5a6d36</td><td style='border: 1px solid #dddddd'>False</td></tr><tr><td style='border: 1px solid #dddddd'>80368053-d081-4a16-b023-1c888ec9b737</td><td style='border: 1px solid #dddddd'>MODEL_RISK_NEW_2</td><td style='border: 1px solid #dddddd'>2020-06-18T03:25:04.002Z</td><td style='border: 1px solid #dddddd'>model</td><td style='border: 1px solid #dddddd'>mllib_2.3</td><td style='border: 1px solid #dddddd'>fb3a6090-36eb-412a-a465-6b4ecd1a3bd4</td><td style='border: 1px solid #dddddd'>False</td></tr><tr><td style='border: 1px solid #dddddd'>80368053-d081-4a16-b023-1c888ec9b737</td><td style='border: 1px solid #dddddd'>MODEL_RISK_NEW_2</td><td style='border: 1px solid #dddddd'>2020-06-18T03:25:04.002Z</td><td style='border: 1px solid #dddddd'>model</td><td style='border: 1px solid #dddddd'>mllib_2.3</td><td style='border: 1px solid #dddddd'>3ee275c9-1325-488b-93ec-23a07ad5d54a</td><td style='border: 1px solid #dddddd'>False</td></tr><tr><td style='border: 1px solid #dddddd'>80368053-d081-4a16-b023-1c888ec9b737</td><td style='border: 1px solid #dddddd'>MODEL_RISK_NEW_2</td><td style='border: 1px solid #dddddd'>2020-06-18T03:25:04.002Z</td><td style='border: 1px solid #dddddd'>model</td><td style='border: 1px solid #dddddd'>mllib_2.3</td><td style='border: 1px solid #dddddd'>69eeed33-8d5b-4c4c-950b-97dd7f1c4cca</td><td style='border: 1px solid #dddddd'>False</td></tr><tr><td style='border: 1px solid #dddddd'>80368053-d081-4a16-b023-1c888ec9b737</td><td style='border: 1px solid #dddddd'>MODEL_RISK_NEW_2</td><td style='border: 1px solid #dddddd'>2020-06-18T03:25:04.002Z</td><td style='border: 1px solid #dddddd'>model</td><td style='border: 1px solid #dddddd'>mllib_2.3</td><td style='border: 1px solid #dddddd'>d45d24c4-113a-470d-9669-2a39ed49faf5</td><td style='border: 1px solid #dddddd'>False</td></tr><tr><td style='border: 1px solid #dddddd'>80368053-d081-4a16-b023-1c888ec9b737</td><td style='border: 1px solid #dddddd'>MODEL_RISK_NEW_2</td><td style='border: 1px solid #dddddd'>2020-06-18T03:25:04.002Z</td><td style='border: 1px solid #dddddd'>model</td><td style='border: 1px solid #dddddd'>mllib_2.3</td><td style='border: 1px solid #dddddd'>507f0e58-5ac1-4f22-bf92-fe51747b1d18</td><td style='border: 1px solid #dddddd'>False</td></tr><tr><td style='border: 1px solid #dddddd'>f88dc4bd-2aae-4bfa-8233-7edc487e6df2</td><td style='border: 1px solid #dddddd'>MODEL_RISK</td><td style='border: 1px solid #dddddd'>2020-06-18T03:16:08.002Z</td><td style='border: 1px solid #dddddd'>model</td><td style='border: 1px solid #dddddd'>mllib_2.3</td><td style='border: 1px solid #dddddd'>405e817b-3715-453b-91a7-6a36186de087</td><td style='border: 1px solid #dddddd'>False</td></tr><tr><td style='border: 1px solid #dddddd'>f88dc4bd-2aae-4bfa-8233-7edc487e6df2</td><td style='border: 1px solid #dddddd'>MODEL_RISK</td><td style='border: 1px solid #dddddd'>2020-06-18T03:16:08.002Z</td><td style='border: 1px solid #dddddd'>model</td><td style='border: 1px solid #dddddd'>mllib_2.3</td><td style='border: 1px solid #dddddd'>8c569603-7483-46eb-b722-1652ea5a6d36</td><td style='border: 1px solid #dddddd'>False</td></tr><tr><td style='border: 1px solid #dddddd'>f88dc4bd-2aae-4bfa-8233-7edc487e6df2</td><td style='border: 1px solid #dddddd'>MODEL_RISK</td><td style='border: 1px solid #dddddd'>2020-06-18T03:16:08.002Z</td><td style='border: 1px solid #dddddd'>model</td><td style='border: 1px solid #dddddd'>mllib_2.3</td><td style='border: 1px solid #dddddd'>fb3a6090-36eb-412a-a465-6b4ecd1a3bd4</td><td style='border: 1px solid #dddddd'>False</td></tr><tr><td style='border: 1px solid #dddddd'>f88dc4bd-2aae-4bfa-8233-7edc487e6df2</td><td style='border: 1px solid #dddddd'>MODEL_RISK</td><td style='border: 1px solid #dddddd'>2020-06-18T03:16:08.002Z</td><td style='border: 1px solid #dddddd'>model</td><td style='border: 1px solid #dddddd'>mllib_2.3</td><td style='border: 1px solid #dddddd'>3ee275c9-1325-488b-93ec-23a07ad5d54a</td><td style='border: 1px solid #dddddd'>False</td></tr><tr><td style='border: 1px solid #dddddd'>f88dc4bd-2aae-4bfa-8233-7edc487e6df2</td><td style='border: 1px solid #dddddd'>MODEL_RISK</td><td style='border: 1px solid #dddddd'>2020-06-18T03:16:08.002Z</td><td style='border: 1px solid #dddddd'>model</td><td style='border: 1px solid #dddddd'>mllib_2.3</td><td style='border: 1px solid #dddddd'>69eeed33-8d5b-4c4c-950b-97dd7f1c4cca</td><td style='border: 1px solid #dddddd'>False</td></tr><tr><td style='border: 1px solid #dddddd'>f88dc4bd-2aae-4bfa-8233-7edc487e6df2</td><td style='border: 1px solid #dddddd'>MODEL_RISK</td><td style='border: 1px solid #dddddd'>2020-06-18T03:16:08.002Z</td><td style='border: 1px solid #dddddd'>model</td><td style='border: 1px solid #dddddd'>mllib_2.3</td><td style='border: 1px solid #dddddd'>d45d24c4-113a-470d-9669-2a39ed49faf5</td><td style='border: 1px solid #dddddd'>False</td></tr><tr><td style='border: 1px solid #dddddd'>f88dc4bd-2aae-4bfa-8233-7edc487e6df2</td><td style='border: 1px solid #dddddd'>MODEL_RISK</td><td style='border: 1px solid #dddddd'>2020-06-18T03:16:08.002Z</td><td style='border: 1px solid #dddddd'>model</td><td style='border: 1px solid #dddddd'>mllib_2.3</td><td style='border: 1px solid #dddddd'>507f0e58-5ac1-4f22-bf92-fe51747b1d18</td><td style='border: 1px solid #dddddd'>False</td></tr><tr><td style='border: 1px solid #dddddd'>336d9ef5-aa6e-42b1-bf8a-c41dbb0d9775</td><td style='border: 1px solid #dddddd'>SAMAYA-DRIFT_MODEL</td><td style='border: 1px solid #dddddd'>2020-06-16T05:31:52.002Z</td><td style='border: 1px solid #dddddd'>model</td><td style='border: 1px solid #dddddd'>mllib_2.3</td><td style='border: 1px solid #dddddd'>405e817b-3715-453b-91a7-6a36186de087</td><td style='border: 1px solid #dddddd'>True</td></tr><tr><td style='border: 1px solid #dddddd'>336d9ef5-aa6e-42b1-bf8a-c41dbb0d9775</td><td style='border: 1px solid #dddddd'>SAMAYA-DRIFT_MODEL</td><td style='border: 1px solid #dddddd'>2020-06-16T05:31:52.002Z</td><td style='border: 1px solid #dddddd'>model</td><td style='border: 1px solid #dddddd'>mllib_2.3</td><td style='border: 1px solid #dddddd'>8c569603-7483-46eb-b722-1652ea5a6d36</td><td style='border: 1px solid #dddddd'>True</td></tr><tr><td style='border: 1px solid #dddddd'>336d9ef5-aa6e-42b1-bf8a-c41dbb0d9775</td><td style='border: 1px solid #dddddd'>SAMAYA-DRIFT_MODEL</td><td style='border: 1px solid #dddddd'>2020-06-16T05:31:52.002Z</td><td style='border: 1px solid #dddddd'>model</td><td style='border: 1px solid #dddddd'>mllib_2.3</td><td style='border: 1px solid #dddddd'>fb3a6090-36eb-412a-a465-6b4ecd1a3bd4</td><td style='border: 1px solid #dddddd'>True</td></tr><tr><td style='border: 1px solid #dddddd'>336d9ef5-aa6e-42b1-bf8a-c41dbb0d9775</td><td style='border: 1px solid #dddddd'>SAMAYA-DRIFT_MODEL</td><td style='border: 1px solid #dddddd'>2020-06-16T05:31:52.002Z</td><td style='border: 1px solid #dddddd'>model</td><td style='border: 1px solid #dddddd'>mllib_2.3</td><td style='border: 1px solid #dddddd'>3ee275c9-1325-488b-93ec-23a07ad5d54a</td><td style='border: 1px solid #dddddd'>True</td></tr><tr><td style='border: 1px solid #dddddd'>336d9ef5-aa6e-42b1-bf8a-c41dbb0d9775</td><td style='border: 1px solid #dddddd'>SAMAYA-DRIFT_MODEL</td><td style='border: 1px solid #dddddd'>2020-06-16T05:31:52.002Z</td><td style='border: 1px solid #dddddd'>model</td><td style='border: 1px solid #dddddd'>mllib_2.3</td><td style='border: 1px solid #dddddd'>69eeed33-8d5b-4c4c-950b-97dd7f1c4cca</td><td style='border: 1px solid #dddddd'>True</td></tr><tr><td style='border: 1px solid #dddddd'>336d9ef5-aa6e-42b1-bf8a-c41dbb0d9775</td><td style='border: 1px solid #dddddd'>SAMAYA-DRIFT_MODEL</td><td style='border: 1px solid #dddddd'>2020-06-16T05:31:52.002Z</td><td style='border: 1px solid #dddddd'>model</td><td style='border: 1px solid #dddddd'>mllib_2.3</td><td style='border: 1px solid #dddddd'>d45d24c4-113a-470d-9669-2a39ed49faf5</td><td style='border: 1px solid #dddddd'>True</td></tr><tr><td style='border: 1px solid #dddddd'>336d9ef5-aa6e-42b1-bf8a-c41dbb0d9775</td><td style='border: 1px solid #dddddd'>SAMAYA-DRIFT_MODEL</td><td style='border: 1px solid #dddddd'>2020-06-16T05:31:52.002Z</td><td style='border: 1px solid #dddddd'>model</td><td style='border: 1px solid #dddddd'>mllib_2.3</td><td style='border: 1px solid #dddddd'>507f0e58-5ac1-4f22-bf92-fe51747b1d18</td><td style='border: 1px solid #dddddd'>True</td></tr><tr><td style='border: 1px solid #dddddd'>f4c467da-bc5b-4953-8518-968f3b8a0518</td><td style='border: 1px solid #dddddd'>SAMAYA-06-15-2_MODEL</td><td style='border: 1px solid #dddddd'>2020-06-16T03:16:33.002Z</td><td style='border: 1px solid #dddddd'>model</td><td style='border: 1px solid #dddddd'>mllib_2.3</td><td style='border: 1px solid #dddddd'>405e817b-3715-453b-91a7-6a36186de087</td><td style='border: 1px solid #dddddd'>False</td></tr><tr><td style='border: 1px solid #dddddd'>f4c467da-bc5b-4953-8518-968f3b8a0518</td><td style='border: 1px solid #dddddd'>SAMAYA-06-15-2_MODEL</td><td style='border: 1px solid #dddddd'>2020-06-16T03:16:33.002Z</td><td style='border: 1px solid #dddddd'>model</td><td style='border: 1px solid #dddddd'>mllib_2.3</td><td style='border: 1px solid #dddddd'>8c569603-7483-46eb-b722-1652ea5a6d36</td><td style='border: 1px solid #dddddd'>False</td></tr><tr><td style='border: 1px solid #dddddd'>f4c467da-bc5b-4953-8518-968f3b8a0518</td><td style='border: 1px solid #dddddd'>SAMAYA-06-15-2_MODEL</td><td style='border: 1px solid #dddddd'>2020-06-16T03:16:33.002Z</td><td style='border: 1px solid #dddddd'>model</td><td style='border: 1px solid #dddddd'>mllib_2.3</td><td style='border: 1px solid #dddddd'>fb3a6090-36eb-412a-a465-6b4ecd1a3bd4</td><td style='border: 1px solid #dddddd'>False</td></tr><tr><td style='border: 1px solid #dddddd'>f4c467da-bc5b-4953-8518-968f3b8a0518</td><td style='border: 1px solid #dddddd'>SAMAYA-06-15-2_MODEL</td><td style='border: 1px solid #dddddd'>2020-06-16T03:16:33.002Z</td><td style='border: 1px solid #dddddd'>model</td><td style='border: 1px solid #dddddd'>mllib_2.3</td><td style='border: 1px solid #dddddd'>3ee275c9-1325-488b-93ec-23a07ad5d54a</td><td style='border: 1px solid #dddddd'>False</td></tr><tr><td style='border: 1px solid #dddddd'>f4c467da-bc5b-4953-8518-968f3b8a0518</td><td style='border: 1px solid #dddddd'>SAMAYA-06-15-2_MODEL</td><td style='border: 1px solid #dddddd'>2020-06-16T03:16:33.002Z</td><td style='border: 1px solid #dddddd'>model</td><td style='border: 1px solid #dddddd'>mllib_2.3</td><td style='border: 1px solid #dddddd'>69eeed33-8d5b-4c4c-950b-97dd7f1c4cca</td><td style='border: 1px solid #dddddd'>False</td></tr><tr><td style='border: 1px solid #dddddd'>f4c467da-bc5b-4953-8518-968f3b8a0518</td><td style='border: 1px solid #dddddd'>SAMAYA-06-15-2_MODEL</td><td style='border: 1px solid #dddddd'>2020-06-16T03:16:33.002Z</td><td style='border: 1px solid #dddddd'>model</td><td style='border: 1px solid #dddddd'>mllib_2.3</td><td style='border: 1px solid #dddddd'>d45d24c4-113a-470d-9669-2a39ed49faf5</td><td style='border: 1px solid #dddddd'>False</td></tr><tr><td style='border: 1px solid #dddddd'>f4c467da-bc5b-4953-8518-968f3b8a0518</td><td style='border: 1px solid #dddddd'>SAMAYA-06-15-2_MODEL</td><td style='border: 1px solid #dddddd'>2020-06-16T03:16:33.002Z</td><td style='border: 1px solid #dddddd'>model</td><td style='border: 1px solid #dddddd'>mllib_2.3</td><td style='border: 1px solid #dddddd'>507f0e58-5ac1-4f22-bf92-fe51747b1d18</td><td style='border: 1px solid #dddddd'>False</td></tr><tr><td style='border: 1px solid #dddddd'>3f603c63-2891-40df-ae66-8df0e81c90c5</td><td style='border: 1px solid #dddddd'>SAMAYA-06-15_MODEL</td><td style='border: 1px solid #dddddd'>2020-06-15T22:49:17.002Z</td><td style='border: 1px solid #dddddd'>model</td><td style='border: 1px solid #dddddd'>mllib_2.3</td><td style='border: 1px solid #dddddd'>405e817b-3715-453b-91a7-6a36186de087</td><td style='border: 1px solid #dddddd'>False</td></tr><tr><td style='border: 1px solid #dddddd'>3f603c63-2891-40df-ae66-8df0e81c90c5</td><td style='border: 1px solid #dddddd'>SAMAYA-06-15_MODEL</td><td style='border: 1px solid #dddddd'>2020-06-15T22:49:17.002Z</td><td style='border: 1px solid #dddddd'>model</td><td style='border: 1px solid #dddddd'>mllib_2.3</td><td style='border: 1px solid #dddddd'>8c569603-7483-46eb-b722-1652ea5a6d36</td><td style='border: 1px solid #dddddd'>False</td></tr><tr><td style='border: 1px solid #dddddd'>3f603c63-2891-40df-ae66-8df0e81c90c5</td><td style='border: 1px solid #dddddd'>SAMAYA-06-15_MODEL</td><td style='border: 1px solid #dddddd'>2020-06-15T22:49:17.002Z</td><td style='border: 1px solid #dddddd'>model</td><td style='border: 1px solid #dddddd'>mllib_2.3</td><td style='border: 1px solid #dddddd'>fb3a6090-36eb-412a-a465-6b4ecd1a3bd4</td><td style='border: 1px solid #dddddd'>False</td></tr><tr><td style='border: 1px solid #dddddd'>3f603c63-2891-40df-ae66-8df0e81c90c5</td><td style='border: 1px solid #dddddd'>SAMAYA-06-15_MODEL</td><td style='border: 1px solid #dddddd'>2020-06-15T22:49:17.002Z</td><td style='border: 1px solid #dddddd'>model</td><td style='border: 1px solid #dddddd'>mllib_2.3</td><td style='border: 1px solid #dddddd'>3ee275c9-1325-488b-93ec-23a07ad5d54a</td><td style='border: 1px solid #dddddd'>False</td></tr><tr><td style='border: 1px solid #dddddd'>3f603c63-2891-40df-ae66-8df0e81c90c5</td><td style='border: 1px solid #dddddd'>SAMAYA-06-15_MODEL</td><td style='border: 1px solid #dddddd'>2020-06-15T22:49:17.002Z</td><td style='border: 1px solid #dddddd'>model</td><td style='border: 1px solid #dddddd'>mllib_2.3</td><td style='border: 1px solid #dddddd'>69eeed33-8d5b-4c4c-950b-97dd7f1c4cca</td><td style='border: 1px solid #dddddd'>False</td></tr><tr><td style='border: 1px solid #dddddd'>3f603c63-2891-40df-ae66-8df0e81c90c5</td><td style='border: 1px solid #dddddd'>SAMAYA-06-15_MODEL</td><td style='border: 1px solid #dddddd'>2020-06-15T22:49:17.002Z</td><td style='border: 1px solid #dddddd'>model</td><td style='border: 1px solid #dddddd'>mllib_2.3</td><td style='border: 1px solid #dddddd'>d45d24c4-113a-470d-9669-2a39ed49faf5</td><td style='border: 1px solid #dddddd'>False</td></tr><tr><td style='border: 1px solid #dddddd'>3f603c63-2891-40df-ae66-8df0e81c90c5</td><td style='border: 1px solid #dddddd'>SAMAYA-06-15_MODEL</td><td style='border: 1px solid #dddddd'>2020-06-15T22:49:17.002Z</td><td style='border: 1px solid #dddddd'>model</td><td style='border: 1px solid #dddddd'>mllib_2.3</td><td style='border: 1px solid #dddddd'>507f0e58-5ac1-4f22-bf92-fe51747b1d18</td><td style='border: 1px solid #dddddd'>False</td></tr><tr><td style='border: 1px solid #dddddd'>4414335f-fd76-4369-9ee7-caade5956459</td><td style='border: 1px solid #dddddd'>SAMAYA-06-14_MODEL</td><td style='border: 1px solid #dddddd'>2020-06-15T20:23:31.002Z</td><td style='border: 1px solid #dddddd'>model</td><td style='border: 1px solid #dddddd'>mllib_2.3</td><td style='border: 1px solid #dddddd'>405e817b-3715-453b-91a7-6a36186de087</td><td style='border: 1px solid #dddddd'>False</td></tr><tr><td style='border: 1px solid #dddddd'>4414335f-fd76-4369-9ee7-caade5956459</td><td style='border: 1px solid #dddddd'>SAMAYA-06-14_MODEL</td><td style='border: 1px solid #dddddd'>2020-06-15T20:23:31.002Z</td><td style='border: 1px solid #dddddd'>model</td><td style='border: 1px solid #dddddd'>mllib_2.3</td><td style='border: 1px solid #dddddd'>8c569603-7483-46eb-b722-1652ea5a6d36</td><td style='border: 1px solid #dddddd'>False</td></tr><tr><td style='border: 1px solid #dddddd'>4414335f-fd76-4369-9ee7-caade5956459</td><td style='border: 1px solid #dddddd'>SAMAYA-06-14_MODEL</td><td style='border: 1px solid #dddddd'>2020-06-15T20:23:31.002Z</td><td style='border: 1px solid #dddddd'>model</td><td style='border: 1px solid #dddddd'>mllib_2.3</td><td style='border: 1px solid #dddddd'>fb3a6090-36eb-412a-a465-6b4ecd1a3bd4</td><td style='border: 1px solid #dddddd'>False</td></tr><tr><td style='border: 1px solid #dddddd'>4414335f-fd76-4369-9ee7-caade5956459</td><td style='border: 1px solid #dddddd'>SAMAYA-06-14_MODEL</td><td style='border: 1px solid #dddddd'>2020-06-15T20:23:31.002Z</td><td style='border: 1px solid #dddddd'>model</td><td style='border: 1px solid #dddddd'>mllib_2.3</td><td style='border: 1px solid #dddddd'>3ee275c9-1325-488b-93ec-23a07ad5d54a</td><td style='border: 1px solid #dddddd'>False</td></tr><tr><td style='border: 1px solid #dddddd'>4414335f-fd76-4369-9ee7-caade5956459</td><td style='border: 1px solid #dddddd'>SAMAYA-06-14_MODEL</td><td style='border: 1px solid #dddddd'>2020-06-15T20:23:31.002Z</td><td style='border: 1px solid #dddddd'>model</td><td style='border: 1px solid #dddddd'>mllib_2.3</td><td style='border: 1px solid #dddddd'>69eeed33-8d5b-4c4c-950b-97dd7f1c4cca</td><td style='border: 1px solid #dddddd'>False</td></tr><tr><td style='border: 1px solid #dddddd'>4414335f-fd76-4369-9ee7-caade5956459</td><td style='border: 1px solid #dddddd'>SAMAYA-06-14_MODEL</td><td style='border: 1px solid #dddddd'>2020-06-15T20:23:31.002Z</td><td style='border: 1px solid #dddddd'>model</td><td style='border: 1px solid #dddddd'>mllib_2.3</td><td style='border: 1px solid #dddddd'>d45d24c4-113a-470d-9669-2a39ed49faf5</td><td style='border: 1px solid #dddddd'>False</td></tr><tr><td style='border: 1px solid #dddddd'>4414335f-fd76-4369-9ee7-caade5956459</td><td style='border: 1px solid #dddddd'>SAMAYA-06-14_MODEL</td><td style='border: 1px solid #dddddd'>2020-06-15T20:23:31.002Z</td><td style='border: 1px solid #dddddd'>model</td><td style='border: 1px solid #dddddd'>mllib_2.3</td><td style='border: 1px solid #dddddd'>507f0e58-5ac1-4f22-bf92-fe51747b1d18</td><td style='border: 1px solid #dddddd'>False</td></tr>\n",
       "            </table>\n",
       "        </body>\n",
       "        </HTML>"
      ],
      "text/plain": [
       "<IPython.core.display.HTML object>"
      ]
     },
     "metadata": {},
     "output_type": "display_data"
    }
   ],
   "source": [
    "ai_client.data_mart.bindings.list_assets()"
   ]
  },
  {
   "cell_type": "markdown",
   "metadata": {},
   "source": [
    "###  5.2 Action: Set the MODEL_NAME to your depoloyed mllib model below:"
   ]
  },
  {
   "cell_type": "code",
   "execution_count": 14,
   "metadata": {},
   "outputs": [],
   "source": [
    "MODEL_NAME = \"sda-model-8-3-2020\""
   ]
  },
  {
   "cell_type": "code",
   "execution_count": 15,
   "metadata": {},
   "outputs": [
    {
     "data": {
      "text/plain": [
       "{'entity': {'credentials': {'instance_id': 'openshift',\n",
       "   'password': '<redacted>',\n",
       "   'url': 'https://zen1-cpd-zen1.aida-cpd3-dal10-b3c32x128-f2c6cdc6801be85fd188b09d006f13e3-0001.us-south.containers.appdomain.cloud',\n",
       "   'username': 'samaya',\n",
       "   'version': '3.0.0'},\n",
       "  'instance_id': '405e817b-3715-453b-91a7-6a36186de087',\n",
       "  'name': 'WML instance',\n",
       "  'service_type': 'watson_machine_learning',\n",
       "  'status': {'state': 'active'}},\n",
       " 'metadata': {'guid': '405e817b-3715-453b-91a7-6a36186de087',\n",
       "  'url': '/v1/data_marts/00000000-0000-0000-0000-000000000000/service_bindings/405e817b-3715-453b-91a7-6a36186de087',\n",
       "  'created_at': '2020-06-15T16:26:24.549Z'}}"
      ]
     },
     "execution_count": 15,
     "metadata": {},
     "output_type": "execute_result"
    }
   ],
   "source": [
    "ai_client.data_mart.bindings.get_details(binding_uid)"
   ]
  },
  {
   "cell_type": "markdown",
   "metadata": {},
   "source": [
    "## 6.0 Subscriptions <a name=\"subscriptions\"></a>"
   ]
  },
  {
   "cell_type": "markdown",
   "metadata": {},
   "source": [
    "### Only if needed, remove existing credit risk subscriptions\n",
    "This code removes previous subscriptions to the Credit model to refresh the monitors with the new model and new data.\n",
    "This should not be needed and is only removed to cleanup a problem situation."
   ]
  },
  {
   "cell_type": "code",
   "execution_count": null,
   "metadata": {
    "scrolled": true
   },
   "outputs": [],
   "source": [
    "# subscriptions_uids = ai_client.data_mart.subscriptions.get_uids()\n",
    "# for subscription in subscriptions_uids:\n",
    "#    sub_name = ai_client.data_mart.subscriptions.get_details(subscription)['entity']['asset']['name']\n",
    "#    if sub_name == MODEL_NAME:\n",
    "#        ai_client.data_mart.subscriptions.delete(subscription)\n",
    "#        print('Deleted existing subscription for', MODEL_NAME)"
   ]
  },
  {
   "cell_type": "markdown",
   "metadata": {},
   "source": [
    "###  6.1 Get the list of deployment spaces and use the GUID to set the default_space"
   ]
  },
  {
   "cell_type": "code",
   "execution_count": 16,
   "metadata": {},
   "outputs": [
    {
     "name": "stdout",
     "output_type": "stream",
     "text": [
      "------------------------------------  ------------------------  ------------------------\n",
      "GUID                                  NAME                      CREATED\n",
      "3f2c0a53-e1bb-4e09-957d-d7b84c16a56f  scottda-deployment-space  2020-08-03T13:15:31.571Z\n",
      "------------------------------------  ------------------------  ------------------------\n"
     ]
    }
   ],
   "source": [
    "wml_client.spaces.list()"
   ]
  },
  {
   "cell_type": "markdown",
   "metadata": {},
   "source": [
    "### 6.2 Action: We'll use the `GUID` for your Deployment space as listed above to replace `******` for  the `default_space`  below:"
   ]
  },
  {
   "cell_type": "code",
   "execution_count": 17,
   "metadata": {},
   "outputs": [],
   "source": [
    "default_space = \"3f2c0a53-e1bb-4e09-957d-d7b84c16a56f\""
   ]
  },
  {
   "cell_type": "code",
   "execution_count": 18,
   "metadata": {},
   "outputs": [
    {
     "data": {
      "text/plain": [
       "'SUCCESS'"
      ]
     },
     "execution_count": 18,
     "metadata": {},
     "output_type": "execute_result"
    }
   ],
   "source": [
    "wml_client.set.default_space(default_space)"
   ]
  },
  {
   "cell_type": "code",
   "execution_count": 19,
   "metadata": {},
   "outputs": [
    {
     "name": "stdout",
     "output_type": "stream",
     "text": [
      "5b2016f1-ad4e-47f5-af86-32497f372383\n"
     ]
    }
   ],
   "source": [
    "wml_models = wml_client.repository.get_model_details()\n",
    "model_uid = None\n",
    "\n",
    "for model_in in wml_models['resources']:\n",
    "    if MODEL_NAME == model_in['entity']['name']:\n",
    "        model_uid = model_in['metadata']['guid']\n",
    "        break\n",
    "        \n",
    "print(model_uid)"
   ]
  },
  {
   "cell_type": "markdown",
   "metadata": {},
   "source": [
    "### 6.3 Action:  Set the DEPLOYMENT_NAME\n",
    "Use the name of the Deployment that is associated with your machine learning model"
   ]
  },
  {
   "cell_type": "code",
   "execution_count": 20,
   "metadata": {},
   "outputs": [
    {
     "name": "stdout",
     "output_type": "stream",
     "text": [
      "------------------------------------  ---------------------------------  -----  ------------------------  -------------\n",
      "GUID                                  NAME                               STATE  CREATED                   ARTIFACT_TYPE\n",
      "c3d1c135-9792-47bc-9719-946e42da306d  scottda-batch-deployment-8-3-2020  ready  2020-08-03T18:39:24.968Z  model\n",
      "d435943c-d802-4e3b-b34c-e0f42fa4ee52  scottda-model-deployment-8-3-2020  ready  2020-08-03T17:03:56.054Z  model\n",
      "------------------------------------  ---------------------------------  -----  ------------------------  -------------\n"
     ]
    }
   ],
   "source": [
    "wml_client.deployments.list()"
   ]
  },
  {
   "cell_type": "code",
   "execution_count": 21,
   "metadata": {},
   "outputs": [],
   "source": [
    "DEPLOYMENT_NAME = \"scottda-model-deployment-8-3-2020\""
   ]
  },
  {
   "cell_type": "code",
   "execution_count": 22,
   "metadata": {},
   "outputs": [
    {
     "name": "stdout",
     "output_type": "stream",
     "text": [
      "d435943c-d802-4e3b-b34c-e0f42fa4ee52\n"
     ]
    }
   ],
   "source": [
    "wml_deployments = wml_client.deployments.get_details()\n",
    "deployment_uid = None\n",
    "for deployment in wml_deployments['resources']:\n",
    "    if DEPLOYMENT_NAME == deployment['entity']['name']:\n",
    "        deployment_uid = deployment['metadata']['guid']\n",
    "        break\n",
    "        \n",
    "print(deployment_uid)"
   ]
  },
  {
   "cell_type": "markdown",
   "metadata": {},
   "source": [
    "## 6.3 This code creates the model subscription in OpenScale using the Python client API. \n",
    "> Note that we need to provide the model unique identifier,and some information about the model itself."
   ]
  },
  {
   "cell_type": "markdown",
   "metadata": {},
   "source": [
    "### Check to see if subscription already exists, and use it if it does"
   ]
  },
  {
   "cell_type": "code",
   "execution_count": 23,
   "metadata": {},
   "outputs": [
    {
     "name": "stdout",
     "output_type": "stream",
     "text": [
      "No subscription found. Run the cell below to add the subscription\n"
     ]
    }
   ],
   "source": [
    "subscription = None\n",
    "if subscription is None:\n",
    "    subscriptions_uids = ai_client.data_mart.subscriptions.get_uids()\n",
    "    for sub in subscriptions_uids:\n",
    "        if ai_client.data_mart.subscriptions.get_details(sub)['entity']['asset']['name'] == MODEL_NAME:\n",
    "            print(\"Found existing subscription\")\n",
    "            subscription = ai_client.data_mart.subscriptions.get(sub)\n",
    "    if subscription is None:\n",
    "        print(\"No subscription found. Run the cell below to add the subscription\")"
   ]
  },
  {
   "cell_type": "markdown",
   "metadata": {},
   "source": [
    "### If the subscription is not found, add it now"
   ]
  },
  {
   "cell_type": "code",
   "execution_count": 25,
   "metadata": {
    "scrolled": true
   },
   "outputs": [],
   "source": [
    "if subscription is None:\n",
    "    subscription = ai_client.data_mart.subscriptions.add(WatsonMachineLearningAsset(        \n",
    "        model_uid,\n",
    "        \n",
    "        problem_type=ProblemType.BINARY_CLASSIFICATION,\n",
    "        input_data_type=InputDataType.STRUCTURED,\n",
    "        label_column='Risk',\n",
    "        prediction_column='predictedLabel',\n",
    "        probability_column='probability',\n",
    "        feature_columns = [\"CheckingStatus\",\"LoanDuration\",\"CreditHistory\",\"LoanPurpose\",\"LoanAmount\",\"ExistingSavings\",\"EmploymentDuration\",\n",
    "                           \"InstallmentPercent\",\"Sex\",\"OthersOnLoan\",\"CurrentResidenceDuration\",\"OwnsProperty\",\"Age\",\"InstallmentPlans\",\"Housing\",\n",
    "                           \"ExistingCreditsCount\",\"Job\",\"Dependents\",\"Telephone\",\"ForeignWorker\"],\n",
    "        categorical_columns = [\"CheckingStatus\",\"CreditHistory\",\"LoanPurpose\",\"ExistingSavings\",\"EmploymentDuration\",\"Sex\",\"OthersOnLoan\",\n",
    "                           \"OwnsProperty\",\"InstallmentPlans\",\"Housing\",\"Job\",\"Telephone\",\"ForeignWorker\"]\n",
    "    ), deployment_uids=deployment_uid)"
   ]
  },
  {
   "cell_type": "markdown",
   "metadata": {},
   "source": [
    "Get subscription list"
   ]
  },
  {
   "cell_type": "code",
   "execution_count": 26,
   "metadata": {
    "scrolled": false
   },
   "outputs": [
    {
     "data": {
      "text/html": [
       "<HTML>\n",
       "        <body>\n",
       "            <h3>Subscriptions</h3>\n",
       "            <table style='border: 1px solid #dddddd; font-family: Courier'>\n",
       "                <th style='border: 1px solid #dddddd'>uid</th><th style='border: 1px solid #dddddd'>name</th><th style='border: 1px solid #dddddd'>type</th><th style='border: 1px solid #dddddd'>binding_uid</th><th style='border: 1px solid #dddddd'>created</th>\n",
       "                <tr><td style='border: 1px solid #dddddd'>f978ce05-e4f6-42b0-81b2-be06884cd358</td><td style='border: 1px solid #dddddd'>sda-model-8-3-2020</td><td style='border: 1px solid #dddddd'>model</td><td style='border: 1px solid #dddddd'>3f65b02c-ad55-4e51-bdf3-5bb87275cd04</td><td style='border: 1px solid #dddddd'>2020-08-04T11:41:26.677Z</td></tr><tr><td style='border: 1px solid #dddddd'>6d033614-d278-46e4-a8e6-7511839200df</td><td style='border: 1px solid #dddddd'>SANDHYA_MODEL</td><td style='border: 1px solid #dddddd'>model</td><td style='border: 1px solid #dddddd'>3f65b02c-ad55-4e51-bdf3-5bb87275cd04</td><td style='border: 1px solid #dddddd'>2020-07-16T17:19:15.345Z</td></tr><tr><td style='border: 1px solid #dddddd'>2ba77ee8-4bc0-4087-b913-e557594850a7</td><td style='border: 1px solid #dddddd'>my name Risk Model</td><td style='border: 1px solid #dddddd'>model</td><td style='border: 1px solid #dddddd'>3f65b02c-ad55-4e51-bdf3-5bb87275cd04</td><td style='border: 1px solid #dddddd'>2020-07-10T15:33:24.808Z</td></tr><tr><td style='border: 1px solid #dddddd'>c0feeb64-26d5-436d-806a-4954c3235bf0</td><td style='border: 1px solid #dddddd'>SAMAYA-DRIFT_MODEL</td><td style='border: 1px solid #dddddd'>model</td><td style='border: 1px solid #dddddd'>405e817b-3715-453b-91a7-6a36186de087</td><td style='border: 1px solid #dddddd'>2020-06-16T05:32:46.827Z</td></tr>\n",
       "            </table>\n",
       "        </body>\n",
       "        </HTML>"
      ],
      "text/plain": [
       "<IPython.core.display.HTML object>"
      ]
     },
     "metadata": {},
     "output_type": "display_data"
    }
   ],
   "source": [
    "subscriptions_uids = ai_client.data_mart.subscriptions.get_uids()\n",
    "ai_client.data_mart.subscriptions.list()"
   ]
  },
  {
   "cell_type": "code",
   "execution_count": 27,
   "metadata": {
    "scrolled": false
   },
   "outputs": [],
   "source": [
    "subscription_details = subscription.get_details()"
   ]
  },
  {
   "cell_type": "markdown",
   "metadata": {},
   "source": [
    "### 7.0 Score the model so we can configure monitors <a name=\"score\"></a>"
   ]
  },
  {
   "cell_type": "markdown",
   "metadata": {},
   "source": [
    "Now that the WML service has been bound and the subscription has been created, we need to send a request to the model before we configure OpenScale. This allows OpenScale to create a payload log in the datamart with the correct schema, so it can capture data coming into and out of the model. First, the code gets the model deployment's endpoint URL, and then sends a few records for predictions."
   ]
  },
  {
   "cell_type": "code",
   "execution_count": 28,
   "metadata": {
    "scrolled": true
   },
   "outputs": [
    {
     "name": "stdout",
     "output_type": "stream",
     "text": [
      "d435943c-d802-4e3b-b34c-e0f42fa4ee52\n",
      "https://zen1-cpd-zen1.aida-cpd3-dal10-b3c32x128-f2c6cdc6801be85fd188b09d006f13e3-0001.us-south.containers.appdomain.cloud/v4/deployments/d435943c-d802-4e3b-b34c-e0f42fa4ee52/predictions\n"
     ]
    }
   ],
   "source": [
    "credit_risk_scoring_endpoint = None\n",
    "print(deployment_uid)\n",
    "\n",
    "for deployment in wml_client.deployments.get_details()['resources']:\n",
    "    if deployment_uid in deployment['metadata']['guid']:\n",
    "        credit_risk_scoring_endpoint = deployment['entity']['status']['online_url']['url']\n",
    "        \n",
    "print(credit_risk_scoring_endpoint)"
   ]
  },
  {
   "cell_type": "code",
   "execution_count": 29,
   "metadata": {
    "scrolled": true
   },
   "outputs": [
    {
     "name": "stdout",
     "output_type": "stream",
     "text": [
      "Single record scoring result: \n",
      " fields: ['CheckingStatus', 'LoanDuration', 'CreditHistory', 'LoanPurpose', 'LoanAmount', 'ExistingSavings', 'EmploymentDuration', 'InstallmentPercent', 'Sex', 'OthersOnLoan', 'CurrentResidenceDuration', 'OwnsProperty', 'Age', 'InstallmentPlans', 'Housing', 'ExistingCreditsCount', 'Job', 'Dependents', 'Telephone', 'ForeignWorker', 'CheckingStatus_IX', 'CreditHistory_IX', 'LoanPurpose_IX', 'ExistingSavings_IX', 'EmploymentDuration_IX', 'Sex_IX', 'OthersOnLoan_IX', 'OwnsProperty_IX', 'InstallmentPlans_IX', 'Housing_IX', 'Job_IX', 'Telephone_IX', 'ForeignWorker_IX', 'features', 'rawPrediction', 'probability', 'prediction', 'predictedLabel'] \n",
      " values:  ['no_checking', 13, 'credits_paid_to_date', 'car_new', 1343, '100_to_500', '1_to_4', 2, 'female', 'none', 3, 'savings_insurance', 46, 'none', 'own', 2, 'skilled', 1, 'none', 'yes', 0.0, 1.0, 0.0, 1.0, 0.0, 1.0, 0.0, 0.0, 0.0, 0.0, 0.0, 0.0, 0.0, [20, [1, 3, 5, 13, 14, 15, 16, 17, 18, 19], [1.0, 1.0, 1.0, 13.0, 1343.0, 2.0, 3.0, 46.0, 2.0, 1.0]], [11.757111464703687, 8.242888535296313], [0.5878555732351843, 0.41214442676481566], 0.0, 'No Risk']\n"
     ]
    }
   ],
   "source": [
    "fields = [\"CheckingStatus\",\"LoanDuration\",\"CreditHistory\",\"LoanPurpose\",\"LoanAmount\",\"ExistingSavings\",\"EmploymentDuration\",\n",
    "                           \"InstallmentPercent\",\"Sex\",\"OthersOnLoan\",\"CurrentResidenceDuration\",\"OwnsProperty\",\"Age\",\"InstallmentPlans\",\"Housing\",\n",
    "                           \"ExistingCreditsCount\",\"Job\",\"Dependents\",\"Telephone\",\"ForeignWorker\"]\n",
    "values = [\n",
    "  [\"no_checking\",13,\"credits_paid_to_date\",\"car_new\",1343,\"100_to_500\",\"1_to_4\",2,\"female\",\"none\",3,\"savings_insurance\",46,\"none\",\"own\",2,\"skilled\",1,\"none\",\"yes\"],\n",
    "  [\"no_checking\",24,\"prior_payments_delayed\",\"furniture\",4567,\"500_to_1000\",\"1_to_4\",4,\"male\",\"none\",4,\"savings_insurance\",36,\"none\",\"free\",2,\"management_self-employed\",1,\"none\",\"yes\"],\n",
    "  [\"0_to_200\",26,\"all_credits_paid_back\",\"car_new\",863,\"less_100\",\"less_1\",2,\"female\",\"co-applicant\",2,\"real_estate\",38,\"none\",\"own\",1,\"skilled\",1,\"none\",\"yes\"],\n",
    "  [\"0_to_200\",14,\"no_credits\",\"car_new\",2368,\"less_100\",\"1_to_4\",3,\"female\",\"none\",3,\"real_estate\",29,\"none\",\"own\",1,\"skilled\",1,\"none\",\"yes\"],\n",
    "  [\"0_to_200\",4,\"no_credits\",\"car_new\",250,\"less_100\",\"unemployed\",2,\"female\",\"none\",3,\"real_estate\",23,\"none\",\"rent\",1,\"management_self-employed\",1,\"none\",\"yes\"],\n",
    "  [\"no_checking\",17,\"credits_paid_to_date\",\"car_new\",832,\"100_to_500\",\"1_to_4\",2,\"male\",\"none\",2,\"real_estate\",42,\"none\",\"own\",1,\"skilled\",1,\"none\",\"yes\"],\n",
    "  [\"no_checking\",33,\"outstanding_credit\",\"appliances\",5696,\"unknown\",\"greater_7\",4,\"male\",\"co-applicant\",4,\"unknown\",54,\"none\",\"free\",2,\"skilled\",1,\"yes\",\"yes\"],\n",
    "  [\"0_to_200\",13,\"prior_payments_delayed\",\"retraining\",1375,\"100_to_500\",\"4_to_7\",3,\"male\",\"none\",3,\"real_estate\",37,\"none\",\"own\",2,\"management_self-employed\",1,\"none\",\"yes\"]\n",
    "]\n",
    "\n",
    "payload_scoring = {\"fields\": fields,\"values\": values}\n",
    "payload = {\n",
    "    wml_client.deployments.ScoringMetaNames.INPUT_DATA: [payload_scoring]\n",
    "}\n",
    "scoring_response = wml_client.deployments.score(deployment_uid, payload)\n",
    "\n",
    "print('Single record scoring result:', '\\n fields:', scoring_response['predictions'][0]['fields'], '\\n values: ', scoring_response['predictions'][0]['values'][0])"
   ]
  },
  {
   "cell_type": "markdown",
   "metadata": {},
   "source": [
    "## 8.0 Store the variables <a name=\"store\"></a>\n",
    "### This will store the important variables for use in future notebooks"
   ]
  },
  {
   "cell_type": "code",
   "execution_count": 30,
   "metadata": {},
   "outputs": [
    {
     "name": "stdout",
     "output_type": "stream",
     "text": [
      "Stored 'MODEL_NAME' (str)\n",
      "Stored 'DEPLOYMENT_NAME' (str)\n",
      "Stored 'DEFAULT_SPACE' (str)\n",
      "Stored 'model_uid' (str)\n",
      "Stored 'binding_uid' (str)\n"
     ]
    }
   ],
   "source": [
    "DEFAULT_SPACE = default_space \n",
    "\n",
    "%store MODEL_NAME\n",
    "%store DEPLOYMENT_NAME\n",
    "%store DEFAULT_SPACE\n",
    "%store model_uid\n",
    "%store binding_uid"
   ]
  }
 ],
 "metadata": {
  "kernelspec": {
   "display_name": "Python 3.6",
   "language": "python",
   "name": "python3"
  },
  "language_info": {
   "codemirror_mode": {
    "name": "ipython",
    "version": 3
   },
   "file_extension": ".py",
   "mimetype": "text/x-python",
   "name": "python",
   "nbconvert_exporter": "python",
   "pygments_lexer": "ipython3",
   "version": "3.6.10"
  }
 },
 "nbformat": 4,
 "nbformat_minor": 1
}
