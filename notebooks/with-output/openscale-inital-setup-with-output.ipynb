{
 "cells": [
  {
   "cell_type": "markdown",
   "metadata": {},
   "source": [
    "<img src=\"https://github.com/pmservice/ai-openscale-tutorials/raw/master/notebooks/images/banner.png\" align=\"left\" alt=\"banner\">"
   ]
  },
  {
   "cell_type": "markdown",
   "metadata": {},
   "source": [
    "# Working with Watson OpenScale"
   ]
  },
  {
   "cell_type": "markdown",
   "metadata": {},
   "source": [
    "The notebook will configure OpenScale to monitor a machine learning deployment."
   ]
  },
  {
   "cell_type": "markdown",
   "metadata": {},
   "source": [
    "### Contents\n",
    "\n",
    "- [1.0 Install Python Packages](#setup)\n",
    "- [2.0 Configure Credentials](#credentials)\n",
    "- [3.0 OpenScale configuration](#openscale)\n",
    "- [4.0 Create Datamart](#datamart)\n",
    "- [5.0 Bind Machine Learning engines](#bind)\n",
    "- [6.0 Check and setup subscriptions](#subscriptions)\n",
    "- [7.0 Score the model](#score)\n",
    "- [8.0 Store the variables](#store)"
   ]
  },
  {
   "cell_type": "markdown",
   "metadata": {},
   "source": [
    "# 1.0 Install Python Packages <a name=setup></a>"
   ]
  },
  {
   "cell_type": "code",
   "execution_count": null,
   "metadata": {},
   "outputs": [],
   "source": [
    "!rm -rf /home/spark/shared/user-libs/python3.6*\n",
    "\n",
    "!pip install --upgrade ibm-ai-openscale==2.2.1 --no-cache | tail -n 1\n",
    "!pip install --upgrade watson-machine-learning-client-V4==1.0.55 | tail -n 1"
   ]
  },
  {
   "cell_type": "markdown",
   "metadata": {},
   "source": [
    "### Action: restart the kernel!"
   ]
  },
  {
   "cell_type": "markdown",
   "metadata": {},
   "source": [
    "# 2 .0 Configure credentials <a name=\"credentials\"></a>"
   ]
  },
  {
   "cell_type": "code",
   "execution_count": 1,
   "metadata": {},
   "outputs": [],
   "source": [
    "import warnings\n",
    "warnings.filterwarnings('ignore')"
   ]
  },
  {
   "cell_type": "markdown",
   "metadata": {},
   "source": [
    "### The url for `WOS_CREDENTIALS` is the url of the Cloud Pak for Data cluster, i.e. `https://zen-cpd-zen.apps.com`. `username` and `password` are the credentials used to log in to the Cloud Pak for Data cluster."
   ]
  },
  {
   "cell_type": "code",
   "execution_count": 2,
   "metadata": {},
   "outputs": [],
   "source": [
    "WOS_CREDENTIALS = {\n",
    "    \"url\": \"https://zen-cpd-zen.omid-cp4d-v5-2bef1f4b4097001da9502000c44fc2b2-0001.us-south.containers.appdomain.cloud\",\n",
    "    \"username\": \"******\",\n",
    "    \"password\": \"******\"\n",
    "}"
   ]
  },
  {
   "cell_type": "code",
   "execution_count": 3,
   "metadata": {},
   "outputs": [],
   "source": [
    "WML_CREDENTIALS = WOS_CREDENTIALS.copy()\n",
    "WML_CREDENTIALS['instance_id']='openshift'\n",
    "WML_CREDENTIALS['version']='2.5.0'"
   ]
  },
  {
   "cell_type": "markdown",
   "metadata": {},
   "source": [
    "The `DATABASE_CREDENTIALS` will be provided for you."
   ]
  },
  {
   "cell_type": "code",
   "execution_count": 4,
   "metadata": {},
   "outputs": [],
   "source": [
    "DATABASE_CREDENTIALS = {\n",
    "  ***\n",
    "  ***\n",
    "}\n"
   ]
  },
  {
   "cell_type": "code",
   "execution_count": 5,
   "metadata": {},
   "outputs": [],
   "source": [
    "SCHEMA_NAME = \"NEWMANUALCONFIG\""
   ]
  },
  {
   "cell_type": "markdown",
   "metadata": {},
   "source": [
    "# 3.0 Configure OpenScale <a name=\"openscale\"></a>"
   ]
  },
  {
   "cell_type": "markdown",
   "metadata": {},
   "source": [
    "The notebook will now import the necessary libraries and configure OpenScale"
   ]
  },
  {
   "cell_type": "code",
   "execution_count": 6,
   "metadata": {},
   "outputs": [],
   "source": [
    "from watson_machine_learning_client import WatsonMachineLearningAPIClient\n",
    "import json\n",
    "\n",
    "wml_client = WatsonMachineLearningAPIClient(WML_CREDENTIALS)"
   ]
  },
  {
   "cell_type": "code",
   "execution_count": 7,
   "metadata": {},
   "outputs": [],
   "source": [
    "from ibm_ai_openscale import APIClient4ICP\n",
    "from ibm_ai_openscale.engines import *\n",
    "from ibm_ai_openscale.utils import *\n",
    "from ibm_ai_openscale.supporting_classes import PayloadRecord, Feature\n",
    "from ibm_ai_openscale.supporting_classes.enums import *"
   ]
  },
  {
   "cell_type": "code",
   "execution_count": 8,
   "metadata": {},
   "outputs": [
    {
     "data": {
      "text/plain": [
       "'2.2.1'"
      ]
     },
     "execution_count": 8,
     "metadata": {},
     "output_type": "execute_result"
    }
   ],
   "source": [
    "ai_client = APIClient4ICP(WOS_CREDENTIALS)\n",
    "ai_client.version"
   ]
  },
  {
   "cell_type": "markdown",
   "metadata": {},
   "source": [
    "# 4.0 Create datamart <a name=\"datamart\"></a>"
   ]
  },
  {
   "cell_type": "markdown",
   "metadata": {},
   "source": [
    "## 4.1 Set up datamart"
   ]
  },
  {
   "cell_type": "markdown",
   "metadata": {},
   "source": [
    "Watson OpenScale uses a database to store payload logs and calculated metrics. If an OpenScale datamart exists in Db2, the existing datamart will be used and no data will be overwritten.\n",
    "\n",
    "Prior instances of the Credit model will be removed from OpenScale monitoring."
   ]
  },
  {
   "cell_type": "code",
   "execution_count": 9,
   "metadata": {},
   "outputs": [
    {
     "name": "stdout",
     "output_type": "stream",
     "text": [
      "Using existing external datamart\n"
     ]
    }
   ],
   "source": [
    "try:\n",
    "    data_mart_details = ai_client.data_mart.get_details()\n",
    "    print('Using existing external datamart')\n",
    "except:\n",
    "    print('Setting up external datamart')\n",
    "    ai_client.data_mart.setup(db_credentials=DATABASE_CREDENTIALS, schema=SCHEMA_NAME)"
   ]
  },
  {
   "cell_type": "code",
   "execution_count": 10,
   "metadata": {
    "scrolled": true
   },
   "outputs": [
    {
     "data": {
      "text/plain": [
       "{'database_configuration': {'credentials': {'db': 'BLUDB',\n",
       "   'db_type': 'db2',\n",
       "   'hostname': 'dashdb-txn-flex-yp-dal09-168.services.dal.bluemix.net',\n",
       "   'password': '******',\n",
       "   'port': 50000,\n",
       "   'username': 'bluadmin'},\n",
       "  'database_type': 'db2',\n",
       "  'location': {'schema': 'AIOSFASTPATHICP'},\n",
       "  'name': 'db2'},\n",
       " 'internal_database': False,\n",
       " 'service_instance_crn': 'N/A',\n",
       " 'status': {'state': 'active'}}"
      ]
     },
     "execution_count": 10,
     "metadata": {},
     "output_type": "execute_result"
    }
   ],
   "source": [
    "data_mart_details"
   ]
  },
  {
   "cell_type": "markdown",
   "metadata": {},
   "source": [
    "## 5.0  Bind machine learning engines <a name=\"bind\"></a>"
   ]
  },
  {
   "cell_type": "markdown",
   "metadata": {},
   "source": [
    "Watson OpenScale needs to be bound to the Watson Machine Learning instance to capture payload data into and out of the model. "
   ]
  },
  {
   "cell_type": "markdown",
   "metadata": {},
   "source": [
    "### Create the binding if it doesn't already exist."
   ]
  },
  {
   "cell_type": "code",
   "execution_count": 11,
   "metadata": {},
   "outputs": [
    {
     "data": {
      "text/plain": [
       "'999'"
      ]
     },
     "execution_count": 11,
     "metadata": {},
     "output_type": "execute_result"
    }
   ],
   "source": [
    "binding_uid = None\n",
    "\n",
    "binding_uid = ai_client.data_mart.bindings.get_details()['service_bindings'][0]['metadata']['guid']\n",
    "if binding_uid is None:\n",
    "    binding_uid = ai_client.data_mart.bindings.add('WML instance', WatsonMachineLearningInstance4ICP(wml_credentials=WML_CREDENTIALS))\n",
    "    bindings_details = ai_client.data_mart.bindings.get_details()\n",
    "binding_uid"
   ]
  },
  {
   "cell_type": "code",
   "execution_count": 12,
   "metadata": {},
   "outputs": [
    {
     "data": {
      "text/html": [
       "<HTML>\n",
       "        <body>\n",
       "            <h3>Service bindings</h3>\n",
       "            <table style='border: 1px solid #dddddd; font-family: Courier'>\n",
       "                <th style='border: 1px solid #dddddd'>uid</th><th style='border: 1px solid #dddddd'>name</th><th style='border: 1px solid #dddddd'>service_type</th><th style='border: 1px solid #dddddd'>created</th>\n",
       "                <tr><td style='border: 1px solid #dddddd'>c5efdd19-0c21-4862-9949-98b23cbcf9c0</td><td style='border: 1px solid #dddddd'>WML instance</td><td style='border: 1px solid #dddddd'>watson_machine_learning</td><td style='border: 1px solid #dddddd'>2020-05-20T18:50:22.394Z</td></tr><tr><td style='border: 1px solid #dddddd'>ffcfd0d4-6a1a-41c2-9d45-2e84fd364a37</td><td style='border: 1px solid #dddddd'>WML instance</td><td style='border: 1px solid #dddddd'>watson_machine_learning</td><td style='border: 1px solid #dddddd'>2020-05-20T17:34:02.850Z</td></tr><tr><td style='border: 1px solid #dddddd'>999</td><td style='border: 1px solid #dddddd'>ICP WML Instance</td><td style='border: 1px solid #dddddd'>watson_machine_learning</td><td style='border: 1px solid #dddddd'>2020-04-14T20:32:36.897Z</td></tr>\n",
       "            </table>\n",
       "        </body>\n",
       "        </HTML>"
      ],
      "text/plain": [
       "<IPython.core.display.HTML object>"
      ]
     },
     "metadata": {},
     "output_type": "display_data"
    }
   ],
   "source": [
    "ai_client.data_mart.bindings.list()"
   ]
  },
  {
   "cell_type": "markdown",
   "metadata": {},
   "source": [
    "### 5.1 get list of assets"
   ]
  },
  {
   "cell_type": "code",
   "execution_count": 13,
   "metadata": {
    "scrolled": false
   },
   "outputs": [
    {
     "data": {
      "text/html": [
       "<HTML>\n",
       "        <body>\n",
       "            <h3>Available assets</h3>\n",
       "            <table style='border: 1px solid #dddddd; font-family: Courier'>\n",
       "                <th style='border: 1px solid #dddddd'>source_uid</th><th style='border: 1px solid #dddddd'>name</th><th style='border: 1px solid #dddddd'>created</th><th style='border: 1px solid #dddddd'>type</th><th style='border: 1px solid #dddddd'>frameworks</th><th style='border: 1px solid #dddddd'>binding_uid</th><th style='border: 1px solid #dddddd'>is_subscribed</th>\n",
       "                <tr><td style='border: 1px solid #dddddd'>1859b11e-7443-4918-9737-b8f8228c20c8</td><td style='border: 1px solid #dddddd'>sda-model-6-17-2020</td><td style='border: 1px solid #dddddd'>2020-06-17T17:16:12.002Z</td><td style='border: 1px solid #dddddd'>model</td><td style='border: 1px solid #dddddd'>mllib_2.3</td><td style='border: 1px solid #dddddd'>999</td><td style='border: 1px solid #dddddd'>False</td></tr><tr><td style='border: 1px solid #dddddd'>4ca96645-6381-47ae-8c3a-53f233d232c2</td><td style='border: 1px solid #dddddd'>CreditRiskAutoAIExperimentv1 - P4 GradientBoostingClassifierEstimator</td><td style='border: 1px solid #dddddd'>2020-05-20T14:23:40.002Z</td><td style='border: 1px solid #dddddd'>model</td><td style='border: 1px solid #dddddd'>wml-hybrid_0.1</td><td style='border: 1px solid #dddddd'>999</td><td style='border: 1px solid #dddddd'>False</td></tr><tr><td style='border: 1px solid #dddddd'>5f0dbd06-d915-42c6-bbe5-1aeef8196552</td><td style='border: 1px solid #dddddd'>CreditRiskSpark05192020v1</td><td style='border: 1px solid #dddddd'>2020-05-19T14:43:19.002Z</td><td style='border: 1px solid #dddddd'>model</td><td style='border: 1px solid #dddddd'>mllib_2.3</td><td style='border: 1px solid #dddddd'>999</td><td style='border: 1px solid #dddddd'>False</td></tr><tr><td style='border: 1px solid #dddddd'>c266d3bd-fea0-49af-87f0-77b4c07a5d30</td><td style='border: 1px solid #dddddd'>samaya Risk Model May 8</td><td style='border: 1px solid #dddddd'>2020-05-08T20:59:50.002Z</td><td style='border: 1px solid #dddddd'>model</td><td style='border: 1px solid #dddddd'>mllib_2.3</td><td style='border: 1px solid #dddddd'>999</td><td style='border: 1px solid #dddddd'>True</td></tr><tr><td style='border: 1px solid #dddddd'>cd2fa3e8-520e-4ad6-91c4-e4fd401c1ec4</td><td style='border: 1px solid #dddddd'>Demouser2Churnv1</td><td style='border: 1px solid #dddddd'>2020-05-08T13:26:36.002Z</td><td style='border: 1px solid #dddddd'>model</td><td style='border: 1px solid #dddddd'>mllib_2.3</td><td style='border: 1px solid #dddddd'>999</td><td style='border: 1px solid #dddddd'>False</td></tr><tr><td style='border: 1px solid #dddddd'>5bb357f7-0ac6-43f4-b8c1-798f7eaac787</td><td style='border: 1px solid #dddddd'>samaya Risk Model</td><td style='border: 1px solid #dddddd'>2020-05-06T19:00:20.002Z</td><td style='border: 1px solid #dddddd'>model</td><td style='border: 1px solid #dddddd'>mllib_2.3</td><td style='border: 1px solid #dddddd'>999</td><td style='border: 1px solid #dddddd'>True</td></tr><tr><td style='border: 1px solid #dddddd'>62510199-edb8-4789-b28c-d9f92eb6ddfa</td><td style='border: 1px solid #dddddd'>scottda model 5-6-2020</td><td style='border: 1px solid #dddddd'>2020-05-06T15:49:51.002Z</td><td style='border: 1px solid #dddddd'>model</td><td style='border: 1px solid #dddddd'>mllib_2.3</td><td style='border: 1px solid #dddddd'>999</td><td style='border: 1px solid #dddddd'>True</td></tr><tr><td style='border: 1px solid #dddddd'>62510199-edb8-4789-b28c-d9f92eb6ddfa</td><td style='border: 1px solid #dddddd'>scottda model 5-6-2020</td><td style='border: 1px solid #dddddd'>2020-05-06T15:49:51.002Z</td><td style='border: 1px solid #dddddd'>model</td><td style='border: 1px solid #dddddd'>mllib_2.3</td><td style='border: 1px solid #dddddd'>ffcfd0d4-6a1a-41c2-9d45-2e84fd364a37</td><td style='border: 1px solid #dddddd'>True</td></tr><tr><td style='border: 1px solid #dddddd'>62510199-edb8-4789-b28c-d9f92eb6ddfa</td><td style='border: 1px solid #dddddd'>scottda model 5-6-2020</td><td style='border: 1px solid #dddddd'>2020-05-06T15:49:51.002Z</td><td style='border: 1px solid #dddddd'>model</td><td style='border: 1px solid #dddddd'>mllib_2.3</td><td style='border: 1px solid #dddddd'>c5efdd19-0c21-4862-9949-98b23cbcf9c0</td><td style='border: 1px solid #dddddd'>True</td></tr><tr><td style='border: 1px solid #dddddd'>1b78e386-c90e-4d3c-8d6b-a3b57b1468f9</td><td style='border: 1px solid #dddddd'>scottda model 5-3-2020</td><td style='border: 1px solid #dddddd'>2020-05-04T17:39:21.002Z</td><td style='border: 1px solid #dddddd'>model</td><td style='border: 1px solid #dddddd'>mllib_2.3</td><td style='border: 1px solid #dddddd'>999</td><td style='border: 1px solid #dddddd'>True</td></tr><tr><td style='border: 1px solid #dddddd'>1b78e386-c90e-4d3c-8d6b-a3b57b1468f9</td><td style='border: 1px solid #dddddd'>scottda model 5-3-2020</td><td style='border: 1px solid #dddddd'>2020-05-04T17:39:21.002Z</td><td style='border: 1px solid #dddddd'>model</td><td style='border: 1px solid #dddddd'>mllib_2.3</td><td style='border: 1px solid #dddddd'>ffcfd0d4-6a1a-41c2-9d45-2e84fd364a37</td><td style='border: 1px solid #dddddd'>True</td></tr><tr><td style='border: 1px solid #dddddd'>1b78e386-c90e-4d3c-8d6b-a3b57b1468f9</td><td style='border: 1px solid #dddddd'>scottda model 5-3-2020</td><td style='border: 1px solid #dddddd'>2020-05-04T17:39:21.002Z</td><td style='border: 1px solid #dddddd'>model</td><td style='border: 1px solid #dddddd'>mllib_2.3</td><td style='border: 1px solid #dddddd'>c5efdd19-0c21-4862-9949-98b23cbcf9c0</td><td style='border: 1px solid #dddddd'>True</td></tr><tr><td style='border: 1px solid #dddddd'>59af0b20-f90b-474b-b576-39c34baf23a8</td><td style='border: 1px solid #dddddd'>JRTChurnSpark423v1</td><td style='border: 1px solid #dddddd'>2020-04-24T01:58:22.002Z</td><td style='border: 1px solid #dddddd'>model</td><td style='border: 1px solid #dddddd'>mllib_2.3</td><td style='border: 1px solid #dddddd'>999</td><td style='border: 1px solid #dddddd'>False</td></tr><tr><td style='border: 1px solid #dddddd'>14126c55-6bf9-42df-a45c-ee8836bacf4b</td><td style='border: 1px solid #dddddd'>test model by samaya </td><td style='border: 1px solid #dddddd'>2020-04-23T19:21:42.002Z</td><td style='border: 1px solid #dddddd'>model</td><td style='border: 1px solid #dddddd'>mllib_2.3</td><td style='border: 1px solid #dddddd'>999</td><td style='border: 1px solid #dddddd'>False</td></tr><tr><td style='border: 1px solid #dddddd'>5a204c53-22f3-4fdb-ba0c-52ff1f4b9c71</td><td style='border: 1px solid #dddddd'>Telco Customer Churn Analysis - P4 XGBClassifierEstimator</td><td style='border: 1px solid #dddddd'>2020-04-17T16:11:59.002Z</td><td style='border: 1px solid #dddddd'>model</td><td style='border: 1px solid #dddddd'>wml-hybrid_0.1</td><td style='border: 1px solid #dddddd'>999</td><td style='border: 1px solid #dddddd'>False</td></tr><tr><td style='border: 1px solid #dddddd'>6f85ceb3-2405-4866-87dc-c26e8319a124</td><td style='border: 1px solid #dddddd'>ChurnAutoAIExp04172020v1 - P4 XGBClassifierEstimator</td><td style='border: 1px solid #dddddd'>2020-04-16T23:40:30.002Z</td><td style='border: 1px solid #dddddd'>model</td><td style='border: 1px solid #dddddd'>wml-hybrid_0.1</td><td style='border: 1px solid #dddddd'>999</td><td style='border: 1px solid #dddddd'>False</td></tr><tr><td style='border: 1px solid #dddddd'>e4bcd60c-7c01-4329-a800-46790ac8bed0</td><td style='border: 1px solid #dddddd'>JRTChurnModel04172020v3</td><td style='border: 1px solid #dddddd'>2020-04-16T23:16:06.002Z</td><td style='border: 1px solid #dddddd'>model</td><td style='border: 1px solid #dddddd'>mllib_2.3</td><td style='border: 1px solid #dddddd'>999</td><td style='border: 1px solid #dddddd'>False</td></tr><tr><td style='border: 1px solid #dddddd'>bb54dc8e-01dc-46bd-bf1a-e09b74fdd1d6</td><td style='border: 1px solid #dddddd'>sda model 4-16-2020</td><td style='border: 1px solid #dddddd'>2020-04-16T22:13:50.002Z</td><td style='border: 1px solid #dddddd'>model</td><td style='border: 1px solid #dddddd'>mllib_2.3</td><td style='border: 1px solid #dddddd'>999</td><td style='border: 1px solid #dddddd'>True</td></tr><tr><td style='border: 1px solid #dddddd'>bb54dc8e-01dc-46bd-bf1a-e09b74fdd1d6</td><td style='border: 1px solid #dddddd'>sda model 4-16-2020</td><td style='border: 1px solid #dddddd'>2020-04-16T22:13:50.002Z</td><td style='border: 1px solid #dddddd'>model</td><td style='border: 1px solid #dddddd'>mllib_2.3</td><td style='border: 1px solid #dddddd'>ffcfd0d4-6a1a-41c2-9d45-2e84fd364a37</td><td style='border: 1px solid #dddddd'>True</td></tr><tr><td style='border: 1px solid #dddddd'>bb54dc8e-01dc-46bd-bf1a-e09b74fdd1d6</td><td style='border: 1px solid #dddddd'>sda model 4-16-2020</td><td style='border: 1px solid #dddddd'>2020-04-16T22:13:50.002Z</td><td style='border: 1px solid #dddddd'>model</td><td style='border: 1px solid #dddddd'>mllib_2.3</td><td style='border: 1px solid #dddddd'>c5efdd19-0c21-4862-9949-98b23cbcf9c0</td><td style='border: 1px solid #dddddd'>True</td></tr><tr><td style='border: 1px solid #dddddd'>67158df7-b383-4353-a5be-cd5980276c04</td><td style='border: 1px solid #dddddd'>GermanCreditRiskModelICP</td><td style='border: 1px solid #dddddd'>2020-04-14T20:32:38.002Z</td><td style='border: 1px solid #dddddd'>model</td><td style='border: 1px solid #dddddd'>mllib_2.3</td><td style='border: 1px solid #dddddd'>999</td><td style='border: 1px solid #dddddd'>True</td></tr>\n",
       "            </table>\n",
       "        </body>\n",
       "        </HTML>"
      ],
      "text/plain": [
       "<IPython.core.display.HTML object>"
      ]
     },
     "metadata": {},
     "output_type": "display_data"
    }
   ],
   "source": [
    "ai_client.data_mart.bindings.list_assets()"
   ]
  },
  {
   "cell_type": "markdown",
   "metadata": {},
   "source": [
    "###  5.2 Action: Set the MODEL_NAME to your depoloyed mllib model below:"
   ]
  },
  {
   "cell_type": "code",
   "execution_count": 14,
   "metadata": {},
   "outputs": [],
   "source": [
    "MODEL_NAME = \"sda-model-6-17-2020\""
   ]
  },
  {
   "cell_type": "code",
   "execution_count": 15,
   "metadata": {},
   "outputs": [
    {
     "data": {
      "text/plain": [
       "{'entity': {'credentials': {},\n",
       "  'instance_id': '999',\n",
       "  'name': 'ICP WML Instance',\n",
       "  'service_type': 'watson_machine_learning',\n",
       "  'status': {'state': 'active'}},\n",
       " 'metadata': {'guid': '999',\n",
       "  'url': '/v1/data_marts/00000000-0000-0000-0000-000000000000/service_bindings/999',\n",
       "  'created_at': '2020-04-14T20:32:36.897Z'}}"
      ]
     },
     "execution_count": 15,
     "metadata": {},
     "output_type": "execute_result"
    }
   ],
   "source": [
    "ai_client.data_mart.bindings.get_details(binding_uid)"
   ]
  },
  {
   "cell_type": "markdown",
   "metadata": {},
   "source": [
    "## 6.0 Subscriptions <a name=\"subscriptions\"></a>"
   ]
  },
  {
   "cell_type": "markdown",
   "metadata": {},
   "source": [
    "### Only if needed, remove existing credit risk subscriptions\n",
    "This code removes previous subscriptions to the Credit model to refresh the monitors with the new model and new data.\n",
    "This should not be needed and is only removed to cleanup a problem situation."
   ]
  },
  {
   "cell_type": "code",
   "execution_count": null,
   "metadata": {
    "scrolled": true
   },
   "outputs": [],
   "source": [
    "# subscriptions_uids = ai_client.data_mart.subscriptions.get_uids()\n",
    "# for subscription in subscriptions_uids:\n",
    "#    sub_name = ai_client.data_mart.subscriptions.get_details(subscription)['entity']['asset']['name']\n",
    "#    if sub_name == MODEL_NAME:\n",
    "#        ai_client.data_mart.subscriptions.delete(subscription)\n",
    "#        print('Deleted existing subscription for', MODEL_NAME)"
   ]
  },
  {
   "cell_type": "markdown",
   "metadata": {},
   "source": [
    "###  6.1 Get the list of deployment spaces and use the GUID to set the default_space"
   ]
  },
  {
   "cell_type": "code",
   "execution_count": 16,
   "metadata": {},
   "outputs": [
    {
     "name": "stdout",
     "output_type": "stream",
     "text": [
      "------------------------------------  ----------------------  ------------------------\n",
      "GUID                                  NAME                    CREATED\n",
      "2fd56c70-0907-445c-9957-62ce5b1e1065  ScottDAdeploymentSpace  2020-06-17T17:05:07.749Z\n",
      "d1c17f19-7b7c-4083-847e-7b0dbcee7fab  blart deployment space  2020-04-16T22:54:41.604Z\n",
      "------------------------------------  ----------------------  ------------------------\n"
     ]
    }
   ],
   "source": [
    "wml_client.spaces.list()"
   ]
  },
  {
   "cell_type": "markdown",
   "metadata": {},
   "source": [
    "### 6.2 Action: We'll use the `GUID` for your Deployment space as listed above to replace '******' for  the `default_space`  below:"
   ]
  },
  {
   "cell_type": "code",
   "execution_count": 17,
   "metadata": {},
   "outputs": [],
   "source": [
    "default_space = \"2fd56c70-0907-445c-9957-62ce5b1e1065\""
   ]
  },
  {
   "cell_type": "code",
   "execution_count": 18,
   "metadata": {},
   "outputs": [
    {
     "data": {
      "text/plain": [
       "'SUCCESS'"
      ]
     },
     "execution_count": 18,
     "metadata": {},
     "output_type": "execute_result"
    }
   ],
   "source": [
    "wml_client.set.default_space(default_space)"
   ]
  },
  {
   "cell_type": "code",
   "execution_count": 19,
   "metadata": {},
   "outputs": [
    {
     "name": "stdout",
     "output_type": "stream",
     "text": [
      "1859b11e-7443-4918-9737-b8f8228c20c8\n"
     ]
    }
   ],
   "source": [
    "wml_models = wml_client.repository.get_model_details()\n",
    "model_uid = None\n",
    "\n",
    "for model_in in wml_models['resources']:\n",
    "    if MODEL_NAME == model_in['entity']['name']:\n",
    "        model_uid = model_in['metadata']['guid']\n",
    "        break\n",
    "        \n",
    "print(model_uid)"
   ]
  },
  {
   "cell_type": "markdown",
   "metadata": {},
   "source": [
    "### 6.3 Action:  Set the DEPLOYMENT_NAME\n",
    "Use the name of the Deployment that is associated with your machine learning model"
   ]
  },
  {
   "cell_type": "code",
   "execution_count": 20,
   "metadata": {},
   "outputs": [],
   "source": [
    "DEPLOYMENT_NAME = \"sda-deployment-6-17-2020\""
   ]
  },
  {
   "cell_type": "code",
   "execution_count": 21,
   "metadata": {},
   "outputs": [
    {
     "name": "stdout",
     "output_type": "stream",
     "text": [
      "sda-deployment-6-17-2020\n",
      "8d1e7718-a378-422e-83f0-3bcbcc2baf34\n"
     ]
    }
   ],
   "source": [
    "wml_deployments = wml_client.deployments.get_details()\n",
    "deployment_uid = None\n",
    "for deployment in wml_deployments['resources']:\n",
    "    print(deployment['entity']['name'])\n",
    "    if DEPLOYMENT_NAME == deployment['entity']['name']:\n",
    "        deployment_uid = deployment['metadata']['guid']\n",
    "        break\n",
    "        \n",
    "print(deployment_uid)"
   ]
  },
  {
   "cell_type": "markdown",
   "metadata": {},
   "source": [
    "## 6.3 This code creates the model subscription in OpenScale using the Python client API. \n",
    "> Note that we need to provide the model unique identifier,and some information about the model itself."
   ]
  },
  {
   "cell_type": "markdown",
   "metadata": {},
   "source": [
    "### Check to see if subscription already exists, and use it if it does"
   ]
  },
  {
   "cell_type": "code",
   "execution_count": 23,
   "metadata": {},
   "outputs": [],
   "source": [
    "subscription = None\n",
    "if subscription is None:\n",
    "    subscriptions_uids = ai_client.data_mart.subscriptions.get_uids()\n",
    "    for sub in subscriptions_uids:\n",
    "        if ai_client.data_mart.subscriptions.get_details(sub)['entity']['asset']['name'] == MODEL_NAME:\n",
    "            print(\"Found existing subscription\")\n",
    "            subscription = ai_client.data_mart.subscriptions.get(sub)"
   ]
  },
  {
   "cell_type": "markdown",
   "metadata": {},
   "source": [
    "### If the subscription is not found, add it now"
   ]
  },
  {
   "cell_type": "code",
   "execution_count": 25,
   "metadata": {
    "scrolled": true
   },
   "outputs": [
    {
     "name": "stdout",
     "output_type": "stream",
     "text": [
      "Subscription not found. Add subscription now\n"
     ]
    }
   ],
   "source": [
    "if subscription is None:\n",
    "    print(\"Subscription not found. Add subscription now\")\n",
    "    subscription = ai_client.data_mart.subscriptions.add(WatsonMachineLearningAsset(        \n",
    "        model_uid,\n",
    "        problem_type=ProblemType.BINARY_CLASSIFICATION,\n",
    "        input_data_type=InputDataType.STRUCTURED,\n",
    "        label_column='Risk',\n",
    "        prediction_column='predictedLabel',\n",
    "        probability_column='probability',\n",
    "        feature_columns = ['CHECKINGSTATUS', 'LOANDURATION', 'CREDITHISTORY', 'LOANPURPOSE', 'LOANAMOUNT', 'EXISTINGSAVINGS', 'EMPLOYMENTDURATION',\n",
    "                           'INSTALLMENTPERCENT', 'SEX', 'OTHERSONLOAN', 'CURRENTRESIDENCEDURATION', 'OWNSPROPERTY', 'AGE', 'INSTALLMENTPLANS', 'HOUSING',\n",
    "                           'EXISTINGCREDITSCOUNT', 'JOB', 'DEPENDENTS', 'TELEPHONE', 'FOREIGNWORKER'],\n",
    "        categorical_columns = ['CHECKINGSTATUS', 'CREDITHISTORY', 'LOANPURPOSE', 'EXISTINGSAVINGS', 'EMPLOYMENTDURATION', 'SEX', 'OTHERSONLOAN',\n",
    "                               'OWNSPROPERTY', 'INSTALLMENTPLANS', 'HOUSING', 'JOB', 'TELEPHONE', 'FOREIGNWORKER']\n",
    "    ))\n"
   ]
  },
  {
   "cell_type": "markdown",
   "metadata": {},
   "source": [
    "Get subscription list"
   ]
  },
  {
   "cell_type": "code",
   "execution_count": 26,
   "metadata": {
    "scrolled": false
   },
   "outputs": [
    {
     "data": {
      "text/html": [
       "<HTML>\n",
       "        <body>\n",
       "            <h3>Subscriptions</h3>\n",
       "            <table style='border: 1px solid #dddddd; font-family: Courier'>\n",
       "                <th style='border: 1px solid #dddddd'>uid</th><th style='border: 1px solid #dddddd'>name</th><th style='border: 1px solid #dddddd'>type</th><th style='border: 1px solid #dddddd'>binding_uid</th><th style='border: 1px solid #dddddd'>created</th>\n",
       "                <tr><td style='border: 1px solid #dddddd'>78bc856c-ea78-40c0-9b9c-99c6ddc7f1a1</td><td style='border: 1px solid #dddddd'>sda-model-6-17-2020</td><td style='border: 1px solid #dddddd'>model</td><td style='border: 1px solid #dddddd'>999</td><td style='border: 1px solid #dddddd'>2020-06-17T18:11:15.502Z</td></tr><tr><td style='border: 1px solid #dddddd'>bfcf3a77-1835-47bc-a153-fe5ee16c368e</td><td style='border: 1px solid #dddddd'>samaya Risk Model May 8</td><td style='border: 1px solid #dddddd'>model</td><td style='border: 1px solid #dddddd'>999</td><td style='border: 1px solid #dddddd'>2020-05-08T21:02:50.670Z</td></tr><tr><td style='border: 1px solid #dddddd'>fe732c07-f552-4156-9ca3-519ac7e51b98</td><td style='border: 1px solid #dddddd'>samaya Risk Model</td><td style='border: 1px solid #dddddd'>model</td><td style='border: 1px solid #dddddd'>999</td><td style='border: 1px solid #dddddd'>2020-05-06T19:55:08.500Z</td></tr><tr><td style='border: 1px solid #dddddd'>b26435ea-dc27-4a71-ae79-3f79846f6725</td><td style='border: 1px solid #dddddd'>scottda model 5-6-2020</td><td style='border: 1px solid #dddddd'>model</td><td style='border: 1px solid #dddddd'>999</td><td style='border: 1px solid #dddddd'>2020-05-06T15:50:21.759Z</td></tr><tr><td style='border: 1px solid #dddddd'>d837def0-df65-47b9-aead-a4c0f829966b</td><td style='border: 1px solid #dddddd'>scottda model 5-3-2020</td><td style='border: 1px solid #dddddd'>model</td><td style='border: 1px solid #dddddd'>999</td><td style='border: 1px solid #dddddd'>2020-05-04T17:44:27.849Z</td></tr><tr><td style='border: 1px solid #dddddd'>efd50220-c9be-4e70-a090-07a31acce143</td><td style='border: 1px solid #dddddd'>sda model 4-16-2020</td><td style='border: 1px solid #dddddd'>model</td><td style='border: 1px solid #dddddd'>999</td><td style='border: 1px solid #dddddd'>2020-04-16T22:18:20.683Z</td></tr><tr><td style='border: 1px solid #dddddd'>65576d9d-ad82-47a4-9f80-be727f611c05</td><td style='border: 1px solid #dddddd'>GermanCreditRiskModelICP</td><td style='border: 1px solid #dddddd'>model</td><td style='border: 1px solid #dddddd'>999</td><td style='border: 1px solid #dddddd'>2020-04-14T20:34:31.556Z</td></tr>\n",
       "            </table>\n",
       "        </body>\n",
       "        </HTML>"
      ],
      "text/plain": [
       "<IPython.core.display.HTML object>"
      ]
     },
     "metadata": {},
     "output_type": "display_data"
    }
   ],
   "source": [
    "subscriptions_uids = ai_client.data_mart.subscriptions.get_uids()\n",
    "ai_client.data_mart.subscriptions.list()"
   ]
  },
  {
   "cell_type": "code",
   "execution_count": 27,
   "metadata": {
    "scrolled": false
   },
   "outputs": [],
   "source": [
    "subscription_details = subscription.get_details()"
   ]
  },
  {
   "cell_type": "markdown",
   "metadata": {},
   "source": [
    "### 7.0 Score the model so we can configure monitors <a name=\"score\"></a>"
   ]
  },
  {
   "cell_type": "markdown",
   "metadata": {},
   "source": [
    "Now that the WML service has been bound and the subscription has been created, we need to send a request to the model before we configure OpenScale. This allows OpenScale to create a payload log in the datamart with the correct schema, so it can capture data coming into and out of the model. First, the code gets the model deployment's endpoint URL, and then sends a few records for predictions."
   ]
  },
  {
   "cell_type": "code",
   "execution_count": null,
   "metadata": {
    "scrolled": true
   },
   "outputs": [],
   "source": [
    "credit_risk_scoring_endpoint = None\n",
    "print(deployment_uid)\n",
    "\n",
    "for deployment in wml_client.deployments.get_details()['resources']:\n",
    "    if deployment_uid in deployment['metadata']['guid']:\n",
    "        credit_risk_scoring_endpoint = deployment['entity']['status']['online_url']['url']\n",
    "        \n",
    "print(credit_risk_scoring_endpoint)"
   ]
  },
  {
   "cell_type": "code",
   "execution_count": 28,
   "metadata": {
    "scrolled": true
   },
   "outputs": [
    {
     "name": "stdout",
     "output_type": "stream",
     "text": [
      "Single record scoring result: \n",
      " fields: ['CHECKINGSTATUS', 'LOANDURATION', 'CREDITHISTORY', 'LOANPURPOSE', 'LOANAMOUNT', 'EXISTINGSAVINGS', 'EMPLOYMENTDURATION', 'INSTALLMENTPERCENT', 'SEX', 'OTHERSONLOAN', 'CURRENTRESIDENCEDURATION', 'OWNSPROPERTY', 'AGE', 'INSTALLMENTPLANS', 'HOUSING', 'EXISTINGCREDITSCOUNT', 'JOB', 'DEPENDENTS', 'TELEPHONE', 'FOREIGNWORKER', 'CHECKINGSTATUS_IX', 'CREDITHISTORY_IX', 'LOANPURPOSE_IX', 'EXISTINGSAVINGS_IX', 'EMPLOYMENTDURATION_IX', 'SEX_IX', 'OTHERSONLOAN_IX', 'OWNSPROPERTY_IX', 'INSTALLMENTPLANS_IX', 'HOUSING_IX', 'JOB_IX', 'TELEPHONE_IX', 'FOREIGNWORKER_IX', 'features', 'rawPrediction', 'probability', 'prediction', 'predictedLabel'] \n",
      " values:  ['no_checking', 13, 'credits_paid_to_date', 'car_new', 1343, '100_to_500', '1_to_4', 2, 'female', 'none', 3, 'savings_insurance', 46, 'none', 'own', 2, 'skilled', 1, 'none', 'yes', 0.0, 1.0, 0.0, 1.0, 0.0, 1.0, 0.0, 0.0, 0.0, 0.0, 0.0, 0.0, 0.0, [20, [1, 3, 5, 13, 14, 15, 16, 17, 18, 19], [1.0, 1.0, 1.0, 13.0, 1343.0, 2.0, 3.0, 46.0, 2.0, 1.0]], [13.530656133680257, 6.469343866319743], [0.6765328066840128, 0.32346719331598717], 0.0, 'No Risk']\n"
     ]
    }
   ],
   "source": [
    "fields = ['CHECKINGSTATUS', 'LOANDURATION', 'CREDITHISTORY', 'LOANPURPOSE', 'LOANAMOUNT', 'EXISTINGSAVINGS', 'EMPLOYMENTDURATION',\n",
    "                           'INSTALLMENTPERCENT', 'SEX', 'OTHERSONLOAN', 'CURRENTRESIDENCEDURATION', 'OWNSPROPERTY', 'AGE', 'INSTALLMENTPLANS', 'HOUSING',\n",
    "                           'EXISTINGCREDITSCOUNT', 'JOB', 'DEPENDENTS', 'TELEPHONE', 'FOREIGNWORKER']\n",
    "values = [\n",
    "  [\"no_checking\",13,\"credits_paid_to_date\",\"car_new\",1343,\"100_to_500\",\"1_to_4\",2,\"female\",\"none\",3,\"savings_insurance\",46,\"none\",\"own\",2,\"skilled\",1,\"none\",\"yes\"],\n",
    "  [\"no_checking\",24,\"prior_payments_delayed\",\"furniture\",4567,\"500_to_1000\",\"1_to_4\",4,\"male\",\"none\",4,\"savings_insurance\",36,\"none\",\"free\",2,\"management_self-employed\",1,\"none\",\"yes\"],\n",
    "  [\"0_to_200\",26,\"all_credits_paid_back\",\"car_new\",863,\"less_100\",\"less_1\",2,\"female\",\"co-applicant\",2,\"real_estate\",38,\"none\",\"own\",1,\"skilled\",1,\"none\",\"yes\"],\n",
    "  [\"0_to_200\",14,\"no_credits\",\"car_new\",2368,\"less_100\",\"1_to_4\",3,\"female\",\"none\",3,\"real_estate\",29,\"none\",\"own\",1,\"skilled\",1,\"none\",\"yes\"],\n",
    "  [\"0_to_200\",4,\"no_credits\",\"car_new\",250,\"less_100\",\"unemployed\",2,\"female\",\"none\",3,\"real_estate\",23,\"none\",\"rent\",1,\"management_self-employed\",1,\"none\",\"yes\"],\n",
    "  [\"no_checking\",17,\"credits_paid_to_date\",\"car_new\",832,\"100_to_500\",\"1_to_4\",2,\"male\",\"none\",2,\"real_estate\",42,\"none\",\"own\",1,\"skilled\",1,\"none\",\"yes\"],\n",
    "  [\"no_checking\",33,\"outstanding_credit\",\"appliances\",5696,\"unknown\",\"greater_7\",4,\"male\",\"co-applicant\",4,\"unknown\",54,\"none\",\"free\",2,\"skilled\",1,\"yes\",\"yes\"],\n",
    "  [\"0_to_200\",13,\"prior_payments_delayed\",\"retraining\",1375,\"100_to_500\",\"4_to_7\",3,\"male\",\"none\",3,\"real_estate\",37,\"none\",\"own\",2,\"management_self-employed\",1,\"none\",\"yes\"]\n",
    "]\n",
    "\n",
    "payload_scoring = {\"fields\": fields,\"values\": values}\n",
    "payload = {\n",
    "    wml_client.deployments.ScoringMetaNames.INPUT_DATA: [payload_scoring]\n",
    "}\n",
    "scoring_response = wml_client.deployments.score(deployment_uid, payload)\n",
    "\n",
    "print('Single record scoring result:', '\\n fields:', scoring_response['predictions'][0]['fields'], '\\n values: ', scoring_response['predictions'][0]['values'][0])"
   ]
  },
  {
   "cell_type": "markdown",
   "metadata": {},
   "source": [
    "## 8.0 Store the variables <a name=\"store\"></a>\n",
    "### This will store the important variables for use in future notebooks"
   ]
  },
  {
   "cell_type": "code",
   "execution_count": 29,
   "metadata": {},
   "outputs": [
    {
     "name": "stdout",
     "output_type": "stream",
     "text": [
      "Stored 'MODEL_NAME' (str)\n",
      "Stored 'DEPLOYMENT_NAME' (str)\n",
      "Stored 'DEFAULT_SPACE' (str)\n"
     ]
    }
   ],
   "source": [
    "DEFAULT_SPACE = default_space \n",
    "\n",
    "%store MODEL_NAME\n",
    "%store DEPLOYMENT_NAME\n",
    "%store DEFAULT_SPACE"
   ]
  }
 ],
 "metadata": {
  "kernelspec": {
   "display_name": "Python 3.6",
   "language": "python",
   "name": "python3"
  },
  "language_info": {
   "codemirror_mode": {
    "name": "ipython",
    "version": 3
   },
   "file_extension": ".py",
   "mimetype": "text/x-python",
   "name": "python",
   "nbconvert_exporter": "python",
   "pygments_lexer": "ipython3",
   "version": "3.6.8"
  }
 },
 "nbformat": 4,
 "nbformat_minor": 1
}
