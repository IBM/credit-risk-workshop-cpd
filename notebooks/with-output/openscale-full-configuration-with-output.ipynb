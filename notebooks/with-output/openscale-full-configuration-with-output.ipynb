{
 "cells": [
  {
   "cell_type": "markdown",
   "metadata": {},
   "source": [
    "<img src=\"https://github.com/pmservice/ai-openscale-tutorials/raw/master/notebooks/images/banner.png\" align=\"left\" alt=\"banner\">"
   ]
  },
  {
   "cell_type": "markdown",
   "metadata": {},
   "source": [
    "# Working with Watson Machine Learning"
   ]
  },
  {
   "cell_type": "markdown",
   "metadata": {},
   "source": [
    "The notebook will train, create and deploy a Credit Risk model, configure OpenScale to monitor that deployment, and inject seven days' worth of historical records and measurements for viewing in the OpenScale Insights dashboard."
   ]
  },
  {
   "cell_type": "markdown",
   "metadata": {},
   "source": [
    "### Contents\n",
    "\n",
    "- [Setup](#setup)\n",
    "- [Model building and deployment](#model)\n",
    "- [OpenScale configuration](#openscale)\n",
    "- [Quality monitor and feedback logging](#quality)\n",
    "- [Fairness, drift monitoring and explanations](#fairness)\n",
    "- [Custom monitors and metrics](#custom)\n",
    "- [Payload analytics](#analytics)\n",
    "- [Historical data](#historical)"
   ]
  },
  {
   "cell_type": "markdown",
   "metadata": {},
   "source": [
    "# 1.0 Setup <a name=\"setup\"></a>"
   ]
  },
  {
   "cell_type": "markdown",
   "metadata": {
    "collapsed": true
   },
   "source": [
    "## 1.1 Package installation"
   ]
  },
  {
   "cell_type": "code",
   "execution_count": 1,
   "metadata": {},
   "outputs": [],
   "source": [
    "from IPython.utils import io\n",
    "import warnings\n",
    "warnings.filterwarnings('ignore')"
   ]
  },
  {
   "cell_type": "code",
   "execution_count": 2,
   "metadata": {},
   "outputs": [
    {
     "name": "stdout",
     "output_type": "stream",
     "text": [
      "Requirement already up-to-date: numpy==1.19.2 in /home/wsuser/.local/lib/python3.7/site-packages (1.19.2)\n",
      "Requirement already satisfied, skipping upgrade: six>=1.5 in /opt/conda/envs/Python-3.7-main/lib/python3.7/site-packages (from python-dateutil>=2.6.1->pandas==0.25.3) (1.15.0)\n",
      "Requirement already satisfied, skipping upgrade: idna<3,>=2.5 in /opt/conda/envs/Python-3.7-main/lib/python3.7/site-packages (from requests==2.23) (2.9)\n",
      "Requirement already satisfied, skipping upgrade: numpy>=1.14.5 in /home/wsuser/.local/lib/python3.7/site-packages (from SciPy==1.5.2) (1.19.2)\n",
      "Requirement already satisfied, skipping upgrade: decorator>=4.3.0 in /opt/conda/envs/Python-3.7-main/lib/python3.7/site-packages (from networkx>=2.0->scikit-image>=0.12->lime==0.2.0.1) (4.4.2)\n",
      "Requirement already satisfied, skipping upgrade: kiwisolver>=1.0.1 in /opt/conda/envs/Python-3.7-main/lib/python3.7/site-packages (from matplotlib->mpld3->pixiedust==1.1.18) (1.2.0)\n",
      "Requirement already satisfied, skipping upgrade: py4j==0.10.7 in /home/wsuser/.local/lib/python3.7/site-packages (from pyspark==2.4.0) (0.10.7)\n",
      "Requirement already satisfied, skipping upgrade: six>=1.5 in /opt/conda/envs/Python-3.7-main/lib/python3.7/site-packages (from python-dateutil>=2.5.3->ibm-cloud-sdk-core==3.3.0) (1.15.0)\n",
      "Requirement already satisfied, skipping upgrade: docutils<0.16,>=0.10 in /opt/conda/envs/Python-3.7-main/lib/python3.7/site-packages (from ibm-cos-sdk-core==2.7.0->ibm-cos-sdk==2.7.*->ibm-watson-machine-learning==1.0.22) (0.15.2)\n",
      "Requirement already satisfied, skipping upgrade: PyJWT>=1.7.1 in /opt/conda/envs/Python-3.7-main/lib/python3.7/site-packages (from ibm-cloud-sdk-core>=1.5->ibm-watson-openscale==3.0.1) (1.7.1)\n",
      "\u001b[33mWARNING: Skipping watson-machine-learning-client as it is not installed.\u001b[0m\n",
      "\u001b[33mWARNING: Skipping watson-machine-learning-client-V4 as it is not installed.\u001b[0m\n"
     ]
    }
   ],
   "source": [
    "!rm -rf /home/spark/shared/user-libs/python3.6*\n",
    "\n",
    "!pip install --upgrade numpy==1.19.2 --user --no-cache | tail -n 1\n",
    "!pip install --upgrade pandas==0.25.3 --user --no-cache | tail -n 1\n",
    "!pip install --upgrade requests==2.23 --user --no-cache | tail -n 1\n",
    "!pip install --upgrade SciPy==1.5.2 --user --no-cache | tail -n 1\n",
    "!pip install --upgrade lime==0.2.0.1 --user --no-cache | tail -n 1\n",
    "!pip install --upgrade pixiedust==1.1.18 --user --no-cache | tail -n 1\n",
    "!pip install --upgrade pyspark==2.4.0 --user --no-cache | tail -n 1\n",
    "\n",
    "!pip install --upgrade ibm-cloud-sdk-core==3.3.0 --user --no-cache | tail -n 1\n",
    "!pip install --upgrade ibm-watson-machine-learning==1.0.22 --user --no-cache | tail -n 1\n",
    "!pip install --upgrade ibm-watson-openscale==3.0.1 --user --no-cache | tail -n 1\n",
    "\n",
    "!pip uninstall watson-machine-learning-client  -y | tail -n 1\n",
    "!pip uninstall watson-machine-learning-client-V4 -y | tail -n 1"
   ]
  },
  {
   "cell_type": "markdown",
   "metadata": {},
   "source": [
    "## 1.2 Configure credentials\n",
    "\n",
    "To authenticate the Watson Machine Learning service and Watson OpenScale on IBM Cloud, you need to provide a platform `api_key` and an endpoint URL. Where the endpoint URL is based on the `location` of the WML instance. To get these values you can use either the IBM Cloud CLI or the IBM Cloud UI.\n"
   ]
  },
  {
   "cell_type": "markdown",
   "metadata": {},
   "source": [
    "#### IBM Cloud CLI\n",
    "\n",
    "You can use the [IBM Cloud CLI](https://cloud.ibm.com/docs/cli/index.html) to create a platform API Key and retrieve your instance location.\n",
    "\n",
    "- To generate the Cloud API Key, run the following commands:\n",
    "```\n",
    "ibmcloud login\n",
    "ibmcloud iam api-key-create API_KEY_NAME\n",
    "```\n",
    "  - Copy the value of `api_key` from the output.\n",
    "\n",
    "\n",
    "- To retrieve the location of your WML instance, run the following commands:\n",
    "```\n",
    "ibmcloud login --apikey API_KEY -a https://cloud.ibm.com\n",
    "ibmcloud resource service-instance \"WML_INSTANCE_NAME\"\n",
    "```\n",
    "> Note: WML_INSTANCE_NAME is the name of your Watson Machine Learning instance and should be quoted in the command.\n",
    "\n",
    "  - Copy the value of `Location` from the output."
   ]
  },
  {
   "cell_type": "markdown",
   "metadata": {},
   "source": [
    "#### IBM Cloud UI\n",
    "\n",
    "To generate Cloud API key:\n",
    "- Go to the [**Users** section of the Cloud console](https://cloud.ibm.com/iam#/users). \n",
    "- From that page, click your name in the top right corner, scroll down to the **API Keys** section, and click **Create an IBM Cloud API key**. \n",
    "- Give your key a name and click **Create**, then copy the created key and to use it below.\n",
    "\n",
    "To retrieve the location of your WML instance:\n",
    "- Go to the [**Resources List** section of the Cloud console](https://cloud.ibm.com/resources).\n",
    "- From that page, expand the **Services** section and find your Watson Machine Learning Instance.\n",
    "- Based on the Location displayed in that page, select one of the following values for location variable:\n",
    "\n",
    "|Displayed Location|Location|\n",
    "|-|-|\n",
    "|Dallas|us-south|\n",
    "|London|eu-gb|\n",
    "|Frankfurt|eu-de|\n",
    "|Tokyo|jp-tok|\n"
   ]
  },
  {
   "cell_type": "code",
   "execution_count": 3,
   "metadata": {},
   "outputs": [],
   "source": [
    "CLOUD_API_KEY = \"xxxxxxxxxxxxxxxxxxxxxx\" #\"<INSERT-YOUR-CLOUD-API-KEY>\"\n",
    "WML_LOCATION = \"us-south\" #\"<INSERT-YOUR-WML-LOCATION>\" # example: us-south"
   ]
  },
  {
   "cell_type": "code",
   "execution_count": 4,
   "metadata": {},
   "outputs": [],
   "source": [
    "WML_CREDENTIALS = {\n",
    "    \"apikey\": CLOUD_API_KEY,\n",
    "    \"url\": \"https://\" + WML_LOCATION + \".ml.cloud.ibm.com\"\n",
    "}"
   ]
  },
  {
   "cell_type": "markdown",
   "metadata": {},
   "source": [
    "In next cells, you will need to paste credentials to Cloud Object Storage. If you haven't worked with COS yet please visit [getting started with COS tutorial](https://cloud.ibm.com/docs/cloud-object-storage?topic=cloud-object-storage-getting-started). \n",
    "- You can find COS_API_KEY_ID and COS_RESOURCE_CRN in the **Service Credentials** menu of your COS instance (copy the `apikey` and `resource_instance_id` respectively). The COS Service Credentials must be created with Role parameter set as Writer. \n",
    "- The COS_ENDPOINT variable can be found in Endpoint panel of your COS instance(Note: this is not the same as the `Endpoint` in the service credentials). From this page, click on one of the regions and copy the public endpoint.\n",
    "- The BUCKET_NAME can be anything you like as long as its globally unique. You an use the suggested value, appended with your initials and date.\n",
    "\n",
    "Later in the notebook, the training data file will be loaded to the bucket of your instance and used as training reference in subscription."
   ]
  },
  {
   "cell_type": "code",
   "execution_count": 13,
   "metadata": {},
   "outputs": [],
   "source": [
    "COS_API_KEY_ID = \"xxxxxxxxxxxxxxxxxxxxxxxxxx\" #\"<INSERT-YOUR-COS-API-KEY>\"\n",
    "COS_RESOURCE_CRN = \"crn:v1:bluemix:public:cloud-object-storage:global:a/xxxxxxxxxxxxxxxxxxxx:xxxxx-xxxx-xxxxxx-xxxxx-xxxxxxxxxx::\" # \"<INSERT-YOUR-COS-RESOURCE-CRN>\"\n",
    "COS_ENDPOINT = \"https://s3.us.cloud-object-storage.appdomain.cloud\" #\"<INSERT-YOUR-COS-ENDPOINT>\" #Example: \"https://s3.us.cloud-object-storage.appdomain.cloud\"\n",
    "\n",
    "BUCKET_NAME = \"credit-risk-training-data-jrt1020-v2\" #\"<INSERT-YOUR-BUCKET-NAME>\" #Example: \"credit-risk-training-data-uniqueID\""
   ]
  },
  {
   "cell_type": "markdown",
   "metadata": {},
   "source": [
    "This tutorial can use Databases for PostgreSQL, Db2 Warehouse, or a free internal verison of PostgreSQL to create a datamart for OpenScale.\n",
    "\n",
    "If you have previously configured OpenScale, it will use your existing datamart, and not interfere with any models you are currently monitoring. If you do not have a paid Cloud account or would prefer not to provision this paid service, you may use the free internal PostgreSQL service with OpenScale. **Do not update the cell below.**\n",
    "\n",
    "To use an new Db2 Warehouse or Databases for PostgreSQL instance as the datamart. Provision the desired service via the Cloud catalog and create a set of credentials. Copy and paste the credentials from that service into the cell below. If you previously configured OpenScale to use the free internal version of PostgreSQL, you can switch to a new datamart using a paid database service. If you would like to delete the internal PostgreSQL configuration and create a new one using service credentials supplied in the cell above, set the KEEP_MY_INTERNAL_POSTGRES variable below to False below. In this case, the notebook will remove your existing internal PostgreSQL datamart and create a new one with the supplied credentials. ***NO DATA MIGRATION WILL OCCUR.***\n",
    "\n",
    "For most scenarios, leave the values as they are in the following cell."
   ]
  },
  {
   "cell_type": "code",
   "execution_count": 6,
   "metadata": {},
   "outputs": [],
   "source": [
    "DB_CREDENTIALS = None\n",
    "SCHEMA_NAME = None\n",
    "KEEP_MY_INTERNAL_POSTGRES = True"
   ]
  },
  {
   "cell_type": "markdown",
   "metadata": {},
   "source": [
    "## Run the notebook\n",
    "\n",
    "At this point, the notebook is ready to run. You can either run the cells one at a time, or click the **Kernel** option above and select **Restart and Run All** to run all the cells."
   ]
  },
  {
   "cell_type": "markdown",
   "metadata": {},
   "source": [
    "# 2.0 Model building and deployment <a name=\"model\"></a>"
   ]
  },
  {
   "cell_type": "markdown",
   "metadata": {},
   "source": [
    "In this section you will learn how to train Spark MLLib model and next deploy it as web-service using Watson Machine Learning service."
   ]
  },
  {
   "cell_type": "markdown",
   "metadata": {},
   "source": [
    "## 2.1 Load the training data"
   ]
  },
  {
   "cell_type": "code",
   "execution_count": 7,
   "metadata": {
    "scrolled": true
   },
   "outputs": [
    {
     "name": "stdout",
     "output_type": "stream",
     "text": [
      "-rw-r----- 1 wsuser watsonstudio 674K Oct 20 21:39 german_credit_data_biased_training.csv\r\n"
     ]
    }
   ],
   "source": [
    "!rm german_credit_data_biased_training.csv\n",
    "with io.capture_output() as captured:\n",
    "    !wget https://raw.githubusercontent.com/pmservice/ai-openscale-tutorials/master/assets/historical_data/german_credit_risk/wml/german_credit_data_biased_training.csv -O german_credit_data_biased_training.csv\n",
    "    \n",
    "!ls -lh german_credit_data_biased_training.csv"
   ]
  },
  {
   "cell_type": "code",
   "execution_count": 8,
   "metadata": {
    "scrolled": true
   },
   "outputs": [
    {
     "data": {
      "text/plain": [
       "Row(CheckingStatus='0_to_200', LoanDuration=31, CreditHistory='credits_paid_to_date', LoanPurpose='other', LoanAmount=1889, ExistingSavings='100_to_500', EmploymentDuration='less_1', InstallmentPercent=3, Sex='female', OthersOnLoan='none', CurrentResidenceDuration=3, OwnsProperty='savings_insurance', Age=32, InstallmentPlans='none', Housing='own', ExistingCreditsCount=1, Job='skilled', Dependents=1, Telephone='none', ForeignWorker='yes', Risk='No Risk')"
      ]
     },
     "execution_count": 8,
     "metadata": {},
     "output_type": "execute_result"
    }
   ],
   "source": [
    "from pyspark.sql import SparkSession\n",
    "import pandas as pd\n",
    "import json\n",
    "\n",
    "spark = SparkSession.builder.getOrCreate()\n",
    "training_data_file_name = \"german_credit_data_biased_training.csv\"\n",
    "pd_data = pd.read_csv(training_data_file_name, sep=\",\", header=0)\n",
    "df_data = spark.createDataFrame(pd_data)\n",
    "df_data.head()"
   ]
  },
  {
   "cell_type": "code",
   "execution_count": 9,
   "metadata": {
    "scrolled": true
   },
   "outputs": [
    {
     "name": "stdout",
     "output_type": "stream",
     "text": [
      "Number of records: 5000\n"
     ]
    }
   ],
   "source": [
    "print(\"Number of records: \" + str(df_data.count()))"
   ]
  },
  {
   "cell_type": "code",
   "execution_count": 10,
   "metadata": {},
   "outputs": [
    {
     "name": "stdout",
     "output_type": "stream",
     "text": [
      "Number of records for training: 4039\n",
      "Number of records for evaluation: 961\n",
      "root\n",
      " |-- CheckingStatus: string (nullable = true)\n",
      " |-- LoanDuration: long (nullable = true)\n",
      " |-- CreditHistory: string (nullable = true)\n",
      " |-- LoanPurpose: string (nullable = true)\n",
      " |-- LoanAmount: long (nullable = true)\n",
      " |-- ExistingSavings: string (nullable = true)\n",
      " |-- EmploymentDuration: string (nullable = true)\n",
      " |-- InstallmentPercent: long (nullable = true)\n",
      " |-- Sex: string (nullable = true)\n",
      " |-- OthersOnLoan: string (nullable = true)\n",
      " |-- CurrentResidenceDuration: long (nullable = true)\n",
      " |-- OwnsProperty: string (nullable = true)\n",
      " |-- Age: long (nullable = true)\n",
      " |-- InstallmentPlans: string (nullable = true)\n",
      " |-- Housing: string (nullable = true)\n",
      " |-- ExistingCreditsCount: long (nullable = true)\n",
      " |-- Job: string (nullable = true)\n",
      " |-- Dependents: long (nullable = true)\n",
      " |-- Telephone: string (nullable = true)\n",
      " |-- ForeignWorker: string (nullable = true)\n",
      " |-- Risk: string (nullable = true)\n",
      "\n"
     ]
    }
   ],
   "source": [
    "spark_df = df_data\n",
    "(train_data, test_data) = spark_df.randomSplit([0.8, 0.2], 24)\n",
    "\n",
    "print(\"Number of records for training: \" + str(train_data.count()))\n",
    "print(\"Number of records for evaluation: \" + str(test_data.count()))\n",
    "\n",
    "spark_df.printSchema()"
   ]
  },
  {
   "cell_type": "markdown",
   "metadata": {},
   "source": [
    "## 2.2 Save training data to COS"
   ]
  },
  {
   "cell_type": "code",
   "execution_count": 11,
   "metadata": {},
   "outputs": [],
   "source": [
    "import ibm_boto3\n",
    "from ibm_botocore.client import Config, ClientError\n",
    "\n",
    "cos_client = ibm_boto3.resource(\n",
    "    \"s3\",\n",
    "    ibm_api_key_id=COS_API_KEY_ID,\n",
    "    ibm_service_instance_id=COS_RESOURCE_CRN,\n",
    "    ibm_auth_endpoint=\"https://iam.bluemix.net/oidc/token\",\n",
    "    config=Config(signature_version=\"oauth\"),\n",
    "    endpoint_url=COS_ENDPOINT\n",
    ")"
   ]
  },
  {
   "cell_type": "code",
   "execution_count": 14,
   "metadata": {},
   "outputs": [
    {
     "name": "stdout",
     "output_type": "stream",
     "text": [
      "Creating new bucket: credit-risk-training-data-jrt1020-v2\n",
      "Bucket: credit-risk-training-data-jrt1020-v2 created!\n"
     ]
    }
   ],
   "source": [
    "create_bucket = True\n",
    "try:\n",
    "    buckets = cos_client.buckets.all()\n",
    "    for bucket in buckets:\n",
    "        if BUCKET_NAME == bucket.name:\n",
    "            print(\"Existing Bucket Found: {0}\".format(bucket.name))\n",
    "            create_bucket = False\n",
    "            break\n",
    "            \n",
    "except ClientError as be:\n",
    "    print(\"Client Error: {0}\\n\".format(be))\n",
    "except Exception as e:\n",
    "    print(\"Unable to retrieve list buckets: {0}\\n\".format(e))\n",
    "    \n",
    "if create_bucket:\n",
    "    print(\"Creating new bucket: {0}\".format(BUCKET_NAME))\n",
    "    try:\n",
    "        cos_client.create_bucket(Bucket=BUCKET_NAME)\n",
    "        print(\"Bucket: {0} created!\".format(BUCKET_NAME))\n",
    "    except ClientError as be:\n",
    "        print(\"Client Error: {0}\\n\".format(be))\n",
    "    except Exception as e:\n",
    "        print(\"Unable to create bucket: {0}\".format(e))"
   ]
  },
  {
   "cell_type": "code",
   "execution_count": 15,
   "metadata": {},
   "outputs": [],
   "source": [
    "try:\n",
    "    with open(training_data_file_name, \"rb\") as file_data:\n",
    "        cos_client.Object(BUCKET_NAME, training_data_file_name).upload_fileobj(\n",
    "            Fileobj=file_data\n",
    "        )\n",
    "except Exception as e:\n",
    "    print(\"An exception occurred: {0}\".format(e))"
   ]
  },
  {
   "cell_type": "markdown",
   "metadata": {},
   "source": [
    "## 2.3 Create a model"
   ]
  },
  {
   "cell_type": "markdown",
   "metadata": {},
   "source": [
    "**<font color='red'><< UPDATE THE VARIABLE 'MODEL_NAME' TO A UNIQUE NAME>></font>**\n",
    "\n",
    "**<font color='red'><< UPDATE THE VARIABLE 'DEPLOYMENT_NAME' TO A UNIQUE NAME FOR THE MODEL DEPLOYMENT>></font>**"
   ]
  },
  {
   "cell_type": "code",
   "execution_count": 16,
   "metadata": {},
   "outputs": [],
   "source": [
    "MODEL_NAME = \"WOS German Risk Model WML V4 - JRT1020v1\" #\"<INSERT-YOUR-MODEL-NAME-HERE>\"\n",
    "DEPLOYMENT_NAME = \"WOS German Risk Deployment WML V4 - JRT1020v1\" #\"<INSERT-YOUR-DEPLOYMENT-NAME-HERE>\""
   ]
  },
  {
   "cell_type": "markdown",
   "metadata": {},
   "source": [
    "The code below creates a Random Forest Classifier with Spark, setting up string indexers for the categorical features and the label column. Finally, this notebook creates a pipeline including the indexers and the model, and does an initial Area Under ROC evaluation of the model."
   ]
  },
  {
   "cell_type": "code",
   "execution_count": 17,
   "metadata": {
    "scrolled": true
   },
   "outputs": [],
   "source": [
    "from pyspark.ml.feature import OneHotEncoder, StringIndexer, IndexToString, VectorAssembler\n",
    "from pyspark.ml.evaluation import BinaryClassificationEvaluator\n",
    "from pyspark.ml import Pipeline, Model\n",
    "\n",
    "si_CheckingStatus = StringIndexer(inputCol = \"CheckingStatus\", outputCol = \"CheckingStatus_IX\")\n",
    "si_CreditHistory = StringIndexer(inputCol = \"CreditHistory\", outputCol = \"CreditHistory_IX\")\n",
    "si_LoanPurpose = StringIndexer(inputCol = \"LoanPurpose\", outputCol = \"LoanPurpose_IX\")\n",
    "si_ExistingSavings = StringIndexer(inputCol = \"ExistingSavings\", outputCol = \"ExistingSavings_IX\")\n",
    "si_EmploymentDuration = StringIndexer(inputCol = \"EmploymentDuration\", outputCol = \"EmploymentDuration_IX\")\n",
    "si_Sex = StringIndexer(inputCol = \"Sex\", outputCol = \"Sex_IX\")\n",
    "si_OthersOnLoan = StringIndexer(inputCol = \"OthersOnLoan\", outputCol = \"OthersOnLoan_IX\")\n",
    "si_OwnsProperty = StringIndexer(inputCol = \"OwnsProperty\", outputCol = \"OwnsProperty_IX\")\n",
    "si_InstallmentPlans = StringIndexer(inputCol = \"InstallmentPlans\", outputCol = \"InstallmentPlans_IX\")\n",
    "si_Housing = StringIndexer(inputCol = \"Housing\", outputCol = \"Housing_IX\")\n",
    "si_Job = StringIndexer(inputCol = \"Job\", outputCol = \"Job_IX\")\n",
    "si_Telephone = StringIndexer(inputCol = \"Telephone\", outputCol = \"Telephone_IX\")\n",
    "si_ForeignWorker = StringIndexer(inputCol = \"ForeignWorker\", outputCol = \"ForeignWorker_IX\")"
   ]
  },
  {
   "cell_type": "code",
   "execution_count": 18,
   "metadata": {
    "scrolled": true
   },
   "outputs": [],
   "source": [
    "si_Label = StringIndexer(inputCol=\"Risk\", outputCol=\"label\").fit(spark_df)\n",
    "label_converter = IndexToString(inputCol=\"prediction\", outputCol=\"predictedLabel\", labels=si_Label.labels)"
   ]
  },
  {
   "cell_type": "code",
   "execution_count": 19,
   "metadata": {
    "scrolled": true
   },
   "outputs": [],
   "source": [
    "va_features = VectorAssembler(inputCols=[\"CheckingStatus_IX\", \"CreditHistory_IX\", \"LoanPurpose_IX\", \"ExistingSavings_IX\", \"EmploymentDuration_IX\", \"Sex_IX\", \\\n",
    "                                         \"OthersOnLoan_IX\", \"OwnsProperty_IX\", \"InstallmentPlans_IX\", \"Housing_IX\", \"Job_IX\", \"Telephone_IX\", \"ForeignWorker_IX\", \\\n",
    "                                         \"LoanDuration\", \"LoanAmount\", \"InstallmentPercent\", \"CurrentResidenceDuration\", \"LoanDuration\", \"Age\", \"ExistingCreditsCount\", \\\n",
    "                                         \"Dependents\"], outputCol=\"features\")"
   ]
  },
  {
   "cell_type": "code",
   "execution_count": 20,
   "metadata": {},
   "outputs": [],
   "source": [
    "from pyspark.ml.classification import RandomForestClassifier\n",
    "classifier = RandomForestClassifier(featuresCol=\"features\")\n",
    "\n",
    "pipeline = Pipeline(stages=[si_CheckingStatus, si_CreditHistory, si_EmploymentDuration, si_ExistingSavings, si_ForeignWorker, si_Housing, si_InstallmentPlans, si_Job, si_LoanPurpose, si_OthersOnLoan,\\\n",
    "                               si_OwnsProperty, si_Sex, si_Telephone, si_Label, va_features, classifier, label_converter])\n",
    "model = pipeline.fit(train_data)\n"
   ]
  },
  {
   "cell_type": "markdown",
   "metadata": {},
   "source": [
    "## 2.4 Evalutate Model"
   ]
  },
  {
   "cell_type": "code",
   "execution_count": 21,
   "metadata": {
    "scrolled": true
   },
   "outputs": [
    {
     "name": "stdout",
     "output_type": "stream",
     "text": [
      "areaUnderROC = 0.713521 areaUnderPR = 0.646128\n"
     ]
    }
   ],
   "source": [
    "predictions = model.transform(test_data)\n",
    "evaluatorDT = BinaryClassificationEvaluator(rawPredictionCol=\"prediction\",  metricName=\"areaUnderROC\")\n",
    "area_under_curve = evaluatorDT.evaluate(predictions)\n",
    "\n",
    "evaluatorDT = BinaryClassificationEvaluator(rawPredictionCol=\"prediction\",  metricName=\"areaUnderPR\")\n",
    "area_under_PR = evaluatorDT.evaluate(predictions)\n",
    "\n",
    "print(\"areaUnderROC = %g\" % area_under_curve, \"areaUnderPR = %g\" % area_under_PR)"
   ]
  },
  {
   "cell_type": "code",
   "execution_count": 22,
   "metadata": {},
   "outputs": [
    {
     "name": "stdout",
     "output_type": "stream",
     "text": [
      "              precision    recall  f1-score   support\n",
      "\n",
      "        Risk       0.79      0.91      0.85       643\n",
      "     No Risk       0.75      0.51      0.61       318\n",
      "\n",
      "    accuracy                           0.78       961\n",
      "   macro avg       0.77      0.71      0.73       961\n",
      "weighted avg       0.78      0.78      0.77       961\n",
      "\n"
     ]
    }
   ],
   "source": [
    "from sklearn.metrics import classification_report\n",
    "y_pred = predictions.toPandas()['prediction']\n",
    "y_pred = ['Risk' if pred == 1.0 else 'No Risk' for pred in y_pred]\n",
    "y_test = test_data.toPandas()['Risk']\n",
    "print(classification_report(y_test, y_pred, target_names=['Risk', 'No Risk']))"
   ]
  },
  {
   "cell_type": "markdown",
   "metadata": {},
   "source": [
    "## 2.5 Publish the model"
   ]
  },
  {
   "cell_type": "markdown",
   "metadata": {},
   "source": [
    "In this section, the notebook uses Watson Machine Learning to save the model (including the pipeline) to the WML instance. Previous versions of the model are removed so that the notebook can be run again, resetting all data for another demo."
   ]
  },
  {
   "cell_type": "code",
   "execution_count": 23,
   "metadata": {},
   "outputs": [
    {
     "data": {
      "text/plain": [
       "'1.0.22'"
      ]
     },
     "execution_count": 23,
     "metadata": {},
     "output_type": "execute_result"
    },
    {
     "name": "stderr",
     "output_type": "stream",
     "text": [
      "2020-10-20 21:57:01,290 - root - ERROR - There is another run `d49677ad-2d4c-4f12-a552-3cecd7416248` processing this monitor instance\n",
      "Traceback (most recent call last):\n",
      "  File \"/home/wsuser/.local/lib/python3.7/site-packages/ibm_cloud_sdk_core/base_service.py\", line 246, in send\n",
      "    response.status_code, http_response=response)\n",
      "ibm_cloud_sdk_core.api_exception.ApiException: Error: There is another run `d49677ad-2d4c-4f12-a552-3cecd7416248` processing this monitor instance, Code: 429 , X-global-transaction-id: ZjczOWZhOTMtY2I4MC00ZjliLThkMzUtOTcwYzQxMmUzMDVj\n",
      "2020-10-20 22:29:06,512 - root - ERROR - <html>\n",
      "<head><title>504 Gateway Time-out</title></head>\n",
      "<body>\n",
      "<center><h1>504 Gateway Time-out</h1></center>\n",
      "<hr><center>nginx</center>\n",
      "</body>\n",
      "</html>\n",
      "Traceback (most recent call last):\n",
      "  File \"/home/wsuser/.local/lib/python3.7/site-packages/ibm_cloud_sdk_core/base_service.py\", line 246, in send\n",
      "    response.status_code, http_response=response)\n",
      "ibm_cloud_sdk_core.api_exception.ApiException: Error: <html>\n",
      "<head><title>504 Gateway Time-out</title></head>\n",
      "<body>\n",
      "<center><h1>504 Gateway Time-out</h1></center>\n",
      "<hr><center>nginx</center>\n",
      "</body>\n",
      "</html>\n",
      ", Code: 504\n"
     ]
    }
   ],
   "source": [
    "import json\n",
    "from ibm_watson_machine_learning import APIClient\n",
    "\n",
    "wml_client = APIClient(WML_CREDENTIALS)\n",
    "wml_client.version"
   ]
  },
  {
   "cell_type": "markdown",
   "metadata": {},
   "source": [
    "### 2.5.1 Set default space"
   ]
  },
  {
   "cell_type": "markdown",
   "metadata": {},
   "source": [
    "In order to deploy a model, you would have to create deployment spaces and deploy your models there. You can list all the spaces using the .list() function, or you can create new spaces by going to menu on top left corner --> analyze --> analytics deployments --> New Deployment Space. Once you know which space you want to deploy in, simply use the GUID of the space as argument for .set.default_space() function below\n"
   ]
  },
  {
   "cell_type": "code",
   "execution_count": 24,
   "metadata": {},
   "outputs": [
    {
     "name": "stdout",
     "output_type": "stream",
     "text": [
      "Note: 'limit' is not provided. Only first 50 records will be displayed if the number of records exceed 50\n",
      "------------------------------------  -----------------------------------------------------------  ------------------------\n",
      "ID                                    NAME                                                         CREATED\n",
      "c3a71249-4da6-45c7-939f-0e8d135ad694  openscale-express-path-99318397-f315-40be-a572-961b511856bd  2020-10-13T20:51:31.431Z\n",
      "79a3d376-144b-4bbc-8c92-fdf187c50b67  CreditRiskDep1007                                            2020-10-07T15:21:16.858Z\n",
      "50e0a36c-f923-46f1-a7b6-3acedb6762e7  creditriskspace09252020                                      2020-09-25T20:50:33.359Z\n",
      "------------------------------------  -----------------------------------------------------------  ------------------------\n"
     ]
    }
   ],
   "source": [
    "wml_client.spaces.list()"
   ]
  },
  {
   "cell_type": "markdown",
   "metadata": {},
   "source": [
    "**<font color='red'><< UPDATE THE VARIABLE 'DEPLOYMENT_SPACE_NAME' TO THE NAME OF THE DEPLOYMENT SPACE YOU CREATED PREVIOUSLY>></font>**\n",
    "\n",
    "You should copy the name of your deployment space from the output of the previous cell to the variable in the next cell. The deployment space ID will be looked up based on the name specified below. If you do not receive a space GUID as an output to the next cell, do not proceed until you have created a deployment space."
   ]
  },
  {
   "cell_type": "code",
   "execution_count": 25,
   "metadata": {},
   "outputs": [],
   "source": [
    "DEPLOYMENT_SPACE_NAME = \"CreditRiskDep1007\" #\"<INSERT_YOUR_DEPLOYMENT_SPACE_NAME_FROM_ABOVE_OUTPUT>\""
   ]
  },
  {
   "cell_type": "code",
   "execution_count": 26,
   "metadata": {},
   "outputs": [
    {
     "name": "stdout",
     "output_type": "stream",
     "text": [
      "Note: 'limit' is not provided. Only first 50 records will be displayed if the number of records exceed 50\n",
      "------------------------------------  -----------------------------------------------------------  ------------------------\n",
      "ID                                    NAME                                                         CREATED\n",
      "c3a71249-4da6-45c7-939f-0e8d135ad694  openscale-express-path-99318397-f315-40be-a572-961b511856bd  2020-10-13T20:51:31.431Z\n",
      "79a3d376-144b-4bbc-8c92-fdf187c50b67  CreditRiskDep1007                                            2020-10-07T15:21:16.858Z\n",
      "50e0a36c-f923-46f1-a7b6-3acedb6762e7  creditriskspace09252020                                      2020-09-25T20:50:33.359Z\n",
      "------------------------------------  -----------------------------------------------------------  ------------------------\n",
      "\n",
      "Deployment Space ID:  79a3d376-144b-4bbc-8c92-fdf187c50b67\n"
     ]
    }
   ],
   "source": [
    "wml_client.spaces.list()\n",
    "all_spaces = wml_client.spaces.get_details()['resources']\n",
    "space_id = None\n",
    "for space in all_spaces:\n",
    "    if space['entity']['name'] == DEPLOYMENT_SPACE_NAME:\n",
    "        space_id = space[\"metadata\"][\"id\"]\n",
    "        print(\"\\nDeployment Space ID: \", space_id)\n",
    "\n",
    "if space_id is None:\n",
    "    print(\"WARNING: Your space does not exist. Create a deployment space before proceeding to the next cell.\")\n",
    "    #space_id = client.spaces.store(meta_props={client.spaces.ConfigurationMetaNames.NAME: space_name})[\"metadata\"][\"guid\"]"
   ]
  },
  {
   "cell_type": "code",
   "execution_count": 27,
   "metadata": {},
   "outputs": [
    {
     "data": {
      "text/plain": [
       "'SUCCESS'"
      ]
     },
     "execution_count": 27,
     "metadata": {},
     "output_type": "execute_result"
    }
   ],
   "source": [
    "WML_SPACE_ID = space_id\n",
    "wml_client.set.default_space(WML_SPACE_ID)"
   ]
  },
  {
   "cell_type": "markdown",
   "metadata": {},
   "source": [
    "### 2.5.2 Remove existing model and deployment"
   ]
  },
  {
   "cell_type": "code",
   "execution_count": 28,
   "metadata": {},
   "outputs": [
    {
     "name": "stdout",
     "output_type": "stream",
     "text": [
      "------------------------------------  ---------------------------------------------------  ------------------------  --------------\n",
      "ID                                    NAME                                                 CREATED                   TYPE\n",
      "dd433ad8-98dc-4cae-b1a6-32eff7f168c2  WOS German Risk Model WML V4 - JRT1012v1             2020-10-12T15:42:11.002Z  mllib_2.4\n",
      "8d5e55ff-6cbb-4aa9-af37-730f1815f33f  WOS German Risk Model WML V4 - JRT1007v2             2020-10-08T01:11:50.002Z  mllib_2.4\n",
      "17f79410-cbb7-48b0-86e8-ef8ff950d4d5  RiskAutoAI - P4 GradientBoostingClassifierEstimator  2020-10-07T18:35:00.002Z  wml-hybrid_0.1\n",
      "e0e81244-c8c3-4e1b-8c3b-7974e5eca9d6  RiskSpark1007                                        2020-10-07T16:14:01.002Z  mllib_2.4\n",
      "------------------------------------  ---------------------------------------------------  ------------------------  --------------\n",
      "------------------------------------  ---------------------------------------------  -----  ------------------------\n",
      "GUID                                  NAME                                           STATE  CREATED\n",
      "3299e567-0627-4020-b7d9-08b9ddd15216  WOS German Risk Deployment WML V4 - JRT1012v1  ready  2020-10-12T15:43:45.480Z\n",
      "f078c548-0130-48fb-87fa-8f54aa05a66d  WOS German Risk Deployment WML V4 - JRT1007v2  ready  2020-10-08T01:12:06.935Z\n",
      "------------------------------------  ---------------------------------------------  -----  ------------------------\n"
     ]
    }
   ],
   "source": [
    "wml_client.repository.list_models()\n",
    "wml_client.deployments.list()"
   ]
  },
  {
   "cell_type": "code",
   "execution_count": 29,
   "metadata": {
    "scrolled": true
   },
   "outputs": [],
   "source": [
    "try:\n",
    "    deployments_list = wml_client.deployments.get_details()\n",
    "    for deployment in deployments_list[\"resources\"]:\n",
    "        model_id = deployment[\"entity\"][\"asset\"][\"id\"]\n",
    "        deployment_id = deployment[\"metadata\"][\"id\"]\n",
    "        if deployment[\"metadata\"][\"name\"] == DEPLOYMENT_NAME:\n",
    "            print(\"Deleting deployment id\", deployment_id)\n",
    "            wml_client.deployments.delete(deployment_id)\n",
    "            print(\"Deleting model id\", model_id)\n",
    "            wml_client.repository.delete(model_id)\n",
    "            wml_client.repository.list_models()\n",
    "            wml_client.deployments.list()\n",
    "except Exception as e:\n",
    "    print(\"An exception occurred: {0}\".format(e))"
   ]
  },
  {
   "cell_type": "code",
   "execution_count": 30,
   "metadata": {
    "scrolled": true
   },
   "outputs": [
    {
     "name": "stdout",
     "output_type": "stream",
     "text": [
      "Software Specification ID: 390d21f8-e58b-4fac-9c55-d7ceda621326\n"
     ]
    }
   ],
   "source": [
    "software_spec_uid = wml_client.software_specifications.get_id_by_name(\"spark-mllib_2.4\")\n",
    "print(\"Software Specification ID: {}\".format(software_spec_uid))\n",
    "\n",
    "model_props = {\n",
    "    wml_client.repository.ModelMetaNames.NAME: \"{}\".format(MODEL_NAME),\n",
    "    wml_client._models.ConfigurationMetaNames.SPACE_UID: WML_SPACE_ID,\n",
    "    wml_client.repository.ModelMetaNames.TYPE: 'mllib_2.4',\n",
    "    wml_client.repository.ModelMetaNames.SOFTWARE_SPEC_UID: software_spec_uid\n",
    "}"
   ]
  },
  {
   "cell_type": "code",
   "execution_count": 31,
   "metadata": {
    "scrolled": true
   },
   "outputs": [
    {
     "name": "stdout",
     "output_type": "stream",
     "text": [
      "Published Model Details: \n",
      "{\n",
      "  \"entity\": {\n",
      "    \"label_column\": \"Risk\",\n",
      "    \"pipeline\": {\n",
      "      \"id\": \"3fd44f57-4c76-470f-976a-a7add876dff1\"\n",
      "    },\n",
      "    \"software_spec\": {\n",
      "      \"id\": \"390d21f8-e58b-4fac-9c55-d7ceda621326\",\n",
      "      \"name\": \"spark-mllib_2.4\"\n",
      "    },\n",
      "    \"training_data_references\": [\n",
      "      {\n",
      "        \"connection\": {\n",
      "          \"access_key_id\": \"not_applicable\",\n",
      "          \"endpoint_url\": \"not_applicable\",\n",
      "          \"secret_access_key\": \"not_applicable\"\n",
      "        },\n",
      "        \"id\": \"1\",\n",
      "        \"location\": {},\n",
      "        \"schema\": {\n",
      "          \"fields\": [\n",
      "            {\n",
      "              \"metadata\": {},\n",
      "              \"name\": \"CheckingStatus\",\n",
      "              \"nullable\": true,\n",
      "              \"type\": \"string\"\n",
      "            },\n",
      "            {\n",
      "              \"metadata\": {},\n",
      "              \"name\": \"LoanDuration\",\n",
      "              \"nullable\": true,\n",
      "              \"type\": \"long\"\n",
      "            },\n",
      "            {\n",
      "              \"metadata\": {},\n",
      "              \"name\": \"CreditHistory\",\n",
      "              \"nullable\": true,\n",
      "              \"type\": \"string\"\n",
      "            },\n",
      "            {\n",
      "              \"metadata\": {},\n",
      "              \"name\": \"LoanPurpose\",\n",
      "              \"nullable\": true,\n",
      "              \"type\": \"string\"\n",
      "            },\n",
      "            {\n",
      "              \"metadata\": {},\n",
      "              \"name\": \"LoanAmount\",\n",
      "              \"nullable\": true,\n",
      "              \"type\": \"long\"\n",
      "            },\n",
      "            {\n",
      "              \"metadata\": {},\n",
      "              \"name\": \"ExistingSavings\",\n",
      "              \"nullable\": true,\n",
      "              \"type\": \"string\"\n",
      "            },\n",
      "            {\n",
      "              \"metadata\": {},\n",
      "              \"name\": \"EmploymentDuration\",\n",
      "              \"nullable\": true,\n",
      "              \"type\": \"string\"\n",
      "            },\n",
      "            {\n",
      "              \"metadata\": {},\n",
      "              \"name\": \"InstallmentPercent\",\n",
      "              \"nullable\": true,\n",
      "              \"type\": \"long\"\n",
      "            },\n",
      "            {\n",
      "              \"metadata\": {},\n",
      "              \"name\": \"Sex\",\n",
      "              \"nullable\": true,\n",
      "              \"type\": \"string\"\n",
      "            },\n",
      "            {\n",
      "              \"metadata\": {},\n",
      "              \"name\": \"OthersOnLoan\",\n",
      "              \"nullable\": true,\n",
      "              \"type\": \"string\"\n",
      "            },\n",
      "            {\n",
      "              \"metadata\": {},\n",
      "              \"name\": \"CurrentResidenceDuration\",\n",
      "              \"nullable\": true,\n",
      "              \"type\": \"long\"\n",
      "            },\n",
      "            {\n",
      "              \"metadata\": {},\n",
      "              \"name\": \"OwnsProperty\",\n",
      "              \"nullable\": true,\n",
      "              \"type\": \"string\"\n",
      "            },\n",
      "            {\n",
      "              \"metadata\": {},\n",
      "              \"name\": \"Age\",\n",
      "              \"nullable\": true,\n",
      "              \"type\": \"long\"\n",
      "            },\n",
      "            {\n",
      "              \"metadata\": {},\n",
      "              \"name\": \"InstallmentPlans\",\n",
      "              \"nullable\": true,\n",
      "              \"type\": \"string\"\n",
      "            },\n",
      "            {\n",
      "              \"metadata\": {},\n",
      "              \"name\": \"Housing\",\n",
      "              \"nullable\": true,\n",
      "              \"type\": \"string\"\n",
      "            },\n",
      "            {\n",
      "              \"metadata\": {},\n",
      "              \"name\": \"ExistingCreditsCount\",\n",
      "              \"nullable\": true,\n",
      "              \"type\": \"long\"\n",
      "            },\n",
      "            {\n",
      "              \"metadata\": {},\n",
      "              \"name\": \"Job\",\n",
      "              \"nullable\": true,\n",
      "              \"type\": \"string\"\n",
      "            },\n",
      "            {\n",
      "              \"metadata\": {},\n",
      "              \"name\": \"Dependents\",\n",
      "              \"nullable\": true,\n",
      "              \"type\": \"long\"\n",
      "            },\n",
      "            {\n",
      "              \"metadata\": {},\n",
      "              \"name\": \"Telephone\",\n",
      "              \"nullable\": true,\n",
      "              \"type\": \"string\"\n",
      "            },\n",
      "            {\n",
      "              \"metadata\": {},\n",
      "              \"name\": \"ForeignWorker\",\n",
      "              \"nullable\": true,\n",
      "              \"type\": \"string\"\n",
      "            },\n",
      "            {\n",
      "              \"metadata\": {\n",
      "                \"modeling_role\": \"target\"\n",
      "              },\n",
      "              \"name\": \"Risk\",\n",
      "              \"nullable\": true,\n",
      "              \"type\": \"string\"\n",
      "            }\n",
      "          ],\n",
      "          \"id\": \"1\",\n",
      "          \"type\": \"struct\"\n",
      "        },\n",
      "        \"type\": \"s3\"\n",
      "      }\n",
      "    ],\n",
      "    \"type\": \"mllib_2.4\"\n",
      "  },\n",
      "  \"metadata\": {\n",
      "    \"created_at\": \"2020-10-20T21:44:18.904Z\",\n",
      "    \"id\": \"a4203511-0f56-4422-807f-d28c4f9eab13\",\n",
      "    \"modified_at\": \"2020-10-20T21:44:28.834Z\",\n",
      "    \"name\": \"WOS German Risk Model WML V4 - JRT1020v1\",\n",
      "    \"owner\": \"IBMid-060000GRS6\",\n",
      "    \"space_id\": \"79a3d376-144b-4bbc-8c92-fdf187c50b67\"\n",
      "  }\n",
      "}\n"
     ]
    }
   ],
   "source": [
    "published_model_details = wml_client.repository.store_model(model, model_props, training_data=df_data, pipeline=pipeline)\n",
    "model_uid = wml_client.repository.get_model_uid(published_model_details)\n",
    "\n",
    "print(\"Published Model Details: \")\n",
    "print(json.dumps(published_model_details, indent=2))"
   ]
  },
  {
   "cell_type": "markdown",
   "metadata": {},
   "source": [
    "## 2.6 Deploy the model"
   ]
  },
  {
   "cell_type": "markdown",
   "metadata": {},
   "source": [
    "The next section of the notebook deploys the model as a RESTful web service in Watson Machine Learning. The deployed model will have a scoring URL you can use to send data to the model for predictions."
   ]
  },
  {
   "cell_type": "code",
   "execution_count": 32,
   "metadata": {
    "scrolled": true
   },
   "outputs": [
    {
     "name": "stdout",
     "output_type": "stream",
     "text": [
      "Deploying model...\n",
      "\n",
      "\n",
      "#######################################################################################\n",
      "\n",
      "Synchronous deployment creation for uid: 'a4203511-0f56-4422-807f-d28c4f9eab13' started\n",
      "\n",
      "#######################################################################################\n",
      "\n",
      "\n",
      "initializing.\n",
      "ready\n",
      "\n",
      "\n",
      "------------------------------------------------------------------------------------------------\n",
      "Successfully finished deployment creation, deployment_uid='1cfae0db-dce3-42cd-bcd7-0773912772d2'\n",
      "------------------------------------------------------------------------------------------------\n",
      "\n",
      "\n",
      "Model id: a4203511-0f56-4422-807f-d28c4f9eab13\n",
      "Deployment id: 1cfae0db-dce3-42cd-bcd7-0773912772d2\n",
      "Scoring URL:https://us-south.ml.cloud.ibm.com/ml/v4/deployments/1cfae0db-dce3-42cd-bcd7-0773912772d2/predictions\n"
     ]
    }
   ],
   "source": [
    "print(\"Deploying model...\")\n",
    "meta_props = {\n",
    "    wml_client.deployments.ConfigurationMetaNames.NAME: DEPLOYMENT_NAME,\n",
    "    wml_client.deployments.ConfigurationMetaNames.ONLINE: {}\n",
    "}\n",
    "deployment = wml_client.deployments.create(model_uid, meta_props=meta_props)\n",
    "deployment_uid = wml_client.deployments.get_uid(deployment)\n",
    "scoring_url = wml_client.deployments.get_scoring_href(deployment)\n",
    " \n",
    "print(\"Model id: {}\".format(model_uid))\n",
    "print(\"Deployment id: {}\".format(deployment_uid))\n",
    "print(\"Scoring URL:{}\".format(scoring_url))"
   ]
  },
  {
   "cell_type": "code",
   "execution_count": 33,
   "metadata": {
    "scrolled": true
   },
   "outputs": [
    {
     "name": "stdout",
     "output_type": "stream",
     "text": [
      "------------------------------------  ---------------------------------------------------  ------------------------  --------------\n",
      "ID                                    NAME                                                 CREATED                   TYPE\n",
      "a4203511-0f56-4422-807f-d28c4f9eab13  WOS German Risk Model WML V4 - JRT1020v1             2020-10-20T21:44:18.002Z  mllib_2.4\n",
      "dd433ad8-98dc-4cae-b1a6-32eff7f168c2  WOS German Risk Model WML V4 - JRT1012v1             2020-10-12T15:42:11.002Z  mllib_2.4\n",
      "8d5e55ff-6cbb-4aa9-af37-730f1815f33f  WOS German Risk Model WML V4 - JRT1007v2             2020-10-08T01:11:50.002Z  mllib_2.4\n",
      "17f79410-cbb7-48b0-86e8-ef8ff950d4d5  RiskAutoAI - P4 GradientBoostingClassifierEstimator  2020-10-07T18:35:00.002Z  wml-hybrid_0.1\n",
      "e0e81244-c8c3-4e1b-8c3b-7974e5eca9d6  RiskSpark1007                                        2020-10-07T16:14:01.002Z  mllib_2.4\n",
      "------------------------------------  ---------------------------------------------------  ------------------------  --------------\n",
      "------------------------------------  ---------------------------------------------  -----  ------------------------\n",
      "GUID                                  NAME                                           STATE  CREATED\n",
      "1cfae0db-dce3-42cd-bcd7-0773912772d2  WOS German Risk Deployment WML V4 - JRT1020v1  ready  2020-10-20T21:44:35.728Z\n",
      "3299e567-0627-4020-b7d9-08b9ddd15216  WOS German Risk Deployment WML V4 - JRT1012v1  ready  2020-10-12T15:43:45.480Z\n",
      "f078c548-0130-48fb-87fa-8f54aa05a66d  WOS German Risk Deployment WML V4 - JRT1007v2  ready  2020-10-08T01:12:06.935Z\n",
      "------------------------------------  ---------------------------------------------  -----  ------------------------\n"
     ]
    }
   ],
   "source": [
    "wml_client.repository.list_models()\n",
    "wml_client.deployments.list()"
   ]
  },
  {
   "cell_type": "markdown",
   "metadata": {},
   "source": [
    "### 2.6.1 Call the model"
   ]
  },
  {
   "cell_type": "code",
   "execution_count": 34,
   "metadata": {},
   "outputs": [
    {
     "data": {
      "text/plain": [
       "{'predictions': [{'fields': ['CheckingStatus',\n",
       "    'LoanDuration',\n",
       "    'CreditHistory',\n",
       "    'LoanPurpose',\n",
       "    'LoanAmount',\n",
       "    'ExistingSavings',\n",
       "    'EmploymentDuration',\n",
       "    'InstallmentPercent',\n",
       "    'Sex',\n",
       "    'OthersOnLoan',\n",
       "    'CurrentResidenceDuration',\n",
       "    'OwnsProperty',\n",
       "    'Age',\n",
       "    'InstallmentPlans',\n",
       "    'Housing',\n",
       "    'ExistingCreditsCount',\n",
       "    'Job',\n",
       "    'Dependents',\n",
       "    'Telephone',\n",
       "    'ForeignWorker',\n",
       "    'CheckingStatus_IX',\n",
       "    'CreditHistory_IX',\n",
       "    'EmploymentDuration_IX',\n",
       "    'ExistingSavings_IX',\n",
       "    'ForeignWorker_IX',\n",
       "    'Housing_IX',\n",
       "    'InstallmentPlans_IX',\n",
       "    'Job_IX',\n",
       "    'LoanPurpose_IX',\n",
       "    'OthersOnLoan_IX',\n",
       "    'OwnsProperty_IX',\n",
       "    'Sex_IX',\n",
       "    'Telephone_IX',\n",
       "    'features',\n",
       "    'rawPrediction',\n",
       "    'probability',\n",
       "    'prediction',\n",
       "    'predictedLabel'],\n",
       "   'values': [['no_checking',\n",
       "     13,\n",
       "     'credits_paid_to_date',\n",
       "     'car_new',\n",
       "     1343,\n",
       "     '100_to_500',\n",
       "     '1_to_4',\n",
       "     2,\n",
       "     'female',\n",
       "     'none',\n",
       "     3,\n",
       "     'savings_insurance',\n",
       "     46,\n",
       "     'none',\n",
       "     'own',\n",
       "     2,\n",
       "     'skilled',\n",
       "     1,\n",
       "     'none',\n",
       "     'yes',\n",
       "     0.0,\n",
       "     1.0,\n",
       "     0.0,\n",
       "     1.0,\n",
       "     0.0,\n",
       "     0.0,\n",
       "     0.0,\n",
       "     0.0,\n",
       "     0.0,\n",
       "     0.0,\n",
       "     0.0,\n",
       "     1.0,\n",
       "     0.0,\n",
       "     [21,\n",
       "      [1, 3, 5, 13, 14, 15, 16, 17, 18, 19, 20],\n",
       "      [1.0, 1.0, 1.0, 13.0, 1343.0, 2.0, 3.0, 13.0, 46.0, 2.0, 1.0]],\n",
       "     [14.37902583275282, 5.62097416724718],\n",
       "     [0.718951291637641, 0.281048708362359],\n",
       "     0.0,\n",
       "     'No Risk'],\n",
       "    ['no_checking',\n",
       "     24,\n",
       "     'prior_payments_delayed',\n",
       "     'furniture',\n",
       "     4567,\n",
       "     '500_to_1000',\n",
       "     '1_to_4',\n",
       "     4,\n",
       "     'male',\n",
       "     'none',\n",
       "     4,\n",
       "     'savings_insurance',\n",
       "     36,\n",
       "     'none',\n",
       "     'free',\n",
       "     2,\n",
       "     'management_self-employed',\n",
       "     1,\n",
       "     'none',\n",
       "     'yes',\n",
       "     0.0,\n",
       "     0.0,\n",
       "     0.0,\n",
       "     2.0,\n",
       "     0.0,\n",
       "     2.0,\n",
       "     0.0,\n",
       "     2.0,\n",
       "     1.0,\n",
       "     0.0,\n",
       "     0.0,\n",
       "     0.0,\n",
       "     0.0,\n",
       "     [21,\n",
       "      [2, 3, 9, 10, 13, 14, 15, 16, 17, 18, 19, 20],\n",
       "      [1.0, 2.0, 2.0, 2.0, 24.0, 4567.0, 4.0, 4.0, 24.0, 36.0, 2.0, 1.0]],\n",
       "     [13.036816968647646, 6.963183031352353],\n",
       "     [0.6518408484323823, 0.3481591515676176],\n",
       "     0.0,\n",
       "     'No Risk']]}]}"
      ]
     },
     "execution_count": 34,
     "metadata": {},
     "output_type": "execute_result"
    }
   ],
   "source": [
    "fields = [\"CheckingStatus\", \"LoanDuration\", \"CreditHistory\", \"LoanPurpose\", \"LoanAmount\", \"ExistingSavings\",\n",
    "                  \"EmploymentDuration\", \"InstallmentPercent\", \"Sex\", \"OthersOnLoan\", \"CurrentResidenceDuration\",\n",
    "                  \"OwnsProperty\", \"Age\", \"InstallmentPlans\", \"Housing\", \"ExistingCreditsCount\", \"Job\", \"Dependents\",\n",
    "                  \"Telephone\", \"ForeignWorker\"]\n",
    "values = [\n",
    "            [\"no_checking\", 13, \"credits_paid_to_date\", \"car_new\", 1343, \"100_to_500\", \"1_to_4\", 2, \"female\", \"none\", 3,\n",
    "             \"savings_insurance\", 46, \"none\", \"own\", 2, \"skilled\", 1, \"none\", \"yes\"],\n",
    "            [\"no_checking\", 24, \"prior_payments_delayed\", \"furniture\", 4567, \"500_to_1000\", \"1_to_4\", 4, \"male\", \"none\",\n",
    "             4, \"savings_insurance\", 36, \"none\", \"free\", 2, \"management_self-employed\", 1, \"none\", \"yes\"],\n",
    "        ]\n",
    "\n",
    "scoring_payload = {\"input_data\": [{\"fields\": fields, \"values\": values}]}\n",
    "predictions = wml_client.deployments.score(deployment_uid, scoring_payload)\n",
    "predictions"
   ]
  },
  {
   "cell_type": "markdown",
   "metadata": {},
   "source": [
    "# 3.0 Configure OpenScale <a name=\"openscale\"></a>"
   ]
  },
  {
   "cell_type": "markdown",
   "metadata": {},
   "source": [
    "The notebook will now import the necessary libraries and set up a Python OpenScale client."
   ]
  },
  {
   "cell_type": "code",
   "execution_count": 35,
   "metadata": {
    "scrolled": true
   },
   "outputs": [],
   "source": [
    "from ibm_cloud_sdk_core.authenticators import IAMAuthenticator\n",
    "\n",
    "from ibm_watson_openscale import *\n",
    "from ibm_watson_openscale.supporting_classes.enums import *\n",
    "from ibm_watson_openscale.supporting_classes import *\n",
    "from ibm_watson_openscale.base_classes.watson_open_scale_v2 import *\n",
    "\n",
    "import time"
   ]
  },
  {
   "cell_type": "code",
   "execution_count": 36,
   "metadata": {},
   "outputs": [
    {
     "data": {
      "text/plain": [
       "'3.0.1'"
      ]
     },
     "execution_count": 36,
     "metadata": {},
     "output_type": "execute_result"
    }
   ],
   "source": [
    "authenticator = IAMAuthenticator(apikey=CLOUD_API_KEY)\n",
    "wos_client = APIClient(authenticator=authenticator)\n",
    "\n",
    "#wos_client = APIClient(\n",
    "#    service_instance_id=\"xxxxxxxxxxxxxxxxxxxx\",\n",
    "#    authenticator=authenticator\n",
    "#)\n",
    "\n",
    "wos_client.version"
   ]
  },
  {
   "cell_type": "markdown",
   "metadata": {},
   "source": [
    "## 3.1 Create datamart"
   ]
  },
  {
   "cell_type": "markdown",
   "metadata": {},
   "source": [
    "### 3.1.1 Set up datamart"
   ]
  },
  {
   "cell_type": "markdown",
   "metadata": {},
   "source": [
    "Watson OpenScale uses a database to store payload logs and calculated metrics. If database credentials were **not** supplied above, the notebook will use the free, internal lite database. If database credentials were supplied, the datamart will be created there **unless** there is an existing datamart **and** the **KEEP_MY_INTERNAL_POSTGRES** variable is set to **True**. If an OpenScale datamart exists in Db2 or PostgreSQL, the existing datamart will be used and no data will be overwritten.\n",
    "\n",
    "Prior instances of the German Credit model will be removed from OpenScale monitoring."
   ]
  },
  {
   "cell_type": "code",
   "execution_count": 37,
   "metadata": {},
   "outputs": [
    {
     "data": {
      "text/html": [
       "<HTML>\n",
       "        <body>\n",
       "            <h3>Data Marts</h3>\n",
       "            <table style='border: 1px solid #dddddd; font-family: Courier'>\n",
       "                <th style='border: 1px solid #dddddd'>name</th><th style='border: 1px solid #dddddd'>description</th><th style='border: 1px solid #dddddd'>internal_database</th><th style='border: 1px solid #dddddd'>status</th><th style='border: 1px solid #dddddd'>created_at</th><th style='border: 1px solid #dddddd'>id</th>\n",
       "                <tr><td style='border: 1px solid #dddddd'>wosfastpath</td><td style='border: 1px solid #dddddd'>None</td><td style='border: 1px solid #dddddd'>True</td><td style='border: 1px solid #dddddd'>active</td><td style='border: 1px solid #dddddd'>2020-10-13 20:52:14.086000+00:00</td><td style='border: 1px solid #dddddd'>99318397-f315-40be-a572-961b511856bd</td></tr>\n",
       "            </table>\n",
       "        </body>\n",
       "        </HTML>"
      ],
      "text/plain": [
       "<IPython.core.display.HTML object>"
      ]
     },
     "metadata": {},
     "output_type": "display_data"
    }
   ],
   "source": [
    "wos_client.data_marts.show()"
   ]
  },
  {
   "cell_type": "code",
   "execution_count": 38,
   "metadata": {},
   "outputs": [
    {
     "name": "stdout",
     "output_type": "stream",
     "text": [
      "Using existing datamart 99318397-f315-40be-a572-961b511856bd\n"
     ]
    }
   ],
   "source": [
    "data_marts = wos_client.data_marts.list().result.data_marts\n",
    "if len(data_marts) == 0:\n",
    "    if DB_CREDENTIALS is not None:\n",
    "        if SCHEMA_NAME is None: \n",
    "            print(\"Please specify the SCHEMA_NAME and rerun the cell\")\n",
    "\n",
    "        print(\"Setting up external datamart\")\n",
    "        added_data_mart_result = wos_client.data_marts.add(\n",
    "                background_mode=False,\n",
    "                name=\"WOS Data Mart\",\n",
    "                description=\"Data Mart created by WOS tutorial notebook\",\n",
    "                database_configuration=DatabaseConfigurationRequest(\n",
    "                  database_type=DatabaseType.POSTGRESQL,\n",
    "                    credentials=PrimaryStorageCredentialsLong(\n",
    "                        hostname=DB_CREDENTIALS[\"connection\"][\"postgres\"][\"hosts\"][0][\"hostname\"],\n",
    "                        username=DB_CREDENTIALS[\"connection\"][\"postgres\"][\"authentication\"][\"username\"],\n",
    "                        password=DB_CREDENTIALS[\"connection\"][\"postgres\"][\"authentication\"][\"password\"],\n",
    "                        db=DB_CREDENTIALS[\"connection\"][\"postgres\"][\"database\"],\n",
    "                        port=DB_CREDENTIALS[\"connection\"][\"postgres\"][\"hosts\"][0][\"port\"],\n",
    "                        ssl=True,\n",
    "                        sslmode=DB_CREDENTIALS[\"connection\"][\"postgres\"][\"query_options\"][\"sslmode\"],\n",
    "                        certificate_base64=DB_CREDENTIALS[\"connection\"][\"postgres\"][\"certificate\"][\"certificate_base64\"]\n",
    "                    ),\n",
    "                    location=LocationSchemaName(\n",
    "                        schema_name= SCHEMA_NAME\n",
    "                    )\n",
    "                )\n",
    "             ).result\n",
    "    else:\n",
    "        print(\"Setting up internal datamart\")\n",
    "        added_data_mart_result = wos_client.data_marts.add(\n",
    "                background_mode=False,\n",
    "                name=\"WOS Data Mart\",\n",
    "                description=\"Data Mart created by WOS tutorial notebook\", \n",
    "                internal_database = True).result\n",
    "        \n",
    "    data_mart_id = added_data_mart_result.metadata.id\n",
    "    \n",
    "else:\n",
    "    data_mart_id=data_marts[0].metadata.id\n",
    "    print(\"Using existing datamart {}\".format(data_mart_id))"
   ]
  },
  {
   "cell_type": "markdown",
   "metadata": {},
   "source": [
    "## 3.2  Add Service Provider"
   ]
  },
  {
   "cell_type": "markdown",
   "metadata": {},
   "source": [
    "Watson OpenScale needs to be bound to the Watson Machine Learning instance to capture payload data into and out of the model. If this binding already exists, this code will output a warning message and use the existing binding."
   ]
  },
  {
   "cell_type": "code",
   "execution_count": 39,
   "metadata": {},
   "outputs": [
    {
     "data": {
      "text/html": [
       "<HTML>\n",
       "        <body>\n",
       "            <h3>Service Providers</h3>\n",
       "            <table style='border: 1px solid #dddddd; font-family: Courier'>\n",
       "                <th style='border: 1px solid #dddddd'>instance_id</th><th style='border: 1px solid #dddddd'>status</th><th style='border: 1px solid #dddddd'>name</th><th style='border: 1px solid #dddddd'>service_type</th><th style='border: 1px solid #dddddd'>created_at</th><th style='border: 1px solid #dddddd'>id</th>\n",
       "                <tr><td style='border: 1px solid #dddddd'>7e90d3dd-0994-411a-bc3e-2fb322acf604</td><td style='border: 1px solid #dddddd'>active</td><td style='border: 1px solid #dddddd'>WOS ExpressPath WML pre_production binding</td><td style='border: 1px solid #dddddd'>watson_machine_learning</td><td style='border: 1px solid #dddddd'>2020-10-13 20:52:34.878000+00:00</td><td style='border: 1px solid #dddddd'>4cd2b18e-3d4c-4cf2-a12c-6c1b7dbb4d64</td></tr><tr><td style='border: 1px solid #dddddd'>7e90d3dd-0994-411a-bc3e-2fb322acf604</td><td style='border: 1px solid #dddddd'>active</td><td style='border: 1px solid #dddddd'>WOS ExpressPath WML production binding</td><td style='border: 1px solid #dddddd'>watson_machine_learning</td><td style='border: 1px solid #dddddd'>2020-10-13 20:52:19.518000+00:00</td><td style='border: 1px solid #dddddd'>303da567-f37d-45e5-8188-97a430ef44f7</td></tr>\n",
       "            </table>\n",
       "        </body>\n",
       "        </HTML>"
      ],
      "text/plain": [
       "<IPython.core.display.HTML object>"
      ]
     },
     "metadata": {},
     "output_type": "display_data"
    }
   ],
   "source": [
    "wos_client.service_providers.show()"
   ]
  },
  {
   "cell_type": "code",
   "execution_count": 40,
   "metadata": {},
   "outputs": [],
   "source": [
    "SERVICE_PROVIDER_NAME = \"Watson Machine Learning V2 Instance\"\n",
    "SERVICE_PROVIDER_DESCRIPTION = \"WML Instance\""
   ]
  },
  {
   "cell_type": "markdown",
   "metadata": {},
   "source": [
    "### 3.2.1 Remove existing service provider connected with used WML instance.\n",
    "\n",
    "Multiple service providers for the same engine instance are avaiable in Watson OpenScale. To avoid multiple service providers of used WML instance in the tutorial notebook the following code deletes existing service provder(s) and then adds new one."
   ]
  },
  {
   "cell_type": "code",
   "execution_count": 41,
   "metadata": {},
   "outputs": [],
   "source": [
    "service_providers = wos_client.service_providers.list().result.service_providers\n",
    "for service_provider in service_providers:\n",
    "    service_instance_name = service_provider.entity.name\n",
    "    if service_instance_name == SERVICE_PROVIDER_NAME:\n",
    "        service_provider_id = service_provider.metadata.id\n",
    "        wos_client.service_providers.delete(service_provider_id)\n",
    "        print(\"Deleted existing service_provider for WML instance: {}\".format(service_provider_id))"
   ]
  },
  {
   "cell_type": "markdown",
   "metadata": {},
   "source": [
    "### 3.2.2 Add Service Provider\n",
    "\n",
    "Watson OpenScale needs to be bound to the Watson Machine Learning instance to capture payload data into and out of the model.\n",
    "\n",
    "**Note:** You can bind more than one engine instance if needed by calling `wos_client.service_providers.add` method. Next, you can refer to particular service provider using `service_provider_id`."
   ]
  },
  {
   "cell_type": "code",
   "execution_count": 42,
   "metadata": {},
   "outputs": [
    {
     "name": "stdout",
     "output_type": "stream",
     "text": [
      "\n",
      "\n",
      "=================================================================================\n",
      "\n",
      " Waiting for end of adding service provider 6dda1465-c30a-439f-a89e-e329bae8db70 \n",
      "\n",
      "=================================================================================\n",
      "\n",
      "\n",
      "\n",
      "active\n",
      "\n",
      "-----------------------------------------------\n",
      " Successfully finished adding service provider \n",
      "-----------------------------------------------\n",
      "\n",
      "\n"
     ]
    }
   ],
   "source": [
    "added_service_provider_result = wos_client.service_providers.add(\n",
    "        name=SERVICE_PROVIDER_NAME,\n",
    "        description=SERVICE_PROVIDER_DESCRIPTION,\n",
    "        service_type=ServiceTypes.WATSON_MACHINE_LEARNING,\n",
    "        deployment_space_id = WML_SPACE_ID,\n",
    "        operational_space_id = \"production\",\n",
    "        credentials=WMLCredentialsCloud(\n",
    "            apikey=CLOUD_API_KEY,\n",
    "            url=WML_CREDENTIALS[\"url\"],\n",
    "            instance_id=None\n",
    "        ),\n",
    "        background_mode=False\n",
    "    ).result\n",
    "service_provider_id = added_service_provider_result.metadata.id"
   ]
  },
  {
   "cell_type": "code",
   "execution_count": 43,
   "metadata": {},
   "outputs": [
    {
     "data": {
      "text/html": [
       "<HTML>\n",
       "        <body>\n",
       "            <h3>Service Providers</h3>\n",
       "            <table style='border: 1px solid #dddddd; font-family: Courier'>\n",
       "                <th style='border: 1px solid #dddddd'>instance_id</th><th style='border: 1px solid #dddddd'>status</th><th style='border: 1px solid #dddddd'>name</th><th style='border: 1px solid #dddddd'>service_type</th><th style='border: 1px solid #dddddd'>created_at</th><th style='border: 1px solid #dddddd'>id</th>\n",
       "                <tr><td style='border: 1px solid #dddddd'>7e90d3dd-0994-411a-bc3e-2fb322acf604</td><td style='border: 1px solid #dddddd'>active</td><td style='border: 1px solid #dddddd'>Watson Machine Learning V2 Instance</td><td style='border: 1px solid #dddddd'>watson_machine_learning</td><td style='border: 1px solid #dddddd'>2020-10-20 21:45:33.824000+00:00</td><td style='border: 1px solid #dddddd'>6dda1465-c30a-439f-a89e-e329bae8db70</td></tr><tr><td style='border: 1px solid #dddddd'>7e90d3dd-0994-411a-bc3e-2fb322acf604</td><td style='border: 1px solid #dddddd'>active</td><td style='border: 1px solid #dddddd'>WOS ExpressPath WML pre_production binding</td><td style='border: 1px solid #dddddd'>watson_machine_learning</td><td style='border: 1px solid #dddddd'>2020-10-13 20:52:34.878000+00:00</td><td style='border: 1px solid #dddddd'>4cd2b18e-3d4c-4cf2-a12c-6c1b7dbb4d64</td></tr><tr><td style='border: 1px solid #dddddd'>7e90d3dd-0994-411a-bc3e-2fb322acf604</td><td style='border: 1px solid #dddddd'>active</td><td style='border: 1px solid #dddddd'>WOS ExpressPath WML production binding</td><td style='border: 1px solid #dddddd'>watson_machine_learning</td><td style='border: 1px solid #dddddd'>2020-10-13 20:52:19.518000+00:00</td><td style='border: 1px solid #dddddd'>303da567-f37d-45e5-8188-97a430ef44f7</td></tr>\n",
       "            </table>\n",
       "        </body>\n",
       "        </HTML>"
      ],
      "text/plain": [
       "<IPython.core.display.HTML object>"
      ]
     },
     "metadata": {},
     "output_type": "display_data"
    }
   ],
   "source": [
    "wos_client.service_providers.show()"
   ]
  },
  {
   "cell_type": "code",
   "execution_count": 44,
   "metadata": {},
   "outputs": [
    {
     "name": "stdout",
     "output_type": "stream",
     "text": [
      "{\n",
      "  \"resources\": [\n",
      "    {\n",
      "      \"metadata\": {\n",
      "        \"guid\": \"1cfae0db-dce3-42cd-bcd7-0773912772d2\",\n",
      "        \"url\": \"https://us-south.ml.cloud.ibm.com/ml/v4/deployments/1cfae0db-dce3-42cd-bcd7-0773912772d2?space_id=79a3d376-144b-4bbc-8c92-fdf187c50b67\",\n",
      "        \"created_at\": \"2020-10-20T21:44:35.728Z\",\n",
      "        \"modified_at\": \"2020-10-20T21:44:35.728Z\"\n",
      "      },\n",
      "      \"entity\": {\n",
      "        \"name\": \"WOS German Risk Deployment WML V4 - JRT1020v1\",\n",
      "        \"type\": \"online\",\n",
      "        \"scoring_endpoint\": {\n",
      "          \"url\": \"https://us-south.ml.cloud.ibm.com/ml/v4/deployments/1cfae0db-dce3-42cd-bcd7-0773912772d2/predictions\"\n",
      "        },\n",
      "        \"asset\": {},\n",
      "        \"asset_properties\": {}\n",
      "      }\n",
      "    },\n",
      "    {\n",
      "      \"metadata\": {\n",
      "        \"guid\": \"3299e567-0627-4020-b7d9-08b9ddd15216\",\n",
      "        \"url\": \"https://us-south.ml.cloud.ibm.com/ml/v4/deployments/3299e567-0627-4020-b7d9-08b9ddd15216?space_id=79a3d376-144b-4bbc-8c92-fdf187c50b67\",\n",
      "        \"created_at\": \"2020-10-12T15:43:45.480Z\",\n",
      "        \"modified_at\": \"2020-10-12T15:43:45.480Z\"\n",
      "      },\n",
      "      \"entity\": {\n",
      "        \"name\": \"WOS German Risk Deployment WML V4 - JRT1012v1\",\n",
      "        \"type\": \"online\",\n",
      "        \"scoring_endpoint\": {\n",
      "          \"url\": \"https://us-south.ml.cloud.ibm.com/ml/v4/deployments/3299e567-0627-4020-b7d9-08b9ddd15216/predictions\"\n",
      "        },\n",
      "        \"asset\": {},\n",
      "        \"asset_properties\": {}\n",
      "      }\n",
      "    },\n",
      "    {\n",
      "      \"metadata\": {\n",
      "        \"guid\": \"f078c548-0130-48fb-87fa-8f54aa05a66d\",\n",
      "        \"url\": \"https://us-south.ml.cloud.ibm.com/ml/v4/deployments/f078c548-0130-48fb-87fa-8f54aa05a66d?space_id=79a3d376-144b-4bbc-8c92-fdf187c50b67\",\n",
      "        \"created_at\": \"2020-10-08T01:12:06.935Z\",\n",
      "        \"modified_at\": \"2020-10-08T01:12:06.935Z\"\n",
      "      },\n",
      "      \"entity\": {\n",
      "        \"name\": \"WOS German Risk Deployment WML V4 - JRT1007v2\",\n",
      "        \"type\": \"online\",\n",
      "        \"scoring_endpoint\": {\n",
      "          \"url\": \"https://us-south.ml.cloud.ibm.com/ml/v4/deployments/f078c548-0130-48fb-87fa-8f54aa05a66d/predictions\"\n",
      "        },\n",
      "        \"asset\": {},\n",
      "        \"asset_properties\": {}\n",
      "      }\n",
      "    }\n",
      "  ],\n",
      "  \"count\": 3\n",
      "}\n"
     ]
    }
   ],
   "source": [
    "asset_deployment_details = wos_client.service_providers.list_assets(data_mart_id=data_mart_id, service_provider_id=service_provider_id, deployment_space_id = WML_SPACE_ID).result['resources'][0]\n",
    "model_asset_details_from_deployment = wos_client.service_providers.get_deployment_asset(data_mart_id=data_mart_id,service_provider_id=service_provider_id,deployment_id=deployment_uid,deployment_space_id=WML_SPACE_ID)\n",
    "\n",
    "all_assets_response = wos_client.service_providers.list_assets(\n",
    "        data_mart_id,\n",
    "        service_provider_id,\n",
    "        deployment_space_id=WML_SPACE_ID\n",
    "     ).result\n",
    "print(json.dumps(all_assets_response, indent=2))"
   ]
  },
  {
   "cell_type": "markdown",
   "metadata": {},
   "source": [
    "## 3.3 Subscriptions"
   ]
  },
  {
   "cell_type": "code",
   "execution_count": 45,
   "metadata": {},
   "outputs": [
    {
     "data": {
      "text/html": [
       "<HTML>\n",
       "        <body>\n",
       "            <h3>Subscriptions</h3>\n",
       "            <table style='border: 1px solid #dddddd; font-family: Courier'>\n",
       "                <th style='border: 1px solid #dddddd'>asset_id</th><th style='border: 1px solid #dddddd'>asset_name</th><th style='border: 1px solid #dddddd'>data_mart_id</th><th style='border: 1px solid #dddddd'>deployment_id</th><th style='border: 1px solid #dddddd'>deployment_name</th><th style='border: 1px solid #dddddd'>service_provider_id</th><th style='border: 1px solid #dddddd'>status</th><th style='border: 1px solid #dddddd'>created_at</th><th style='border: 1px solid #dddddd'>id</th>\n",
       "                <tr><td style='border: 1px solid #dddddd'>191a125b-ef98-48d9-ba9c-2da7a25ee789</td><td style='border: 1px solid #dddddd'>None</td><td style='border: 1px solid #dddddd'>99318397-f315-40be-a572-961b511856bd</td><td style='border: 1px solid #dddddd'>d9abdbb4-cf7a-4783-abf8-57635c54c787</td><td style='border: 1px solid #dddddd'>GermanCreditRiskModel</td><td style='border: 1px solid #dddddd'>303da567-f37d-45e5-8188-97a430ef44f7</td><td style='border: 1px solid #dddddd'>active</td><td style='border: 1px solid #dddddd'>2020-10-13 20:56:10.279000+00:00</td><td style='border: 1px solid #dddddd'>4737de0d-5e04-4c91-80b1-3b934d9e9a6c</td></tr><tr><td style='border: 1px solid #dddddd'>fc979971-7d8e-438b-87e1-433a3bfbb3c9</td><td style='border: 1px solid #dddddd'>None</td><td style='border: 1px solid #dddddd'>99318397-f315-40be-a572-961b511856bd</td><td style='border: 1px solid #dddddd'>057913ba-62a8-477a-8fc7-1644fdb846b0</td><td style='border: 1px solid #dddddd'>GermanCreditRiskModelPreProd</td><td style='border: 1px solid #dddddd'>4cd2b18e-3d4c-4cf2-a12c-6c1b7dbb4d64</td><td style='border: 1px solid #dddddd'>active</td><td style='border: 1px solid #dddddd'>2020-10-13 20:54:33.174000+00:00</td><td style='border: 1px solid #dddddd'>b449f4a6-4249-459a-85ab-139f015429ce</td></tr><tr><td style='border: 1px solid #dddddd'>c55713e8-a62a-458a-815d-80e1059bdf28</td><td style='border: 1px solid #dddddd'>None</td><td style='border: 1px solid #dddddd'>99318397-f315-40be-a572-961b511856bd</td><td style='border: 1px solid #dddddd'>53429ba1-b729-4f8e-a17e-f8f31094d33b</td><td style='border: 1px solid #dddddd'>GermanCreditRiskModelChallenger</td><td style='border: 1px solid #dddddd'>4cd2b18e-3d4c-4cf2-a12c-6c1b7dbb4d64</td><td style='border: 1px solid #dddddd'>active</td><td style='border: 1px solid #dddddd'>2020-10-13 20:53:05.201000+00:00</td><td style='border: 1px solid #dddddd'>ae64e4a6-e2fa-4cfd-b477-6df4219383fc</td></tr>\n",
       "            </table>\n",
       "        </body>\n",
       "        </HTML>"
      ],
      "text/plain": [
       "<IPython.core.display.HTML object>"
      ]
     },
     "metadata": {},
     "output_type": "display_data"
    }
   ],
   "source": [
    "wos_client.subscriptions.show()"
   ]
  },
  {
   "cell_type": "markdown",
   "metadata": {},
   "source": [
    "### 3.3.1 Remove existing credit risk subscriptions"
   ]
  },
  {
   "cell_type": "markdown",
   "metadata": {},
   "source": [
    "This code removes previous subscriptions to the Credit model to refresh the monitors with the new model and new data."
   ]
  },
  {
   "cell_type": "code",
   "execution_count": 46,
   "metadata": {
    "scrolled": true
   },
   "outputs": [],
   "source": [
    "subscriptions = wos_client.subscriptions.list().result.subscriptions\n",
    "for subscription in subscriptions:\n",
    "    sub_model_id = subscription.entity.asset.asset_id\n",
    "    if sub_model_id == model_uid:\n",
    "        wos_client.subscriptions.delete(subscription.metadata.id)\n",
    "        print(\"Deleted existing subscription for model: {}\".format(model_uid))"
   ]
  },
  {
   "cell_type": "markdown",
   "metadata": {},
   "source": [
    "### 3.3.2 Add new credit risk model subscription.\n",
    "\n",
    "This code creates the model subscription in OpenScale using the Python client API. Note that we need to provide the model unique identifier, and some information about the model itself."
   ]
  },
  {
   "cell_type": "code",
   "execution_count": 47,
   "metadata": {},
   "outputs": [],
   "source": [
    "asset = Asset(\n",
    "    asset_id=model_uid,\n",
    "    url=deployment[\"entity\"][\"status\"][\"online_url\"][\"url\"],\n",
    "    name=model_asset_details_from_deployment[\"entity\"][\"asset\"][\"name\"],\n",
    "    asset_type=AssetTypes.MODEL,\n",
    "    input_data_type=InputDataType.STRUCTURED,\n",
    "    problem_type=ProblemType.BINARY_CLASSIFICATION\n",
    ")\n",
    "asset_deployment = AssetDeploymentRequest(\n",
    "    deployment_id=deployment_uid,\n",
    "    name=DEPLOYMENT_NAME,\n",
    "    deployment_type=DeploymentTypes.ONLINE,\n",
    "    url=deployment[\"entity\"][\"status\"][\"online_url\"][\"url\"]\n",
    ")\n",
    "training_data_reference = TrainingDataReference(\n",
    "   type=\"cos\",\n",
    "   location=COSTrainingDataReferenceLocation(\n",
    "       bucket=BUCKET_NAME,\n",
    "       file_name=training_data_file_name\n",
    "   ),\n",
    "   connection=COSTrainingDataReferenceConnection.from_dict(\n",
    "       {\n",
    "           \"resource_instance_id\": COS_RESOURCE_CRN,\n",
    "           \"url\": COS_ENDPOINT,\n",
    "           \"api_key\": COS_API_KEY_ID,\n",
    "           \"iam_url\": \"https://iam.bluemix.net/oidc/token\"\n",
    "       }\n",
    "   )\n",
    ")\n",
    "\n",
    "asset_properties_request = AssetPropertiesRequest(\n",
    "    label_column=\"Risk\",\n",
    "    prediction_field='predictedLabel',\n",
    "    probability_fields=[\"probability\"],\n",
    "    feature_fields = [\"CheckingStatus\",\"LoanDuration\",\"CreditHistory\",\"LoanPurpose\",\"LoanAmount\",\"ExistingSavings\",\"EmploymentDuration\",\"InstallmentPercent\",\"Sex\",\"OthersOnLoan\",\"CurrentResidenceDuration\",\"OwnsProperty\",\"Age\",\"InstallmentPlans\",\"Housing\",\"ExistingCreditsCount\",\"Job\",\"Dependents\",\"Telephone\",\"ForeignWorker\"],\n",
    "    categorical_fields = [\"CheckingStatus\",\"CreditHistory\",\"LoanPurpose\",\"ExistingSavings\",\"EmploymentDuration\",\"Sex\",\"OthersOnLoan\",\"OwnsProperty\",\"InstallmentPlans\",\"Housing\",\"Job\",\"Telephone\",\"ForeignWorker\"],\n",
    "    training_data_reference=training_data_reference,\n",
    "    training_data_schema=SparkStruct.from_dict(model_asset_details_from_deployment[\"entity\"][\"asset_properties\"][\"training_data_schema\"])\n",
    ")"
   ]
  },
  {
   "cell_type": "code",
   "execution_count": 48,
   "metadata": {
    "scrolled": true
   },
   "outputs": [
    {
     "name": "stdout",
     "output_type": "stream",
     "text": [
      "{\n",
      "  \"metadata\": {\n",
      "    \"id\": \"58ec2a87-6d4f-4e54-ad8d-c6517ac9fdef\",\n",
      "    \"crn\": \"crn:v1:bluemix:public:aiopenscale:us-south:a/f365091ee8c74129813329068811cc54:99318397-f315-40be-a572-961b511856bd:subscription:58ec2a87-6d4f-4e54-ad8d-c6517ac9fdef\",\n",
      "    \"url\": \"/v2/subscriptions/58ec2a87-6d4f-4e54-ad8d-c6517ac9fdef\",\n",
      "    \"created_at\": \"2020-10-20T21:45:57.873000Z\",\n",
      "    \"created_by\": \"IBMid-060000GRS6\"\n",
      "  },\n",
      "  \"entity\": {\n",
      "    \"data_mart_id\": \"99318397-f315-40be-a572-961b511856bd\",\n",
      "    \"service_provider_id\": \"6dda1465-c30a-439f-a89e-e329bae8db70\",\n",
      "    \"asset\": {\n",
      "      \"asset_id\": \"a4203511-0f56-4422-807f-d28c4f9eab13\",\n",
      "      \"url\": \"https://us-south.ml.cloud.ibm.com/ml/v4/deployments/1cfae0db-dce3-42cd-bcd7-0773912772d2/predictions\",\n",
      "      \"name\": \"WOS German Risk Model WML V4 - JRT1020v1\",\n",
      "      \"asset_type\": \"model\",\n",
      "      \"problem_type\": \"binary\",\n",
      "      \"input_data_type\": \"structured\"\n",
      "    },\n",
      "    \"asset_properties\": {\n",
      "      \"training_data_reference\": {\n",
      "        \"secret_id\": \"ec51aa6a-6f80-4113-a810-44c4f664d3cd\"\n",
      "      },\n",
      "      \"training_data_schema\": {\n",
      "        \"type\": \"struct\",\n",
      "        \"fields\": [\n",
      "          {\n",
      "            \"metadata\": {\n",
      "              \"measure\": \"discrete\",\n",
      "              \"modeling_role\": \"feature\"\n",
      "            },\n",
      "            \"name\": \"CheckingStatus\",\n",
      "            \"nullable\": true,\n",
      "            \"type\": \"string\"\n",
      "          },\n",
      "          {\n",
      "            \"metadata\": {\n",
      "              \"modeling_role\": \"feature\"\n",
      "            },\n",
      "            \"name\": \"LoanDuration\",\n",
      "            \"nullable\": true,\n",
      "            \"type\": \"long\"\n",
      "          },\n",
      "          {\n",
      "            \"metadata\": {\n",
      "              \"measure\": \"discrete\",\n",
      "              \"modeling_role\": \"feature\"\n",
      "            },\n",
      "            \"name\": \"CreditHistory\",\n",
      "            \"nullable\": true,\n",
      "            \"type\": \"string\"\n",
      "          },\n",
      "          {\n",
      "            \"metadata\": {\n",
      "              \"measure\": \"discrete\",\n",
      "              \"modeling_role\": \"feature\"\n",
      "            },\n",
      "            \"name\": \"LoanPurpose\",\n",
      "            \"nullable\": true,\n",
      "            \"type\": \"string\"\n",
      "          },\n",
      "          {\n",
      "            \"metadata\": {\n",
      "              \"modeling_role\": \"feature\"\n",
      "            },\n",
      "            \"name\": \"LoanAmount\",\n",
      "            \"nullable\": true,\n",
      "            \"type\": \"long\"\n",
      "          },\n",
      "          {\n",
      "            \"metadata\": {\n",
      "              \"measure\": \"discrete\",\n",
      "              \"modeling_role\": \"feature\"\n",
      "            },\n",
      "            \"name\": \"ExistingSavings\",\n",
      "            \"nullable\": true,\n",
      "            \"type\": \"string\"\n",
      "          },\n",
      "          {\n",
      "            \"metadata\": {\n",
      "              \"measure\": \"discrete\",\n",
      "              \"modeling_role\": \"feature\"\n",
      "            },\n",
      "            \"name\": \"EmploymentDuration\",\n",
      "            \"nullable\": true,\n",
      "            \"type\": \"string\"\n",
      "          },\n",
      "          {\n",
      "            \"metadata\": {\n",
      "              \"modeling_role\": \"feature\"\n",
      "            },\n",
      "            \"name\": \"InstallmentPercent\",\n",
      "            \"nullable\": true,\n",
      "            \"type\": \"long\"\n",
      "          },\n",
      "          {\n",
      "            \"metadata\": {\n",
      "              \"measure\": \"discrete\",\n",
      "              \"modeling_role\": \"feature\"\n",
      "            },\n",
      "            \"name\": \"Sex\",\n",
      "            \"nullable\": true,\n",
      "            \"type\": \"string\"\n",
      "          },\n",
      "          {\n",
      "            \"metadata\": {\n",
      "              \"measure\": \"discrete\",\n",
      "              \"modeling_role\": \"feature\"\n",
      "            },\n",
      "            \"name\": \"OthersOnLoan\",\n",
      "            \"nullable\": true,\n",
      "            \"type\": \"string\"\n",
      "          },\n",
      "          {\n",
      "            \"metadata\": {\n",
      "              \"modeling_role\": \"feature\"\n",
      "            },\n",
      "            \"name\": \"CurrentResidenceDuration\",\n",
      "            \"nullable\": true,\n",
      "            \"type\": \"long\"\n",
      "          },\n",
      "          {\n",
      "            \"metadata\": {\n",
      "              \"measure\": \"discrete\",\n",
      "              \"modeling_role\": \"feature\"\n",
      "            },\n",
      "            \"name\": \"OwnsProperty\",\n",
      "            \"nullable\": true,\n",
      "            \"type\": \"string\"\n",
      "          },\n",
      "          {\n",
      "            \"metadata\": {\n",
      "              \"modeling_role\": \"feature\"\n",
      "            },\n",
      "            \"name\": \"Age\",\n",
      "            \"nullable\": true,\n",
      "            \"type\": \"long\"\n",
      "          },\n",
      "          {\n",
      "            \"metadata\": {\n",
      "              \"measure\": \"discrete\",\n",
      "              \"modeling_role\": \"feature\"\n",
      "            },\n",
      "            \"name\": \"InstallmentPlans\",\n",
      "            \"nullable\": true,\n",
      "            \"type\": \"string\"\n",
      "          },\n",
      "          {\n",
      "            \"metadata\": {\n",
      "              \"measure\": \"discrete\",\n",
      "              \"modeling_role\": \"feature\"\n",
      "            },\n",
      "            \"name\": \"Housing\",\n",
      "            \"nullable\": true,\n",
      "            \"type\": \"string\"\n",
      "          },\n",
      "          {\n",
      "            \"metadata\": {\n",
      "              \"modeling_role\": \"feature\"\n",
      "            },\n",
      "            \"name\": \"ExistingCreditsCount\",\n",
      "            \"nullable\": true,\n",
      "            \"type\": \"long\"\n",
      "          },\n",
      "          {\n",
      "            \"metadata\": {\n",
      "              \"measure\": \"discrete\",\n",
      "              \"modeling_role\": \"feature\"\n",
      "            },\n",
      "            \"name\": \"Job\",\n",
      "            \"nullable\": true,\n",
      "            \"type\": \"string\"\n",
      "          },\n",
      "          {\n",
      "            \"metadata\": {\n",
      "              \"modeling_role\": \"feature\"\n",
      "            },\n",
      "            \"name\": \"Dependents\",\n",
      "            \"nullable\": true,\n",
      "            \"type\": \"long\"\n",
      "          },\n",
      "          {\n",
      "            \"metadata\": {\n",
      "              \"measure\": \"discrete\",\n",
      "              \"modeling_role\": \"feature\"\n",
      "            },\n",
      "            \"name\": \"Telephone\",\n",
      "            \"nullable\": true,\n",
      "            \"type\": \"string\"\n",
      "          },\n",
      "          {\n",
      "            \"metadata\": {\n",
      "              \"measure\": \"discrete\",\n",
      "              \"modeling_role\": \"feature\"\n",
      "            },\n",
      "            \"name\": \"ForeignWorker\",\n",
      "            \"nullable\": true,\n",
      "            \"type\": \"string\"\n",
      "          },\n",
      "          {\n",
      "            \"metadata\": {\n",
      "              \"modeling_role\": \"target\"\n",
      "            },\n",
      "            \"name\": \"Risk\",\n",
      "            \"nullable\": true,\n",
      "            \"type\": \"string\"\n",
      "          }\n",
      "        ],\n",
      "        \"id\": \"1\"\n",
      "      },\n",
      "      \"label_column\": \"Risk\",\n",
      "      \"prediction_field\": \"predictedLabel\",\n",
      "      \"feature_fields\": [\n",
      "        \"CheckingStatus\",\n",
      "        \"LoanDuration\",\n",
      "        \"CreditHistory\",\n",
      "        \"LoanPurpose\",\n",
      "        \"LoanAmount\",\n",
      "        \"ExistingSavings\",\n",
      "        \"EmploymentDuration\",\n",
      "        \"InstallmentPercent\",\n",
      "        \"Sex\",\n",
      "        \"OthersOnLoan\",\n",
      "        \"CurrentResidenceDuration\",\n",
      "        \"OwnsProperty\",\n",
      "        \"Age\",\n",
      "        \"InstallmentPlans\",\n",
      "        \"Housing\",\n",
      "        \"ExistingCreditsCount\",\n",
      "        \"Job\",\n",
      "        \"Dependents\",\n",
      "        \"Telephone\",\n",
      "        \"ForeignWorker\"\n",
      "      ],\n",
      "      \"categorical_fields\": [\n",
      "        \"CheckingStatus\",\n",
      "        \"CreditHistory\",\n",
      "        \"LoanPurpose\",\n",
      "        \"ExistingSavings\",\n",
      "        \"EmploymentDuration\",\n",
      "        \"Sex\",\n",
      "        \"OthersOnLoan\",\n",
      "        \"OwnsProperty\",\n",
      "        \"InstallmentPlans\",\n",
      "        \"Housing\",\n",
      "        \"Job\",\n",
      "        \"Telephone\",\n",
      "        \"ForeignWorker\"\n",
      "      ],\n",
      "      \"probability_fields\": [\n",
      "        \"probability\"\n",
      "      ]\n",
      "    },\n",
      "    \"deployment\": {\n",
      "      \"deployment_id\": \"1cfae0db-dce3-42cd-bcd7-0773912772d2\",\n",
      "      \"url\": \"https://us-south.ml.cloud.ibm.com/ml/v4/deployments/1cfae0db-dce3-42cd-bcd7-0773912772d2/predictions\",\n",
      "      \"name\": \"WOS German Risk Deployment WML V4 - JRT1020v1\",\n",
      "      \"deployment_type\": \"online\"\n",
      "    },\n",
      "    \"status\": {\n",
      "      \"state\": \"preparing\"\n",
      "    }\n",
      "  }\n",
      "}\n"
     ]
    }
   ],
   "source": [
    "subscription_details = wos_client.subscriptions.add(\n",
    "        data_mart_id=data_mart_id,\n",
    "        service_provider_id=service_provider_id,\n",
    "        asset=asset,\n",
    "        deployment=asset_deployment,\n",
    "        asset_properties=asset_properties_request).result\n",
    "subscription_id = subscription_details.metadata.id\n",
    "print(subscription_details)"
   ]
  },
  {
   "cell_type": "markdown",
   "metadata": {},
   "source": [
    "### 3.3.3 Check Payload Logging Dataset"
   ]
  },
  {
   "cell_type": "code",
   "execution_count": 49,
   "metadata": {
    "scrolled": false
   },
   "outputs": [
    {
     "name": "stdout",
     "output_type": "stream",
     "text": [
      "Payload data set id: c28c505d-3db2-46ce-94e6-52e8acac36f2\n"
     ]
    }
   ],
   "source": [
    "time.sleep(5)\n",
    "payload_data_set_id = None\n",
    "payload_data_set_id = wos_client.data_sets.list(type=DataSetTypes.PAYLOAD_LOGGING, \n",
    "                                                target_target_id=subscription_id, \n",
    "                                                target_target_type=TargetTypes.SUBSCRIPTION).result.data_sets[0].metadata.id\n",
    "if payload_data_set_id is None:\n",
    "    print(\"Payload data set not found. Please check subscription status.\")\n",
    "else:\n",
    "    print(\"Payload data set id: {}\".format(payload_data_set_id))"
   ]
  },
  {
   "cell_type": "code",
   "execution_count": 50,
   "metadata": {
    "scrolled": false
   },
   "outputs": [
    {
     "data": {
      "text/html": [
       "<HTML>\n",
       "        <body>\n",
       "            <h3>Data sets</h3>\n",
       "            <table style='border: 1px solid #dddddd; font-family: Courier'>\n",
       "                <th style='border: 1px solid #dddddd'>data_mart_id</th><th style='border: 1px solid #dddddd'>status</th><th style='border: 1px solid #dddddd'>target_id</th><th style='border: 1px solid #dddddd'>target_type</th><th style='border: 1px solid #dddddd'>type</th><th style='border: 1px solid #dddddd'>created_at</th><th style='border: 1px solid #dddddd'>id</th>\n",
       "                <tr><td style='border: 1px solid #dddddd'>99318397-f315-40be-a572-961b511856bd</td><td style='border: 1px solid #dddddd'>active</td><td style='border: 1px solid #dddddd'>58ec2a87-6d4f-4e54-ad8d-c6517ac9fdef</td><td style='border: 1px solid #dddddd'>subscription</td><td style='border: 1px solid #dddddd'>manual_labeling</td><td style='border: 1px solid #dddddd'>2020-10-20 21:45:59.028000+00:00</td><td style='border: 1px solid #dddddd'>fb014a2c-4afb-4ee2-a3c1-ddc2d508d6af</td></tr><tr><td style='border: 1px solid #dddddd'>99318397-f315-40be-a572-961b511856bd</td><td style='border: 1px solid #dddddd'>active</td><td style='border: 1px solid #dddddd'>58ec2a87-6d4f-4e54-ad8d-c6517ac9fdef</td><td style='border: 1px solid #dddddd'>subscription</td><td style='border: 1px solid #dddddd'>payload_logging</td><td style='border: 1px solid #dddddd'>2020-10-20 21:45:58.950000+00:00</td><td style='border: 1px solid #dddddd'>c28c505d-3db2-46ce-94e6-52e8acac36f2</td></tr><tr><td style='border: 1px solid #dddddd'>99318397-f315-40be-a572-961b511856bd</td><td style='border: 1px solid #dddddd'>active</td><td style='border: 1px solid #dddddd'>4737de0d-5e04-4c91-80b1-3b934d9e9a6c</td><td style='border: 1px solid #dddddd'>subscription</td><td style='border: 1px solid #dddddd'>manual_labeling</td><td style='border: 1px solid #dddddd'>2020-10-13 20:56:12.560000+00:00</td><td style='border: 1px solid #dddddd'>66fce8c7-1579-4a5f-a5f3-10bce8a0352f</td></tr><tr><td style='border: 1px solid #dddddd'>99318397-f315-40be-a572-961b511856bd</td><td style='border: 1px solid #dddddd'>active</td><td style='border: 1px solid #dddddd'>4737de0d-5e04-4c91-80b1-3b934d9e9a6c</td><td style='border: 1px solid #dddddd'>subscription</td><td style='border: 1px solid #dddddd'>payload_logging</td><td style='border: 1px solid #dddddd'>2020-10-13 20:56:12.464000+00:00</td><td style='border: 1px solid #dddddd'>0dcb54d4-b1f2-4eb2-b36b-ab3b89fcebcf</td></tr><tr><td style='border: 1px solid #dddddd'>99318397-f315-40be-a572-961b511856bd</td><td style='border: 1px solid #dddddd'>active</td><td style='border: 1px solid #dddddd'>4737de0d-5e04-4c91-80b1-3b934d9e9a6c</td><td style='border: 1px solid #dddddd'>subscription</td><td style='border: 1px solid #dddddd'>feedback</td><td style='border: 1px solid #dddddd'>2020-10-13 20:56:37.059000+00:00</td><td style='border: 1px solid #dddddd'>28d37bc4-c624-4064-b610-e38ecf814e30</td></tr><tr><td style='border: 1px solid #dddddd'>99318397-f315-40be-a572-961b511856bd</td><td style='border: 1px solid #dddddd'>active</td><td style='border: 1px solid #dddddd'>b449f4a6-4249-459a-85ab-139f015429ce</td><td style='border: 1px solid #dddddd'>subscription</td><td style='border: 1px solid #dddddd'>manual_labeling</td><td style='border: 1px solid #dddddd'>2020-10-13 20:54:34.088000+00:00</td><td style='border: 1px solid #dddddd'>94cc0bac-697f-4e9d-918a-6b2c2cd0fab2</td></tr><tr><td style='border: 1px solid #dddddd'>99318397-f315-40be-a572-961b511856bd</td><td style='border: 1px solid #dddddd'>active</td><td style='border: 1px solid #dddddd'>4737de0d-5e04-4c91-80b1-3b934d9e9a6c</td><td style='border: 1px solid #dddddd'>subscription</td><td style='border: 1px solid #dddddd'>training</td><td style='border: 1px solid #dddddd'>2020-10-13 20:56:12.642000+00:00</td><td style='border: 1px solid #dddddd'>60e51703-ab82-4428-afbb-5b61789e469a</td></tr><tr><td style='border: 1px solid #dddddd'>99318397-f315-40be-a572-961b511856bd</td><td style='border: 1px solid #dddddd'>active</td><td style='border: 1px solid #dddddd'>b449f4a6-4249-459a-85ab-139f015429ce</td><td style='border: 1px solid #dddddd'>subscription</td><td style='border: 1px solid #dddddd'>payload_logging</td><td style='border: 1px solid #dddddd'>2020-10-13 20:54:33.989000+00:00</td><td style='border: 1px solid #dddddd'>e81d262b-1379-40e9-9a4f-161987a0898f</td></tr><tr><td style='border: 1px solid #dddddd'>99318397-f315-40be-a572-961b511856bd</td><td style='border: 1px solid #dddddd'>active</td><td style='border: 1px solid #dddddd'>b449f4a6-4249-459a-85ab-139f015429ce</td><td style='border: 1px solid #dddddd'>subscription</td><td style='border: 1px solid #dddddd'>feedback</td><td style='border: 1px solid #dddddd'>2020-10-13 20:54:59.381000+00:00</td><td style='border: 1px solid #dddddd'>3377a80a-8f36-4c69-9dce-dc6a1d256539</td></tr><tr><td style='border: 1px solid #dddddd'>99318397-f315-40be-a572-961b511856bd</td><td style='border: 1px solid #dddddd'>active</td><td style='border: 1px solid #dddddd'>b449f4a6-4249-459a-85ab-139f015429ce</td><td style='border: 1px solid #dddddd'>subscription</td><td style='border: 1px solid #dddddd'>training</td><td style='border: 1px solid #dddddd'>2020-10-13 20:54:34.171000+00:00</td><td style='border: 1px solid #dddddd'>aa1b8ae8-973c-4dfc-8199-586eb1d1eaa8</td></tr>\n",
       "            </table>\n",
       "        </body>\n",
       "        </HTML>"
      ],
      "text/plain": [
       "<IPython.core.display.HTML object>"
      ]
     },
     "metadata": {},
     "output_type": "display_data"
    },
    {
     "name": "stdout",
     "output_type": "stream",
     "text": [
      "Note: First 10 records were displayed.\n"
     ]
    }
   ],
   "source": [
    "wos_client.data_sets.show()"
   ]
  },
  {
   "cell_type": "code",
   "execution_count": 51,
   "metadata": {},
   "outputs": [
    {
     "data": {
      "text/html": [
       "<HTML>\n",
       "        <body>\n",
       "            <h3>Subscriptions</h3>\n",
       "            <table style='border: 1px solid #dddddd; font-family: Courier'>\n",
       "                <th style='border: 1px solid #dddddd'>asset_id</th><th style='border: 1px solid #dddddd'>asset_name</th><th style='border: 1px solid #dddddd'>data_mart_id</th><th style='border: 1px solid #dddddd'>deployment_id</th><th style='border: 1px solid #dddddd'>deployment_name</th><th style='border: 1px solid #dddddd'>service_provider_id</th><th style='border: 1px solid #dddddd'>status</th><th style='border: 1px solid #dddddd'>created_at</th><th style='border: 1px solid #dddddd'>id</th>\n",
       "                <tr><td style='border: 1px solid #dddddd'>a4203511-0f56-4422-807f-d28c4f9eab13</td><td style='border: 1px solid #dddddd'>WOS German Risk Model WML V4 - JRT1020v1</td><td style='border: 1px solid #dddddd'>99318397-f315-40be-a572-961b511856bd</td><td style='border: 1px solid #dddddd'>1cfae0db-dce3-42cd-bcd7-0773912772d2</td><td style='border: 1px solid #dddddd'>WOS German Risk Deployment WML V4 - JRT1020v1</td><td style='border: 1px solid #dddddd'>6dda1465-c30a-439f-a89e-e329bae8db70</td><td style='border: 1px solid #dddddd'>active</td><td style='border: 1px solid #dddddd'>2020-10-20 21:45:57.873000+00:00</td><td style='border: 1px solid #dddddd'>58ec2a87-6d4f-4e54-ad8d-c6517ac9fdef</td></tr><tr><td style='border: 1px solid #dddddd'>191a125b-ef98-48d9-ba9c-2da7a25ee789</td><td style='border: 1px solid #dddddd'>None</td><td style='border: 1px solid #dddddd'>99318397-f315-40be-a572-961b511856bd</td><td style='border: 1px solid #dddddd'>d9abdbb4-cf7a-4783-abf8-57635c54c787</td><td style='border: 1px solid #dddddd'>GermanCreditRiskModel</td><td style='border: 1px solid #dddddd'>303da567-f37d-45e5-8188-97a430ef44f7</td><td style='border: 1px solid #dddddd'>active</td><td style='border: 1px solid #dddddd'>2020-10-13 20:56:10.279000+00:00</td><td style='border: 1px solid #dddddd'>4737de0d-5e04-4c91-80b1-3b934d9e9a6c</td></tr><tr><td style='border: 1px solid #dddddd'>fc979971-7d8e-438b-87e1-433a3bfbb3c9</td><td style='border: 1px solid #dddddd'>None</td><td style='border: 1px solid #dddddd'>99318397-f315-40be-a572-961b511856bd</td><td style='border: 1px solid #dddddd'>057913ba-62a8-477a-8fc7-1644fdb846b0</td><td style='border: 1px solid #dddddd'>GermanCreditRiskModelPreProd</td><td style='border: 1px solid #dddddd'>4cd2b18e-3d4c-4cf2-a12c-6c1b7dbb4d64</td><td style='border: 1px solid #dddddd'>active</td><td style='border: 1px solid #dddddd'>2020-10-13 20:54:33.174000+00:00</td><td style='border: 1px solid #dddddd'>b449f4a6-4249-459a-85ab-139f015429ce</td></tr><tr><td style='border: 1px solid #dddddd'>c55713e8-a62a-458a-815d-80e1059bdf28</td><td style='border: 1px solid #dddddd'>None</td><td style='border: 1px solid #dddddd'>99318397-f315-40be-a572-961b511856bd</td><td style='border: 1px solid #dddddd'>53429ba1-b729-4f8e-a17e-f8f31094d33b</td><td style='border: 1px solid #dddddd'>GermanCreditRiskModelChallenger</td><td style='border: 1px solid #dddddd'>4cd2b18e-3d4c-4cf2-a12c-6c1b7dbb4d64</td><td style='border: 1px solid #dddddd'>active</td><td style='border: 1px solid #dddddd'>2020-10-13 20:53:05.201000+00:00</td><td style='border: 1px solid #dddddd'>ae64e4a6-e2fa-4cfd-b477-6df4219383fc</td></tr>\n",
       "            </table>\n",
       "        </body>\n",
       "        </HTML>"
      ],
      "text/plain": [
       "<IPython.core.display.HTML object>"
      ]
     },
     "metadata": {},
     "output_type": "display_data"
    }
   ],
   "source": [
    "wos_client.subscriptions.show()"
   ]
  },
  {
   "cell_type": "markdown",
   "metadata": {},
   "source": [
    "### 3.3.4 Score the model so we can configure monitors\n",
    "\n",
    "Now that the WML service has been bound and the subscription has been created, we need to send a request to the model before we configure OpenScale. This allows OpenScale to create a payload log in the datamart with the correct schema, so it can capture data coming into and out of the model. First, the code gets the model deployment's endpoint URL, and then sends a few records for predictions."
   ]
  },
  {
   "cell_type": "code",
   "execution_count": 52,
   "metadata": {
    "scrolled": true
   },
   "outputs": [
    {
     "name": "stdout",
     "output_type": "stream",
     "text": [
      "Scoring result: No Risk\n",
      "Scoring result: No Risk\n",
      "Scoring result: No Risk\n",
      "Scoring result: No Risk\n",
      "Scoring result: No Risk\n",
      "Scoring result: No Risk\n",
      "Scoring result: Risk\n",
      "Scoring result: No Risk\n"
     ]
    }
   ],
   "source": [
    "fields = [\"CheckingStatus\",\"LoanDuration\",\"CreditHistory\",\"LoanPurpose\",\"LoanAmount\",\"ExistingSavings\",\"EmploymentDuration\",\n",
    "          \"InstallmentPercent\",\"Sex\",\"OthersOnLoan\",\"CurrentResidenceDuration\",\"OwnsProperty\",\"Age\",\"InstallmentPlans\",\n",
    "          \"Housing\",\"ExistingCreditsCount\",\"Job\",\"Dependents\",\"Telephone\",\"ForeignWorker\"]\n",
    "values = [\n",
    "  [\"no_checking\",13,\"credits_paid_to_date\",\"car_new\",1343,\"100_to_500\",\"1_to_4\",2,\"female\",\"none\",3,\"savings_insurance\",46,\"none\",\"own\",2,\"skilled\",1,\"none\",\"yes\"],\n",
    "  [\"no_checking\",24,\"prior_payments_delayed\",\"furniture\",4567,\"500_to_1000\",\"1_to_4\",4,\"male\",\"none\",4,\"savings_insurance\",36,\"none\",\"free\",2,\"management_self-employed\",1,\"none\",\"yes\"],\n",
    "  [\"0_to_200\",26,\"all_credits_paid_back\",\"car_new\",863,\"less_100\",\"less_1\",2,\"female\",\"co-applicant\",2,\"real_estate\",38,\"none\",\"own\",1,\"skilled\",1,\"none\",\"yes\"],\n",
    "  [\"0_to_200\",14,\"no_credits\",\"car_new\",2368,\"less_100\",\"1_to_4\",3,\"female\",\"none\",3,\"real_estate\",29,\"none\",\"own\",1,\"skilled\",1,\"none\",\"yes\"],\n",
    "  [\"0_to_200\",4,\"no_credits\",\"car_new\",250,\"less_100\",\"unemployed\",2,\"female\",\"none\",3,\"real_estate\",23,\"none\",\"rent\",1,\"management_self-employed\",1,\"none\",\"yes\"],\n",
    "  [\"no_checking\",17,\"credits_paid_to_date\",\"car_new\",832,\"100_to_500\",\"1_to_4\",2,\"male\",\"none\",2,\"real_estate\",42,\"none\",\"own\",1,\"skilled\",1,\"none\",\"yes\"],\n",
    "  [\"no_checking\",33,\"outstanding_credit\",\"appliances\",5696,\"unknown\",\"greater_7\",4,\"male\",\"co-applicant\",4,\"unknown\",54,\"none\",\"free\",2,\"skilled\",1,\"yes\",\"yes\"],\n",
    "  [\"0_to_200\",13,\"prior_payments_delayed\",\"retraining\",1375,\"100_to_500\",\"4_to_7\",3,\"male\",\"none\",3,\"real_estate\",37,\"none\",\"own\",2,\"management_self-employed\",1,\"none\",\"yes\"]\n",
    "]\n",
    "\n",
    "payload_scoring = {\"input_data\": [{\"fields\": fields, \"values\": values}]}\n",
    "predictions = wml_client.deployments.score(deployment_uid, payload_scoring)\n",
    "for pred in predictions[\"predictions\"][0][\"values\"]:\n",
    "    print(\"Scoring result: {}\".format(pred[-1]))#last item in the values array is the prediction for Spark classification model"
   ]
  },
  {
   "cell_type": "markdown",
   "metadata": {},
   "source": [
    "#### 3.3.4.1 Validate Payload Logging\n",
    "\n",
    "Check that automatic storing of scoring to payload logging table occured. If the payload logging table does not have expected number of records, we could manually store the records into the payload logging table.\n",
    "\n",
    "The number of records in the payload logging table should be equal to number of records submitted in previous cell (i.e 8)."
   ]
  },
  {
   "cell_type": "code",
   "execution_count": 53,
   "metadata": {},
   "outputs": [
    {
     "name": "stdout",
     "output_type": "stream",
     "text": [
      "Number of records in the payload logging table: 8\n"
     ]
    }
   ],
   "source": [
    "import uuid\n",
    "from ibm_watson_openscale.supporting_classes.payload_record import PayloadRecord\n",
    "\n",
    "time.sleep(5)\n",
    "pl_records_count = wos_client.data_sets.get_records_count(payload_data_set_id)\n",
    "print(\"Number of records in the payload logging table: {}\".format(pl_records_count))"
   ]
  },
  {
   "cell_type": "code",
   "execution_count": 54,
   "metadata": {},
   "outputs": [],
   "source": [
    "# If automatic logging is not happening, we could manual log them\n",
    "if pl_records_count == 0:\n",
    "    print(\"Payload logging did not happen, performing explicit payload logging.\")\n",
    "    wos_client.data_sets.store_records(data_set_id=payload_data_set_id, request_body=[PayloadRecord(\n",
    "                   scoring_id=str(uuid.uuid4()),\n",
    "                   request=payload_scoring,\n",
    "                   response=predictions,\n",
    "                   response_time=460\n",
    "               )])\n",
    "    time.sleep(5)\n",
    "    pl_records_count = wos_client.data_sets.get_records_count(payload_data_set_id)\n",
    "    print(\"Number of records in the payload logging table: {}\".format(pl_records_count))"
   ]
  },
  {
   "cell_type": "markdown",
   "metadata": {},
   "source": [
    "# 4.0 Quality monitoring and feedback logging <a name=\"quality\"></a>"
   ]
  },
  {
   "cell_type": "code",
   "execution_count": 55,
   "metadata": {},
   "outputs": [
    {
     "data": {
      "text/html": [
       "<HTML>\n",
       "        <body>\n",
       "            <h3>Monitor instances</h3>\n",
       "            <table style='border: 1px solid #dddddd; font-family: Courier'>\n",
       "                <th style='border: 1px solid #dddddd'>data_mart_id</th><th style='border: 1px solid #dddddd'>status</th><th style='border: 1px solid #dddddd'>target_id</th><th style='border: 1px solid #dddddd'>target_type</th><th style='border: 1px solid #dddddd'>monitor_definition_id</th><th style='border: 1px solid #dddddd'>created_at</th><th style='border: 1px solid #dddddd'>id</th>\n",
       "                <tr><td style='border: 1px solid #dddddd'>99318397-f315-40be-a572-961b511856bd</td><td style='border: 1px solid #dddddd'>active</td><td style='border: 1px solid #dddddd'>4737de0d-5e04-4c91-80b1-3b934d9e9a6c</td><td style='border: 1px solid #dddddd'>subscription</td><td style='border: 1px solid #dddddd'>drift</td><td style='border: 1px solid #dddddd'>2020-10-13 20:56:42.555000+00:00</td><td style='border: 1px solid #dddddd'>9104b117-7ebe-4882-b55a-1daf08ebf86d</td></tr><tr><td style='border: 1px solid #dddddd'>99318397-f315-40be-a572-961b511856bd</td><td style='border: 1px solid #dddddd'>active</td><td style='border: 1px solid #dddddd'>4737de0d-5e04-4c91-80b1-3b934d9e9a6c</td><td style='border: 1px solid #dddddd'>subscription</td><td style='border: 1px solid #dddddd'>fairness</td><td style='border: 1px solid #dddddd'>2020-10-13 20:56:30.974000+00:00</td><td style='border: 1px solid #dddddd'>291b3734-a491-4bbb-a36a-641d7b47e3d4</td></tr><tr><td style='border: 1px solid #dddddd'>99318397-f315-40be-a572-961b511856bd</td><td style='border: 1px solid #dddddd'>active</td><td style='border: 1px solid #dddddd'>4737de0d-5e04-4c91-80b1-3b934d9e9a6c</td><td style='border: 1px solid #dddddd'>subscription</td><td style='border: 1px solid #dddddd'>mrm</td><td style='border: 1px solid #dddddd'>2020-10-13 20:56:47.963000+00:00</td><td style='border: 1px solid #dddddd'>0e34a447-2f10-4941-bbb2-1fddaa22e1a7</td></tr><tr><td style='border: 1px solid #dddddd'>99318397-f315-40be-a572-961b511856bd</td><td style='border: 1px solid #dddddd'>active</td><td style='border: 1px solid #dddddd'>4737de0d-5e04-4c91-80b1-3b934d9e9a6c</td><td style='border: 1px solid #dddddd'>subscription</td><td style='border: 1px solid #dddddd'>quality</td><td style='border: 1px solid #dddddd'>2020-10-13 20:56:36.510000+00:00</td><td style='border: 1px solid #dddddd'>50f05fbf-ebc3-4cc4-9ebe-52b6d1f1ceba</td></tr><tr><td style='border: 1px solid #dddddd'>99318397-f315-40be-a572-961b511856bd</td><td style='border: 1px solid #dddddd'>active</td><td style='border: 1px solid #dddddd'>4737de0d-5e04-4c91-80b1-3b934d9e9a6c</td><td style='border: 1px solid #dddddd'>subscription</td><td style='border: 1px solid #dddddd'>explainability</td><td style='border: 1px solid #dddddd'>2020-10-13 20:56:25.514000+00:00</td><td style='border: 1px solid #dddddd'>d8352727-d28a-44cc-9b8e-70c4181c4ecb</td></tr><tr><td style='border: 1px solid #dddddd'>99318397-f315-40be-a572-961b511856bd</td><td style='border: 1px solid #dddddd'>active</td><td style='border: 1px solid #dddddd'>b449f4a6-4249-459a-85ab-139f015429ce</td><td style='border: 1px solid #dddddd'>subscription</td><td style='border: 1px solid #dddddd'>fairness</td><td style='border: 1px solid #dddddd'>2020-10-13 20:54:53.345000+00:00</td><td style='border: 1px solid #dddddd'>d0fa9fa2-d812-4e11-947e-13c2f7febaf8</td></tr><tr><td style='border: 1px solid #dddddd'>99318397-f315-40be-a572-961b511856bd</td><td style='border: 1px solid #dddddd'>active</td><td style='border: 1px solid #dddddd'>b449f4a6-4249-459a-85ab-139f015429ce</td><td style='border: 1px solid #dddddd'>subscription</td><td style='border: 1px solid #dddddd'>drift</td><td style='border: 1px solid #dddddd'>2020-10-13 20:55:04.790000+00:00</td><td style='border: 1px solid #dddddd'>36be10bd-ebe1-460d-8d46-15572f944532</td></tr><tr><td style='border: 1px solid #dddddd'>99318397-f315-40be-a572-961b511856bd</td><td style='border: 1px solid #dddddd'>active</td><td style='border: 1px solid #dddddd'>b449f4a6-4249-459a-85ab-139f015429ce</td><td style='border: 1px solid #dddddd'>subscription</td><td style='border: 1px solid #dddddd'>mrm</td><td style='border: 1px solid #dddddd'>2020-10-13 20:55:10.242000+00:00</td><td style='border: 1px solid #dddddd'>8286d5db-33c2-446e-a3c8-cf9878fe6c78</td></tr><tr><td style='border: 1px solid #dddddd'>99318397-f315-40be-a572-961b511856bd</td><td style='border: 1px solid #dddddd'>active</td><td style='border: 1px solid #dddddd'>b449f4a6-4249-459a-85ab-139f015429ce</td><td style='border: 1px solid #dddddd'>subscription</td><td style='border: 1px solid #dddddd'>quality</td><td style='border: 1px solid #dddddd'>2020-10-13 20:54:58.853000+00:00</td><td style='border: 1px solid #dddddd'>876893f2-ded3-4245-b52d-9444cd0d2db0</td></tr><tr><td style='border: 1px solid #dddddd'>99318397-f315-40be-a572-961b511856bd</td><td style='border: 1px solid #dddddd'>active</td><td style='border: 1px solid #dddddd'>b449f4a6-4249-459a-85ab-139f015429ce</td><td style='border: 1px solid #dddddd'>subscription</td><td style='border: 1px solid #dddddd'>explainability</td><td style='border: 1px solid #dddddd'>2020-10-13 20:54:47.916000+00:00</td><td style='border: 1px solid #dddddd'>66bb51be-88c5-45e5-9e9b-1305c09f5695</td></tr>\n",
       "            </table>\n",
       "        </body>\n",
       "        </HTML>"
      ],
      "text/plain": [
       "<IPython.core.display.HTML object>"
      ]
     },
     "metadata": {},
     "output_type": "display_data"
    },
    {
     "name": "stdout",
     "output_type": "stream",
     "text": [
      "Note: First 10 records were displayed.\n"
     ]
    }
   ],
   "source": [
    "wos_client.monitor_instances.show()"
   ]
  },
  {
   "cell_type": "markdown",
   "metadata": {},
   "source": [
    "## 4.1 Enable quality monitoring"
   ]
  },
  {
   "cell_type": "markdown",
   "metadata": {},
   "source": [
    "The code below waits ten seconds to allow the payload logging table to be set up before it begins enabling monitors. First, it turns on the quality (accuracy) monitor and sets an alert threshold of 70%. OpenScale will show an alert on the dashboard if the model accuracy measurement (area under the curve, in the case of a binary classifier) falls below this threshold.\n",
    "\n",
    "The second paramater supplied, min_records, specifies the minimum number of feedback records OpenScale needs before it calculates a new measurement. The quality monitor runs hourly, but the accuracy reading in the dashboard will not change until an additional 50 feedback records have been added, via the user interface, the Python client, or the supplied feedback endpoint."
   ]
  },
  {
   "cell_type": "code",
   "execution_count": 56,
   "metadata": {
    "scrolled": false
   },
   "outputs": [
    {
     "name": "stdout",
     "output_type": "stream",
     "text": [
      "\n",
      "\n",
      "===================================================================================\n",
      "\n",
      " Waiting for end of monitor instance creation 522b115b-92fb-4418-ac8d-fe7217ab779d \n",
      "\n",
      "===================================================================================\n",
      "\n",
      "\n",
      "\n",
      "active\n",
      "\n",
      "---------------------------------------\n",
      " Monitor instance successfully created \n",
      "---------------------------------------\n",
      "\n",
      "\n",
      "Quality Monitor ID: 522b115b-92fb-4418-ac8d-fe7217ab779d\n"
     ]
    }
   ],
   "source": [
    "time.sleep(10)\n",
    "target = Target(\n",
    "        target_type=TargetTypes.SUBSCRIPTION,\n",
    "        target_id=subscription_id\n",
    ")\n",
    "\n",
    "parameters = {\n",
    "    \"min_feedback_data_size\": 50\n",
    "}\n",
    "\n",
    "thresholds = [\n",
    "    MetricThresholdOverride(\n",
    "        metric_id=\"area_under_roc\",\n",
    "        type=MetricThresholdTypes.LOWER_LIMIT,\n",
    "        value=0.7\n",
    "    )\n",
    "]\n",
    "\n",
    "quality_monitor_details = wos_client.monitor_instances.create(\n",
    "    data_mart_id=data_mart_id,\n",
    "    background_mode=False,\n",
    "    monitor_definition_id=wos_client.monitor_definitions.MONITORS.QUALITY.ID,\n",
    "    target=target,\n",
    "    parameters=parameters,\n",
    "    thresholds=thresholds\n",
    ").result\n",
    "\n",
    "quality_monitor_instance_id = quality_monitor_details.metadata.id\n",
    "print(\"Quality Monitor ID: {}\".format(quality_monitor_instance_id))"
   ]
  },
  {
   "cell_type": "markdown",
   "metadata": {},
   "source": [
    "## 4.2 Feedback logging"
   ]
  },
  {
   "cell_type": "markdown",
   "metadata": {},
   "source": [
    "The code below downloads and stores enough feedback data to meet the minimum threshold so that OpenScale can calculate a new accuracy measurement. It then kicks off the accuracy monitor. The monitors run hourly, or can be initiated via the Python API, the REST API, or the graphical user interface."
   ]
  },
  {
   "cell_type": "code",
   "execution_count": 57,
   "metadata": {},
   "outputs": [
    {
     "name": "stdout",
     "output_type": "stream",
     "text": [
      "-rw-r----- 1 wsuser watsonstudio 50K Oct 20 21:47 additional_feedback_data_v2.json\r\n"
     ]
    }
   ],
   "source": [
    "!rm additional_feedback_data_v2.json\n",
    "with io.capture_output() as captured:\n",
    "    !wget https://raw.githubusercontent.com/pmservice/ai-openscale-tutorials/master/assets/historical_data/german_credit_risk/wml/additional_feedback_data_v2.json -O additional_feedback_data_v2.json\n",
    "    \n",
    "!ls -lh additional_feedback_data_v2.json"
   ]
  },
  {
   "cell_type": "code",
   "execution_count": 58,
   "metadata": {},
   "outputs": [],
   "source": [
    "feedback_dataset_id = None\n",
    "feedback_dataset = wos_client.data_sets.list(type=DataSetTypes.FEEDBACK, \n",
    "                                                target_target_id=subscription_id, \n",
    "                                                target_target_type=TargetTypes.SUBSCRIPTION).result\n",
    "\n",
    "feedback_dataset_id = feedback_dataset.data_sets[0].metadata.id\n",
    "if feedback_dataset_id is None:\n",
    "    print(\"Feedback data set not found. Please check quality monitor status.\")"
   ]
  },
  {
   "cell_type": "code",
   "execution_count": 59,
   "metadata": {},
   "outputs": [],
   "source": [
    "with open('additional_feedback_data_v2.json') as feedback_file:\n",
    "    additional_feedback_data = json.load(feedback_file)"
   ]
  },
  {
   "cell_type": "code",
   "execution_count": 60,
   "metadata": {},
   "outputs": [
    {
     "data": {
      "text/plain": [
       "0"
      ]
     },
     "execution_count": 60,
     "metadata": {},
     "output_type": "execute_result"
    }
   ],
   "source": [
    "wos_client.data_sets.get_records_count(data_set_id=feedback_dataset_id)"
   ]
  },
  {
   "cell_type": "code",
   "execution_count": 61,
   "metadata": {
    "scrolled": true
   },
   "outputs": [
    {
     "name": "stdout",
     "output_type": "stream",
     "text": [
      "\n",
      "\n",
      "==========================================================================================\n",
      "\n",
      " Waiting for end of storing records with request id: 7b66a689-1142-4e82-9f33-fe7fea5e8e1d \n",
      "\n",
      "==========================================================================================\n",
      "\n",
      "\n",
      "\n",
      "active\n",
      "\n",
      "---------------------------------------\n",
      " Successfully finished storing records \n",
      "---------------------------------------\n",
      "\n",
      "\n"
     ]
    },
    {
     "data": {
      "text/plain": [
       "<ibm_cloud_sdk_core.detailed_response.DetailedResponse at 0x7f2e1e8a7fd0>"
      ]
     },
     "execution_count": 61,
     "metadata": {},
     "output_type": "execute_result"
    }
   ],
   "source": [
    "wos_client.data_sets.store_records(feedback_dataset_id, request_body=additional_feedback_data, background_mode=False)"
   ]
  },
  {
   "cell_type": "code",
   "execution_count": 62,
   "metadata": {},
   "outputs": [
    {
     "data": {
      "text/plain": [
       "98"
      ]
     },
     "execution_count": 62,
     "metadata": {},
     "output_type": "execute_result"
    }
   ],
   "source": [
    "wos_client.data_sets.get_records_count(data_set_id=feedback_dataset_id)"
   ]
  },
  {
   "cell_type": "markdown",
   "metadata": {},
   "source": [
    "## 4.3 Run Quality Monitor"
   ]
  },
  {
   "cell_type": "code",
   "execution_count": 63,
   "metadata": {
    "scrolled": true
   },
   "outputs": [
    {
     "name": "stdout",
     "output_type": "stream",
     "text": [
      "\n",
      "\n",
      "========================================================================\n",
      "\n",
      " Waiting for end of monitoring run dba04eac-fba6-4558-8ffb-c89b1f5bf910 \n",
      "\n",
      "========================================================================\n",
      "\n",
      "\n",
      "\n",
      "running.\n",
      "finished\n",
      "\n",
      "---------------------------\n",
      " Successfully finished run \n",
      "---------------------------\n",
      "\n",
      "\n"
     ]
    }
   ],
   "source": [
    "run_details = wos_client.monitor_instances.run(monitor_instance_id=quality_monitor_instance_id, background_mode=False).result"
   ]
  },
  {
   "cell_type": "code",
   "execution_count": 64,
   "metadata": {
    "scrolled": true
   },
   "outputs": [
    {
     "data": {
      "text/html": [
       "<HTML>\n",
       "        <body>\n",
       "            <h3>522b115b-92fb-4418-ac8d-fe7217ab779d Monitor Runs Metrics from: 2020-10-13 21:47:53.513758  till: 2020-10-20 21:47:53.513789</h3>\n",
       "            <table style='border: 1px solid #dddddd; font-family: Courier'>\n",
       "                <th style='border: 1px solid #dddddd'>ts</th><th style='border: 1px solid #dddddd'>id</th><th style='border: 1px solid #dddddd'>measurement_id</th><th style='border: 1px solid #dddddd'>value</th><th style='border: 1px solid #dddddd'>lower_limit</th><th style='border: 1px solid #dddddd'>upper_limit</th><th style='border: 1px solid #dddddd'>tags</th><th style='border: 1px solid #dddddd'>monitor_definition_id</th><th style='border: 1px solid #dddddd'>monitor_instance_id</th><th style='border: 1px solid #dddddd'>run_id</th><th style='border: 1px solid #dddddd'>target_type</th><th style='border: 1px solid #dddddd'>target_id</th>\n",
       "                <tr><td style='border: 1px solid #dddddd'>2020-10-20 21:47:35.332000+00:00</td><td style='border: 1px solid #dddddd'>true_positive_rate</td><td style='border: 1px solid #dddddd'>380bc311-4432-411f-8700-58d1b99ecf1e</td><td style='border: 1px solid #dddddd'>0.30303030303030304</td><td style='border: 1px solid #dddddd'>None</td><td style='border: 1px solid #dddddd'>None</td><td style='border: 1px solid #dddddd'>['model_type:original']</td><td style='border: 1px solid #dddddd'>quality</td><td style='border: 1px solid #dddddd'>522b115b-92fb-4418-ac8d-fe7217ab779d</td><td style='border: 1px solid #dddddd'>dba04eac-fba6-4558-8ffb-c89b1f5bf910</td><td style='border: 1px solid #dddddd'>subscription</td><td style='border: 1px solid #dddddd'>58ec2a87-6d4f-4e54-ad8d-c6517ac9fdef</td></tr><tr><td style='border: 1px solid #dddddd'>2020-10-20 21:47:35.332000+00:00</td><td style='border: 1px solid #dddddd'>area_under_roc</td><td style='border: 1px solid #dddddd'>380bc311-4432-411f-8700-58d1b99ecf1e</td><td style='border: 1px solid #dddddd'>0.6130536130536132</td><td style='border: 1px solid #dddddd'>0.7</td><td style='border: 1px solid #dddddd'>None</td><td style='border: 1px solid #dddddd'>['model_type:original']</td><td style='border: 1px solid #dddddd'>quality</td><td style='border: 1px solid #dddddd'>522b115b-92fb-4418-ac8d-fe7217ab779d</td><td style='border: 1px solid #dddddd'>dba04eac-fba6-4558-8ffb-c89b1f5bf910</td><td style='border: 1px solid #dddddd'>subscription</td><td style='border: 1px solid #dddddd'>58ec2a87-6d4f-4e54-ad8d-c6517ac9fdef</td></tr><tr><td style='border: 1px solid #dddddd'>2020-10-20 21:47:35.332000+00:00</td><td style='border: 1px solid #dddddd'>precision</td><td style='border: 1px solid #dddddd'>380bc311-4432-411f-8700-58d1b99ecf1e</td><td style='border: 1px solid #dddddd'>0.6666666666666666</td><td style='border: 1px solid #dddddd'>None</td><td style='border: 1px solid #dddddd'>None</td><td style='border: 1px solid #dddddd'>['model_type:original']</td><td style='border: 1px solid #dddddd'>quality</td><td style='border: 1px solid #dddddd'>522b115b-92fb-4418-ac8d-fe7217ab779d</td><td style='border: 1px solid #dddddd'>dba04eac-fba6-4558-8ffb-c89b1f5bf910</td><td style='border: 1px solid #dddddd'>subscription</td><td style='border: 1px solid #dddddd'>58ec2a87-6d4f-4e54-ad8d-c6517ac9fdef</td></tr><tr><td style='border: 1px solid #dddddd'>2020-10-20 21:47:35.332000+00:00</td><td style='border: 1px solid #dddddd'>f1_measure</td><td style='border: 1px solid #dddddd'>380bc311-4432-411f-8700-58d1b99ecf1e</td><td style='border: 1px solid #dddddd'>0.41666666666666663</td><td style='border: 1px solid #dddddd'>None</td><td style='border: 1px solid #dddddd'>None</td><td style='border: 1px solid #dddddd'>['model_type:original']</td><td style='border: 1px solid #dddddd'>quality</td><td style='border: 1px solid #dddddd'>522b115b-92fb-4418-ac8d-fe7217ab779d</td><td style='border: 1px solid #dddddd'>dba04eac-fba6-4558-8ffb-c89b1f5bf910</td><td style='border: 1px solid #dddddd'>subscription</td><td style='border: 1px solid #dddddd'>58ec2a87-6d4f-4e54-ad8d-c6517ac9fdef</td></tr><tr><td style='border: 1px solid #dddddd'>2020-10-20 21:47:35.332000+00:00</td><td style='border: 1px solid #dddddd'>accuracy</td><td style='border: 1px solid #dddddd'>380bc311-4432-411f-8700-58d1b99ecf1e</td><td style='border: 1px solid #dddddd'>0.7142857142857143</td><td style='border: 1px solid #dddddd'>None</td><td style='border: 1px solid #dddddd'>None</td><td style='border: 1px solid #dddddd'>['model_type:original']</td><td style='border: 1px solid #dddddd'>quality</td><td style='border: 1px solid #dddddd'>522b115b-92fb-4418-ac8d-fe7217ab779d</td><td style='border: 1px solid #dddddd'>dba04eac-fba6-4558-8ffb-c89b1f5bf910</td><td style='border: 1px solid #dddddd'>subscription</td><td style='border: 1px solid #dddddd'>58ec2a87-6d4f-4e54-ad8d-c6517ac9fdef</td></tr><tr><td style='border: 1px solid #dddddd'>2020-10-20 21:47:35.332000+00:00</td><td style='border: 1px solid #dddddd'>log_loss</td><td style='border: 1px solid #dddddd'>380bc311-4432-411f-8700-58d1b99ecf1e</td><td style='border: 1px solid #dddddd'>0.4498712465332107</td><td style='border: 1px solid #dddddd'>None</td><td style='border: 1px solid #dddddd'>None</td><td style='border: 1px solid #dddddd'>['model_type:original']</td><td style='border: 1px solid #dddddd'>quality</td><td style='border: 1px solid #dddddd'>522b115b-92fb-4418-ac8d-fe7217ab779d</td><td style='border: 1px solid #dddddd'>dba04eac-fba6-4558-8ffb-c89b1f5bf910</td><td style='border: 1px solid #dddddd'>subscription</td><td style='border: 1px solid #dddddd'>58ec2a87-6d4f-4e54-ad8d-c6517ac9fdef</td></tr><tr><td style='border: 1px solid #dddddd'>2020-10-20 21:47:35.332000+00:00</td><td style='border: 1px solid #dddddd'>false_positive_rate</td><td style='border: 1px solid #dddddd'>380bc311-4432-411f-8700-58d1b99ecf1e</td><td style='border: 1px solid #dddddd'>0.07692307692307693</td><td style='border: 1px solid #dddddd'>None</td><td style='border: 1px solid #dddddd'>None</td><td style='border: 1px solid #dddddd'>['model_type:original']</td><td style='border: 1px solid #dddddd'>quality</td><td style='border: 1px solid #dddddd'>522b115b-92fb-4418-ac8d-fe7217ab779d</td><td style='border: 1px solid #dddddd'>dba04eac-fba6-4558-8ffb-c89b1f5bf910</td><td style='border: 1px solid #dddddd'>subscription</td><td style='border: 1px solid #dddddd'>58ec2a87-6d4f-4e54-ad8d-c6517ac9fdef</td></tr><tr><td style='border: 1px solid #dddddd'>2020-10-20 21:47:35.332000+00:00</td><td style='border: 1px solid #dddddd'>area_under_pr</td><td style='border: 1px solid #dddddd'>380bc311-4432-411f-8700-58d1b99ecf1e</td><td style='border: 1px solid #dddddd'>0.5516903731189445</td><td style='border: 1px solid #dddddd'>None</td><td style='border: 1px solid #dddddd'>None</td><td style='border: 1px solid #dddddd'>['model_type:original']</td><td style='border: 1px solid #dddddd'>quality</td><td style='border: 1px solid #dddddd'>522b115b-92fb-4418-ac8d-fe7217ab779d</td><td style='border: 1px solid #dddddd'>dba04eac-fba6-4558-8ffb-c89b1f5bf910</td><td style='border: 1px solid #dddddd'>subscription</td><td style='border: 1px solid #dddddd'>58ec2a87-6d4f-4e54-ad8d-c6517ac9fdef</td></tr><tr><td style='border: 1px solid #dddddd'>2020-10-20 21:47:35.332000+00:00</td><td style='border: 1px solid #dddddd'>recall</td><td style='border: 1px solid #dddddd'>380bc311-4432-411f-8700-58d1b99ecf1e</td><td style='border: 1px solid #dddddd'>0.30303030303030304</td><td style='border: 1px solid #dddddd'>None</td><td style='border: 1px solid #dddddd'>None</td><td style='border: 1px solid #dddddd'>['model_type:original']</td><td style='border: 1px solid #dddddd'>quality</td><td style='border: 1px solid #dddddd'>522b115b-92fb-4418-ac8d-fe7217ab779d</td><td style='border: 1px solid #dddddd'>dba04eac-fba6-4558-8ffb-c89b1f5bf910</td><td style='border: 1px solid #dddddd'>subscription</td><td style='border: 1px solid #dddddd'>58ec2a87-6d4f-4e54-ad8d-c6517ac9fdef</td></tr>\n",
       "            </table>\n",
       "        </body>\n",
       "        </HTML>"
      ],
      "text/plain": [
       "<IPython.core.display.HTML object>"
      ]
     },
     "metadata": {},
     "output_type": "display_data"
    }
   ],
   "source": [
    "wos_client.monitor_instances.show_metrics(monitor_instance_id=quality_monitor_instance_id)"
   ]
  },
  {
   "cell_type": "markdown",
   "metadata": {},
   "source": [
    "## 4.4 Check Monitors\n",
    "\n",
    "We can show which monitors are currently enabled, at this point, it should only be the Quality Monitor"
   ]
  },
  {
   "cell_type": "code",
   "execution_count": 65,
   "metadata": {},
   "outputs": [
    {
     "data": {
      "text/html": [
       "<HTML>\n",
       "        <body>\n",
       "            <h3>Monitor instances</h3>\n",
       "            <table style='border: 1px solid #dddddd; font-family: Courier'>\n",
       "                <th style='border: 1px solid #dddddd'>data_mart_id</th><th style='border: 1px solid #dddddd'>status</th><th style='border: 1px solid #dddddd'>target_id</th><th style='border: 1px solid #dddddd'>target_type</th><th style='border: 1px solid #dddddd'>monitor_definition_id</th><th style='border: 1px solid #dddddd'>created_at</th><th style='border: 1px solid #dddddd'>id</th>\n",
       "                <tr><td style='border: 1px solid #dddddd'>99318397-f315-40be-a572-961b511856bd</td><td style='border: 1px solid #dddddd'>active</td><td style='border: 1px solid #dddddd'>58ec2a87-6d4f-4e54-ad8d-c6517ac9fdef</td><td style='border: 1px solid #dddddd'>subscription</td><td style='border: 1px solid #dddddd'>quality</td><td style='border: 1px solid #dddddd'>2020-10-20 21:47:00.570000+00:00</td><td style='border: 1px solid #dddddd'>522b115b-92fb-4418-ac8d-fe7217ab779d</td></tr><tr><td style='border: 1px solid #dddddd'>99318397-f315-40be-a572-961b511856bd</td><td style='border: 1px solid #dddddd'>active</td><td style='border: 1px solid #dddddd'>4737de0d-5e04-4c91-80b1-3b934d9e9a6c</td><td style='border: 1px solid #dddddd'>subscription</td><td style='border: 1px solid #dddddd'>drift</td><td style='border: 1px solid #dddddd'>2020-10-13 20:56:42.555000+00:00</td><td style='border: 1px solid #dddddd'>9104b117-7ebe-4882-b55a-1daf08ebf86d</td></tr><tr><td style='border: 1px solid #dddddd'>99318397-f315-40be-a572-961b511856bd</td><td style='border: 1px solid #dddddd'>active</td><td style='border: 1px solid #dddddd'>4737de0d-5e04-4c91-80b1-3b934d9e9a6c</td><td style='border: 1px solid #dddddd'>subscription</td><td style='border: 1px solid #dddddd'>fairness</td><td style='border: 1px solid #dddddd'>2020-10-13 20:56:30.974000+00:00</td><td style='border: 1px solid #dddddd'>291b3734-a491-4bbb-a36a-641d7b47e3d4</td></tr><tr><td style='border: 1px solid #dddddd'>99318397-f315-40be-a572-961b511856bd</td><td style='border: 1px solid #dddddd'>active</td><td style='border: 1px solid #dddddd'>4737de0d-5e04-4c91-80b1-3b934d9e9a6c</td><td style='border: 1px solid #dddddd'>subscription</td><td style='border: 1px solid #dddddd'>mrm</td><td style='border: 1px solid #dddddd'>2020-10-13 20:56:47.963000+00:00</td><td style='border: 1px solid #dddddd'>0e34a447-2f10-4941-bbb2-1fddaa22e1a7</td></tr><tr><td style='border: 1px solid #dddddd'>99318397-f315-40be-a572-961b511856bd</td><td style='border: 1px solid #dddddd'>active</td><td style='border: 1px solid #dddddd'>4737de0d-5e04-4c91-80b1-3b934d9e9a6c</td><td style='border: 1px solid #dddddd'>subscription</td><td style='border: 1px solid #dddddd'>quality</td><td style='border: 1px solid #dddddd'>2020-10-13 20:56:36.510000+00:00</td><td style='border: 1px solid #dddddd'>50f05fbf-ebc3-4cc4-9ebe-52b6d1f1ceba</td></tr><tr><td style='border: 1px solid #dddddd'>99318397-f315-40be-a572-961b511856bd</td><td style='border: 1px solid #dddddd'>active</td><td style='border: 1px solid #dddddd'>4737de0d-5e04-4c91-80b1-3b934d9e9a6c</td><td style='border: 1px solid #dddddd'>subscription</td><td style='border: 1px solid #dddddd'>explainability</td><td style='border: 1px solid #dddddd'>2020-10-13 20:56:25.514000+00:00</td><td style='border: 1px solid #dddddd'>d8352727-d28a-44cc-9b8e-70c4181c4ecb</td></tr><tr><td style='border: 1px solid #dddddd'>99318397-f315-40be-a572-961b511856bd</td><td style='border: 1px solid #dddddd'>active</td><td style='border: 1px solid #dddddd'>b449f4a6-4249-459a-85ab-139f015429ce</td><td style='border: 1px solid #dddddd'>subscription</td><td style='border: 1px solid #dddddd'>fairness</td><td style='border: 1px solid #dddddd'>2020-10-13 20:54:53.345000+00:00</td><td style='border: 1px solid #dddddd'>d0fa9fa2-d812-4e11-947e-13c2f7febaf8</td></tr><tr><td style='border: 1px solid #dddddd'>99318397-f315-40be-a572-961b511856bd</td><td style='border: 1px solid #dddddd'>active</td><td style='border: 1px solid #dddddd'>b449f4a6-4249-459a-85ab-139f015429ce</td><td style='border: 1px solid #dddddd'>subscription</td><td style='border: 1px solid #dddddd'>drift</td><td style='border: 1px solid #dddddd'>2020-10-13 20:55:04.790000+00:00</td><td style='border: 1px solid #dddddd'>36be10bd-ebe1-460d-8d46-15572f944532</td></tr><tr><td style='border: 1px solid #dddddd'>99318397-f315-40be-a572-961b511856bd</td><td style='border: 1px solid #dddddd'>active</td><td style='border: 1px solid #dddddd'>b449f4a6-4249-459a-85ab-139f015429ce</td><td style='border: 1px solid #dddddd'>subscription</td><td style='border: 1px solid #dddddd'>mrm</td><td style='border: 1px solid #dddddd'>2020-10-13 20:55:10.242000+00:00</td><td style='border: 1px solid #dddddd'>8286d5db-33c2-446e-a3c8-cf9878fe6c78</td></tr><tr><td style='border: 1px solid #dddddd'>99318397-f315-40be-a572-961b511856bd</td><td style='border: 1px solid #dddddd'>active</td><td style='border: 1px solid #dddddd'>b449f4a6-4249-459a-85ab-139f015429ce</td><td style='border: 1px solid #dddddd'>subscription</td><td style='border: 1px solid #dddddd'>quality</td><td style='border: 1px solid #dddddd'>2020-10-13 20:54:58.853000+00:00</td><td style='border: 1px solid #dddddd'>876893f2-ded3-4245-b52d-9444cd0d2db0</td></tr>\n",
       "            </table>\n",
       "        </body>\n",
       "        </HTML>"
      ],
      "text/plain": [
       "<IPython.core.display.HTML object>"
      ]
     },
     "metadata": {},
     "output_type": "display_data"
    },
    {
     "name": "stdout",
     "output_type": "stream",
     "text": [
      "Note: First 10 records were displayed.\n"
     ]
    },
    {
     "data": {
      "text/html": [
       "<HTML>\n",
       "        <body>\n",
       "            <h3>Data sets</h3>\n",
       "            <table style='border: 1px solid #dddddd; font-family: Courier'>\n",
       "                <th style='border: 1px solid #dddddd'>data_mart_id</th><th style='border: 1px solid #dddddd'>status</th><th style='border: 1px solid #dddddd'>target_id</th><th style='border: 1px solid #dddddd'>target_type</th><th style='border: 1px solid #dddddd'>type</th><th style='border: 1px solid #dddddd'>created_at</th><th style='border: 1px solid #dddddd'>id</th>\n",
       "                <tr><td style='border: 1px solid #dddddd'>99318397-f315-40be-a572-961b511856bd</td><td style='border: 1px solid #dddddd'>active</td><td style='border: 1px solid #dddddd'>58ec2a87-6d4f-4e54-ad8d-c6517ac9fdef</td><td style='border: 1px solid #dddddd'>subscription</td><td style='border: 1px solid #dddddd'>feedback</td><td style='border: 1px solid #dddddd'>2020-10-20 21:47:01.155000+00:00</td><td style='border: 1px solid #dddddd'>5d4fe180-73b3-43a2-a461-a89c113ef48d</td></tr><tr><td style='border: 1px solid #dddddd'>99318397-f315-40be-a572-961b511856bd</td><td style='border: 1px solid #dddddd'>active</td><td style='border: 1px solid #dddddd'>58ec2a87-6d4f-4e54-ad8d-c6517ac9fdef</td><td style='border: 1px solid #dddddd'>subscription</td><td style='border: 1px solid #dddddd'>payload_logging</td><td style='border: 1px solid #dddddd'>2020-10-20 21:45:58.950000+00:00</td><td style='border: 1px solid #dddddd'>c28c505d-3db2-46ce-94e6-52e8acac36f2</td></tr><tr><td style='border: 1px solid #dddddd'>99318397-f315-40be-a572-961b511856bd</td><td style='border: 1px solid #dddddd'>active</td><td style='border: 1px solid #dddddd'>58ec2a87-6d4f-4e54-ad8d-c6517ac9fdef</td><td style='border: 1px solid #dddddd'>subscription</td><td style='border: 1px solid #dddddd'>manual_labeling</td><td style='border: 1px solid #dddddd'>2020-10-20 21:45:59.028000+00:00</td><td style='border: 1px solid #dddddd'>fb014a2c-4afb-4ee2-a3c1-ddc2d508d6af</td></tr><tr><td style='border: 1px solid #dddddd'>99318397-f315-40be-a572-961b511856bd</td><td style='border: 1px solid #dddddd'>active</td><td style='border: 1px solid #dddddd'>4737de0d-5e04-4c91-80b1-3b934d9e9a6c</td><td style='border: 1px solid #dddddd'>subscription</td><td style='border: 1px solid #dddddd'>manual_labeling</td><td style='border: 1px solid #dddddd'>2020-10-13 20:56:12.560000+00:00</td><td style='border: 1px solid #dddddd'>66fce8c7-1579-4a5f-a5f3-10bce8a0352f</td></tr><tr><td style='border: 1px solid #dddddd'>99318397-f315-40be-a572-961b511856bd</td><td style='border: 1px solid #dddddd'>active</td><td style='border: 1px solid #dddddd'>4737de0d-5e04-4c91-80b1-3b934d9e9a6c</td><td style='border: 1px solid #dddddd'>subscription</td><td style='border: 1px solid #dddddd'>payload_logging</td><td style='border: 1px solid #dddddd'>2020-10-13 20:56:12.464000+00:00</td><td style='border: 1px solid #dddddd'>0dcb54d4-b1f2-4eb2-b36b-ab3b89fcebcf</td></tr><tr><td style='border: 1px solid #dddddd'>99318397-f315-40be-a572-961b511856bd</td><td style='border: 1px solid #dddddd'>active</td><td style='border: 1px solid #dddddd'>4737de0d-5e04-4c91-80b1-3b934d9e9a6c</td><td style='border: 1px solid #dddddd'>subscription</td><td style='border: 1px solid #dddddd'>feedback</td><td style='border: 1px solid #dddddd'>2020-10-13 20:56:37.059000+00:00</td><td style='border: 1px solid #dddddd'>28d37bc4-c624-4064-b610-e38ecf814e30</td></tr><tr><td style='border: 1px solid #dddddd'>99318397-f315-40be-a572-961b511856bd</td><td style='border: 1px solid #dddddd'>active</td><td style='border: 1px solid #dddddd'>b449f4a6-4249-459a-85ab-139f015429ce</td><td style='border: 1px solid #dddddd'>subscription</td><td style='border: 1px solid #dddddd'>manual_labeling</td><td style='border: 1px solid #dddddd'>2020-10-13 20:54:34.088000+00:00</td><td style='border: 1px solid #dddddd'>94cc0bac-697f-4e9d-918a-6b2c2cd0fab2</td></tr><tr><td style='border: 1px solid #dddddd'>99318397-f315-40be-a572-961b511856bd</td><td style='border: 1px solid #dddddd'>active</td><td style='border: 1px solid #dddddd'>4737de0d-5e04-4c91-80b1-3b934d9e9a6c</td><td style='border: 1px solid #dddddd'>subscription</td><td style='border: 1px solid #dddddd'>training</td><td style='border: 1px solid #dddddd'>2020-10-13 20:56:12.642000+00:00</td><td style='border: 1px solid #dddddd'>60e51703-ab82-4428-afbb-5b61789e469a</td></tr><tr><td style='border: 1px solid #dddddd'>99318397-f315-40be-a572-961b511856bd</td><td style='border: 1px solid #dddddd'>active</td><td style='border: 1px solid #dddddd'>b449f4a6-4249-459a-85ab-139f015429ce</td><td style='border: 1px solid #dddddd'>subscription</td><td style='border: 1px solid #dddddd'>payload_logging</td><td style='border: 1px solid #dddddd'>2020-10-13 20:54:33.989000+00:00</td><td style='border: 1px solid #dddddd'>e81d262b-1379-40e9-9a4f-161987a0898f</td></tr><tr><td style='border: 1px solid #dddddd'>99318397-f315-40be-a572-961b511856bd</td><td style='border: 1px solid #dddddd'>active</td><td style='border: 1px solid #dddddd'>b449f4a6-4249-459a-85ab-139f015429ce</td><td style='border: 1px solid #dddddd'>subscription</td><td style='border: 1px solid #dddddd'>feedback</td><td style='border: 1px solid #dddddd'>2020-10-13 20:54:59.381000+00:00</td><td style='border: 1px solid #dddddd'>3377a80a-8f36-4c69-9dce-dc6a1d256539</td></tr>\n",
       "            </table>\n",
       "        </body>\n",
       "        </HTML>"
      ],
      "text/plain": [
       "<IPython.core.display.HTML object>"
      ]
     },
     "metadata": {},
     "output_type": "display_data"
    },
    {
     "name": "stdout",
     "output_type": "stream",
     "text": [
      "Note: First 10 records were displayed.\n"
     ]
    }
   ],
   "source": [
    "wos_client.monitor_instances.show()\n",
    "wos_client.data_sets.show()"
   ]
  },
  {
   "cell_type": "markdown",
   "metadata": {},
   "source": [
    "# 5.0 Fairness, drift monitoring and explanations \n",
    " <a name=\"fairness\"></a>"
   ]
  },
  {
   "cell_type": "markdown",
   "metadata": {},
   "source": [
    "The code below configures fairness monitoring for our model. It turns on monitoring for two features, Sex and Age. In each case, we must specify:\n",
    "  * Which model feature to monitor\n",
    "  * One or more **majority** groups, which are values of that feature that we expect to receive a higher percentage of favorable outcomes\n",
    "  * One or more **minority** groups, which are values of that feature that we expect to receive a higher percentage of unfavorable outcomes\n",
    "  * The threshold at which we would like OpenScale to display an alert if the fairness measurement falls below (in this case, 95%)\n",
    "\n",
    "Additionally, we must specify which outcomes from the model are favourable outcomes, and which are unfavourable. We must also provide the number of records OpenScale will use to calculate the fairness score. In this case, OpenScale's fairness monitor will run hourly, but will not calculate a new fairness rating until at least 100 records have been added. Finally, to calculate fairness, OpenScale must perform some calculations on the training data, so we provide the dataframe containing the data."
   ]
  },
  {
   "cell_type": "markdown",
   "metadata": {},
   "source": [
    "## 5.1 Enable Fairness Monitoring"
   ]
  },
  {
   "cell_type": "code",
   "execution_count": 66,
   "metadata": {
    "scrolled": false
   },
   "outputs": [
    {
     "name": "stdout",
     "output_type": "stream",
     "text": [
      "\n",
      "\n",
      "===================================================================================\n",
      "\n",
      " Waiting for end of monitor instance creation 7a1791c4-2b71-4192-8e18-e252d1d63e83 \n",
      "\n",
      "===================================================================================\n",
      "\n",
      "\n",
      "\n",
      "preparing...........\n",
      "active\n",
      "\n",
      "---------------------------------------\n",
      " Monitor instance successfully created \n",
      "---------------------------------------\n",
      "\n",
      "\n",
      "Fairness Monitor ID: 7a1791c4-2b71-4192-8e18-e252d1d63e83\n"
     ]
    }
   ],
   "source": [
    "target = Target(\n",
    "    target_type=TargetTypes.SUBSCRIPTION,\n",
    "    target_id=subscription_id\n",
    ")\n",
    "\n",
    "parameters = {\n",
    "    \"features\": [\n",
    "        {\"feature\": \"Sex\",\n",
    "         \"majority\": ['male'],\n",
    "         \"minority\": ['female'],\n",
    "         \"threshold\": 0.95\n",
    "         },\n",
    "        {\"feature\": \"Age\",\n",
    "         \"majority\": [[26, 75]],\n",
    "         \"minority\": [[18, 25]],\n",
    "         \"threshold\": 0.95\n",
    "         }\n",
    "    ],\n",
    "    \"favourable_class\": [\"No Risk\"],\n",
    "    \"unfavourable_class\": [\"Risk\"],\n",
    "    \"min_records\": 100\n",
    "}\n",
    "\n",
    "thresholds = [\n",
    "    MetricThresholdOverride(\n",
    "        metric_id=\"fairness_value\",\n",
    "        type=MetricThresholdTypes.LOWER_LIMIT,\n",
    "        value=0.95,\n",
    "        specific_values=[\n",
    "            MetricSpecificThresholdShortObject(\n",
    "                value=.95,\n",
    "                applies_to = [\n",
    "                    ThresholdConditionObject(\n",
    "                        type = \"tag\",\n",
    "                        value = \"Sex\",\n",
    "                        key = \"feature\"\n",
    "                    )\n",
    "                ]\n",
    "            ),\n",
    "            MetricSpecificThresholdShortObject(\n",
    "                value=.95,\n",
    "                applies_to = [\n",
    "                    ThresholdConditionObject(\n",
    "                        type = \"tag\",\n",
    "                        value = \"Age\",\n",
    "                        key = \"feature\"\n",
    "                    )\n",
    "                ]\n",
    "            )\n",
    "        ]\n",
    "    )\n",
    "]\n",
    "\n",
    "fairness_monitor_details = wos_client.monitor_instances.create(\n",
    "    data_mart_id=data_mart_id,\n",
    "    background_mode=False,\n",
    "    monitor_definition_id=wos_client.monitor_definitions.MONITORS.FAIRNESS.ID,\n",
    "    target=target,\n",
    "    parameters=parameters,\n",
    "    thresholds=thresholds\n",
    ").result\n",
    "\n",
    "fairness_monitor_instance_id =fairness_monitor_details.metadata.id\n",
    "print(\"Fairness Monitor ID: {}\".format(fairness_monitor_instance_id))\n",
    "#print(fairness_monitor_details)"
   ]
  },
  {
   "cell_type": "markdown",
   "metadata": {},
   "source": [
    "## 5.2 Enable Drift Monitoring\n",
    "\n",
    "We can choose to enable model and/or data drift within the config."
   ]
  },
  {
   "cell_type": "code",
   "execution_count": 67,
   "metadata": {},
   "outputs": [],
   "source": [
    "monitor_instances = wos_client.monitor_instances.list().result.monitor_instances\n",
    "for monitor_instance in monitor_instances:\n",
    "    monitor_def_id=monitor_instance.entity.monitor_definition_id\n",
    "    if monitor_def_id == \"drift\" and monitor_instance.entity.target.target_id == subscription_id:\n",
    "        wos_client.monitor_instances.delete(monitor_instance.metadata.id, background_mode=False)\n",
    "        print('Deleted existing drift monitor instance with id: ', monitor_instance.metadata.id)\n"
   ]
  },
  {
   "cell_type": "code",
   "execution_count": 68,
   "metadata": {},
   "outputs": [
    {
     "name": "stdout",
     "output_type": "stream",
     "text": [
      "\n",
      "\n",
      "===================================================================================\n",
      "\n",
      " Waiting for end of monitor instance creation df22bb4b-1a47-488b-bb98-8323edc7fb7a \n",
      "\n",
      "===================================================================================\n",
      "\n",
      "\n",
      "\n",
      "preparing....................\n",
      "active\n",
      "\n",
      "---------------------------------------\n",
      " Monitor instance successfully created \n",
      "---------------------------------------\n",
      "\n",
      "\n",
      "Drift Monitor ID: df22bb4b-1a47-488b-bb98-8323edc7fb7a\n",
      "{\n",
      "  \"metadata\": {\n",
      "    \"id\": \"df22bb4b-1a47-488b-bb98-8323edc7fb7a\",\n",
      "    \"crn\": \"crn:v1:bluemix:public:aiopenscale:us-south:a/f365091ee8c74129813329068811cc54:99318397-f315-40be-a572-961b511856bd:monitor_instance:df22bb4b-1a47-488b-bb98-8323edc7fb7a\",\n",
      "    \"url\": \"/v2/monitor_instances/df22bb4b-1a47-488b-bb98-8323edc7fb7a\",\n",
      "    \"created_at\": \"2020-10-20T21:49:52.162000Z\",\n",
      "    \"created_by\": \"IBMid-060000GRS6\",\n",
      "    \"modified_at\": \"2020-10-20T21:51:44.792000Z\",\n",
      "    \"modified_by\": \"iam-ServiceId-aeb7c04d-ba53-4adc-8008-8896ff6b462e\"\n",
      "  },\n",
      "  \"entity\": {\n",
      "    \"data_mart_id\": \"99318397-f315-40be-a572-961b511856bd\",\n",
      "    \"monitor_definition_id\": \"drift\",\n",
      "    \"target\": {\n",
      "      \"target_type\": \"subscription\",\n",
      "      \"target_id\": \"58ec2a87-6d4f-4e54-ad8d-c6517ac9fdef\"\n",
      "    },\n",
      "    \"parameters\": {\n",
      "      \"config_status\": {\n",
      "        \"model_name\": null,\n",
      "        \"state\": \"finished\"\n",
      "      },\n",
      "      \"data_drift_enabled\": true,\n",
      "      \"data_drift_learning_stage\": \"CONSTRAINT_LEARNING_COMPLETED\",\n",
      "      \"drift_buffer_range\": [\n",
      "        -4.5,\n",
      "        4.5\n",
      "      ],\n",
      "      \"drift_threshold\": 0.05,\n",
      "      \"enable_data_drift\": true,\n",
      "      \"enable_model_drift\": true,\n",
      "      \"min_samples\": 100,\n",
      "      \"model_drift_enabled\": true,\n",
      "      \"train_accuracy\": 0.797,\n",
      "      \"train_drift_model\": true,\n",
      "      \"train_drift_model_stage\": \"DRIFT_MODEL_COMPLETE\",\n",
      "      \"train_predicted_accuracy\": 0.747\n",
      "    },\n",
      "    \"thresholds\": [\n",
      "      {\n",
      "        \"metric_id\": \"drift_magnitude\",\n",
      "        \"type\": \"upper_limit\",\n",
      "        \"value\": 0.05\n",
      "      }\n",
      "    ],\n",
      "    \"schedule\": {\n",
      "      \"repeat_interval\": 3,\n",
      "      \"repeat_unit\": \"hour\",\n",
      "      \"start_time\": {\n",
      "        \"type\": \"relative\",\n",
      "        \"delay_unit\": \"minute\",\n",
      "        \"delay\": 2\n",
      "      },\n",
      "      \"repeat_type\": \"hour\"\n",
      "    },\n",
      "    \"schedule_id\": \"e22ebdc1-f652-416f-8a0e-0e3a03043a8f\",\n",
      "    \"status\": {\n",
      "      \"state\": \"active\"\n",
      "    }\n",
      "  }\n",
      "}\n"
     ]
    }
   ],
   "source": [
    "target = Target(\n",
    "    target_type=TargetTypes.SUBSCRIPTION,\n",
    "    target_id=subscription_id\n",
    "\n",
    ")\n",
    "parameters = {\n",
    "    \"min_samples\": 100,\n",
    "    \"drift_threshold\": 0.05,\n",
    "    \"train_drift_model\": True,\n",
    "    \"enable_model_drift\": True,\n",
    "    \"enable_data_drift\": True\n",
    "}\n",
    "\n",
    "drift_monitor_details = wos_client.monitor_instances.create(\n",
    "    data_mart_id=data_mart_id,\n",
    "    background_mode=False,\n",
    "    monitor_definition_id=wos_client.monitor_definitions.MONITORS.DRIFT.ID,\n",
    "    target=target,\n",
    "    parameters=parameters\n",
    ").result\n",
    "\n",
    "drift_monitor_instance_id = drift_monitor_details.metadata.id\n",
    "print(\"Drift Monitor ID: {}\".format(drift_monitor_instance_id))\n",
    "print(drift_monitor_details)"
   ]
  },
  {
   "cell_type": "markdown",
   "metadata": {},
   "source": [
    "## 5.3 Score the model again now that monitoring is configured\n",
    "\n",
    "This next section randomly selects 200 records from the data feed and sends those records to the model for predictions. This is enough to exceed the minimum threshold for records set in the previous section, which allows OpenScale to begin calculating fairness."
   ]
  },
  {
   "cell_type": "code",
   "execution_count": 69,
   "metadata": {},
   "outputs": [
    {
     "name": "stdout",
     "output_type": "stream",
     "text": [
      "-rw-r----- 1 wsuser watsonstudio 3.0M Oct 20 21:56 german_credit_feed.json\r\n"
     ]
    }
   ],
   "source": [
    "!rm german_credit_feed.json\n",
    "with io.capture_output() as captured:\n",
    "    !wget https://raw.githubusercontent.com/pmservice/ai-openscale-tutorials/master/assets/historical_data/german_credit_risk/wml/german_credit_feed.json -O german_credit_feed.json\n",
    "\n",
    "!ls -lh german_credit_feed.json"
   ]
  },
  {
   "cell_type": "markdown",
   "metadata": {},
   "source": [
    "Score 200 randomly chosen records"
   ]
  },
  {
   "cell_type": "code",
   "execution_count": 70,
   "metadata": {},
   "outputs": [
    {
     "name": "stdout",
     "output_type": "stream",
     "text": [
      "Single record scoring result: No Risk\n"
     ]
    }
   ],
   "source": [
    "import random\n",
    "\n",
    "with open('german_credit_feed.json', 'r') as scoring_file:\n",
    "    scoring_data = json.load(scoring_file)\n",
    "\n",
    "fields = scoring_data['fields']\n",
    "values = []\n",
    "for _ in range(200):\n",
    "    values.append(random.choice(scoring_data['values']))\n",
    "payload_scoring = {\"input_data\": [{\"fields\": fields, \"values\": values}]}\n",
    "scoring_response = wml_client.deployments.score(deployment_uid, payload_scoring)\n",
    "print(\"Single record scoring result:\", scoring_response[\"predictions\"][0][\"values\"][0][-1])"
   ]
  },
  {
   "cell_type": "code",
   "execution_count": 71,
   "metadata": {},
   "outputs": [
    {
     "name": "stdout",
     "output_type": "stream",
     "text": [
      "Payload logging did not happen, performing explicit payload logging.\n",
      "Number of records in the payload logging table: 208\n"
     ]
    }
   ],
   "source": [
    "time.sleep(5)\n",
    "\n",
    "# Manually log the scoring response if its still the original 8 from before (should be 208 at this point).\n",
    "if pl_records_count == 8:\n",
    "    print(\"Payload logging did not happen, performing explicit payload logging.\")\n",
    "    wos_client.data_sets.store_records(data_set_id=payload_data_set_id, request_body=[PayloadRecord(\n",
    "                   scoring_id=str(uuid.uuid4()),\n",
    "                   request=payload_scoring,\n",
    "                   response=scoring_response,\n",
    "                   response_time=460\n",
    "               )])\n",
    "    \n",
    "pl_records_count = wos_client.data_sets.get_records_count(payload_data_set_id)\n",
    "print(\"Number of records in the payload logging table: {}\".format(pl_records_count))"
   ]
  },
  {
   "cell_type": "markdown",
   "metadata": {},
   "source": [
    ">Note: The payload table should have a total of 208 records. However, this can vary depending on how many scoring requests have been sent to the model."
   ]
  },
  {
   "cell_type": "markdown",
   "metadata": {},
   "source": [
    "## 5.4 Run Monitors\n"
   ]
  },
  {
   "cell_type": "markdown",
   "metadata": {},
   "source": [
    "### 5.4.1 Fairness Monitor\n",
    "\n",
    "Kick off a fairness monitor run on current data. The monitor runs hourly, but can be manually initiated using the Python client, the REST API, or the graphical user interface. We have a 180 second sleep so that the scoring of 200 payloads above can complete. NOTE: if the cell below finishes with errors, skip it and complete the notebook, then return and try again."
   ]
  },
  {
   "cell_type": "code",
   "execution_count": 75,
   "metadata": {
    "scrolled": false
   },
   "outputs": [
    {
     "name": "stdout",
     "output_type": "stream",
     "text": [
      "\n",
      "\n",
      "========================================================================\n",
      "\n",
      " Waiting for end of monitoring run 78aa0c30-37d3-40f9-a753-873ccbee3eb1 \n",
      "\n",
      "========================================================================\n",
      "\n",
      "\n",
      "\n",
      "finished\n",
      "\n",
      "---------------------------\n",
      " Successfully finished run \n",
      "---------------------------\n",
      "\n",
      "\n"
     ]
    }
   ],
   "source": [
    "time.sleep(5)\n",
    "run_details = None\n",
    "try:\n",
    "    run_details = wos_client.monitor_instances.run(monitor_instance_id=fairness_monitor_instance_id, background_mode=False)\n",
    "except Exception as e:\n",
    "    print(\"An exception occurred: {0}\".format(e))"
   ]
  },
  {
   "cell_type": "code",
   "execution_count": 76,
   "metadata": {
    "scrolled": false
   },
   "outputs": [
    {
     "data": {
      "text/html": [
       "<HTML>\n",
       "        <body>\n",
       "            <h3>7a1791c4-2b71-4192-8e18-e252d1d63e83 Monitor Runs Metrics from: 2020-10-13 22:44:26.374670  till: 2020-10-20 22:44:26.374693</h3>\n",
       "            <table style='border: 1px solid #dddddd; font-family: Courier'>\n",
       "                <th style='border: 1px solid #dddddd'>ts</th><th style='border: 1px solid #dddddd'>id</th><th style='border: 1px solid #dddddd'>measurement_id</th><th style='border: 1px solid #dddddd'>value</th><th style='border: 1px solid #dddddd'>lower_limit</th><th style='border: 1px solid #dddddd'>upper_limit</th><th style='border: 1px solid #dddddd'>tags</th><th style='border: 1px solid #dddddd'>monitor_definition_id</th><th style='border: 1px solid #dddddd'>monitor_instance_id</th><th style='border: 1px solid #dddddd'>run_id</th><th style='border: 1px solid #dddddd'>target_type</th><th style='border: 1px solid #dddddd'>target_id</th>\n",
       "                <tr><td style='border: 1px solid #dddddd'>2020-10-20 22:41:44.031841+00:00</td><td style='border: 1px solid #dddddd'>fairness_value</td><td style='border: 1px solid #dddddd'>3eeb44ec-92c9-458e-828a-8698b90f5b50</td><td style='border: 1px solid #dddddd'>100.0</td><td style='border: 1px solid #dddddd'>95.0</td><td style='border: 1px solid #dddddd'>None</td><td style='border: 1px solid #dddddd'>['feature:Sex', 'fairness_metric_type:fairness', 'feature_value:female']</td><td style='border: 1px solid #dddddd'>fairness</td><td style='border: 1px solid #dddddd'>7a1791c4-2b71-4192-8e18-e252d1d63e83</td><td style='border: 1px solid #dddddd'>78aa0c30-37d3-40f9-a753-873ccbee3eb1</td><td style='border: 1px solid #dddddd'>subscription</td><td style='border: 1px solid #dddddd'>58ec2a87-6d4f-4e54-ad8d-c6517ac9fdef</td></tr><tr><td style='border: 1px solid #dddddd'>2020-10-20 22:41:44.031841+00:00</td><td style='border: 1px solid #dddddd'>fairness_value</td><td style='border: 1px solid #dddddd'>3eeb44ec-92c9-458e-828a-8698b90f5b50</td><td style='border: 1px solid #dddddd'>111.80000000000001</td><td style='border: 1px solid #dddddd'>95.0</td><td style='border: 1px solid #dddddd'>None</td><td style='border: 1px solid #dddddd'>['feature:Age', 'fairness_metric_type:fairness', 'feature_value:18-25']</td><td style='border: 1px solid #dddddd'>fairness</td><td style='border: 1px solid #dddddd'>7a1791c4-2b71-4192-8e18-e252d1d63e83</td><td style='border: 1px solid #dddddd'>78aa0c30-37d3-40f9-a753-873ccbee3eb1</td><td style='border: 1px solid #dddddd'>subscription</td><td style='border: 1px solid #dddddd'>58ec2a87-6d4f-4e54-ad8d-c6517ac9fdef</td></tr><tr><td style='border: 1px solid #dddddd'>2020-10-20 22:41:44.031841+00:00</td><td style='border: 1px solid #dddddd'>fairness_value</td><td style='border: 1px solid #dddddd'>e683d253-111c-4e18-88c1-94fabc79a2d4</td><td style='border: 1px solid #dddddd'>111.80000000000001</td><td style='border: 1px solid #dddddd'>95.0</td><td style='border: 1px solid #dddddd'>None</td><td style='border: 1px solid #dddddd'>['feature:Age', 'fairness_metric_type:debiased_fairness', 'feature_value:18-25']</td><td style='border: 1px solid #dddddd'>fairness</td><td style='border: 1px solid #dddddd'>7a1791c4-2b71-4192-8e18-e252d1d63e83</td><td style='border: 1px solid #dddddd'>78aa0c30-37d3-40f9-a753-873ccbee3eb1</td><td style='border: 1px solid #dddddd'>subscription</td><td style='border: 1px solid #dddddd'>58ec2a87-6d4f-4e54-ad8d-c6517ac9fdef</td></tr><tr><td style='border: 1px solid #dddddd'>2020-10-20 22:41:44.031841+00:00</td><td style='border: 1px solid #dddddd'>fairness_value</td><td style='border: 1px solid #dddddd'>e683d253-111c-4e18-88c1-94fabc79a2d4</td><td style='border: 1px solid #dddddd'>100.0</td><td style='border: 1px solid #dddddd'>95.0</td><td style='border: 1px solid #dddddd'>None</td><td style='border: 1px solid #dddddd'>['feature:Sex', 'fairness_metric_type:debiased_fairness', 'feature_value:female']</td><td style='border: 1px solid #dddddd'>fairness</td><td style='border: 1px solid #dddddd'>7a1791c4-2b71-4192-8e18-e252d1d63e83</td><td style='border: 1px solid #dddddd'>78aa0c30-37d3-40f9-a753-873ccbee3eb1</td><td style='border: 1px solid #dddddd'>subscription</td><td style='border: 1px solid #dddddd'>58ec2a87-6d4f-4e54-ad8d-c6517ac9fdef</td></tr><tr><td style='border: 1px solid #dddddd'>2020-10-20 22:34:25.537581+00:00</td><td style='border: 1px solid #dddddd'>fairness_value</td><td style='border: 1px solid #dddddd'>1b49b115-42b7-4b49-a232-811aeddac6b0</td><td style='border: 1px solid #dddddd'>100.0</td><td style='border: 1px solid #dddddd'>95.0</td><td style='border: 1px solid #dddddd'>None</td><td style='border: 1px solid #dddddd'>['feature:Sex', 'fairness_metric_type:debiased_fairness', 'feature_value:female']</td><td style='border: 1px solid #dddddd'>fairness</td><td style='border: 1px solid #dddddd'>7a1791c4-2b71-4192-8e18-e252d1d63e83</td><td style='border: 1px solid #dddddd'>a16ddb42-d2bc-4e95-a698-7f2b9ba301de</td><td style='border: 1px solid #dddddd'>subscription</td><td style='border: 1px solid #dddddd'>58ec2a87-6d4f-4e54-ad8d-c6517ac9fdef</td></tr><tr><td style='border: 1px solid #dddddd'>2020-10-20 22:34:25.537581+00:00</td><td style='border: 1px solid #dddddd'>fairness_value</td><td style='border: 1px solid #dddddd'>1b49b115-42b7-4b49-a232-811aeddac6b0</td><td style='border: 1px solid #dddddd'>111.80000000000001</td><td style='border: 1px solid #dddddd'>95.0</td><td style='border: 1px solid #dddddd'>None</td><td style='border: 1px solid #dddddd'>['feature:Age', 'fairness_metric_type:debiased_fairness', 'feature_value:18-25']</td><td style='border: 1px solid #dddddd'>fairness</td><td style='border: 1px solid #dddddd'>7a1791c4-2b71-4192-8e18-e252d1d63e83</td><td style='border: 1px solid #dddddd'>a16ddb42-d2bc-4e95-a698-7f2b9ba301de</td><td style='border: 1px solid #dddddd'>subscription</td><td style='border: 1px solid #dddddd'>58ec2a87-6d4f-4e54-ad8d-c6517ac9fdef</td></tr><tr><td style='border: 1px solid #dddddd'>2020-10-20 22:34:25.537581+00:00</td><td style='border: 1px solid #dddddd'>fairness_value</td><td style='border: 1px solid #dddddd'>225ba04e-799a-4809-969a-0ea643719b73</td><td style='border: 1px solid #dddddd'>100.0</td><td style='border: 1px solid #dddddd'>95.0</td><td style='border: 1px solid #dddddd'>None</td><td style='border: 1px solid #dddddd'>['feature:Sex', 'fairness_metric_type:fairness', 'feature_value:female']</td><td style='border: 1px solid #dddddd'>fairness</td><td style='border: 1px solid #dddddd'>7a1791c4-2b71-4192-8e18-e252d1d63e83</td><td style='border: 1px solid #dddddd'>a16ddb42-d2bc-4e95-a698-7f2b9ba301de</td><td style='border: 1px solid #dddddd'>subscription</td><td style='border: 1px solid #dddddd'>58ec2a87-6d4f-4e54-ad8d-c6517ac9fdef</td></tr><tr><td style='border: 1px solid #dddddd'>2020-10-20 22:34:25.537581+00:00</td><td style='border: 1px solid #dddddd'>fairness_value</td><td style='border: 1px solid #dddddd'>225ba04e-799a-4809-969a-0ea643719b73</td><td style='border: 1px solid #dddddd'>111.80000000000001</td><td style='border: 1px solid #dddddd'>95.0</td><td style='border: 1px solid #dddddd'>None</td><td style='border: 1px solid #dddddd'>['feature:Age', 'fairness_metric_type:fairness', 'feature_value:18-25']</td><td style='border: 1px solid #dddddd'>fairness</td><td style='border: 1px solid #dddddd'>7a1791c4-2b71-4192-8e18-e252d1d63e83</td><td style='border: 1px solid #dddddd'>a16ddb42-d2bc-4e95-a698-7f2b9ba301de</td><td style='border: 1px solid #dddddd'>subscription</td><td style='border: 1px solid #dddddd'>58ec2a87-6d4f-4e54-ad8d-c6517ac9fdef</td></tr>\n",
       "            </table>\n",
       "        </body>\n",
       "        </HTML>"
      ],
      "text/plain": [
       "<IPython.core.display.HTML object>"
      ]
     },
     "metadata": {},
     "output_type": "display_data"
    }
   ],
   "source": [
    "time.sleep(10)\n",
    "wos_client.monitor_instances.show_metrics(monitor_instance_id=fairness_monitor_instance_id)"
   ]
  },
  {
   "cell_type": "markdown",
   "metadata": {},
   "source": [
    "### 5.4.2 Drift Monitor\n",
    "\n",
    "Kick off a drift monitor run on current data. The monitor runs every hour, but can be manually initiated using the Python client, the REST API."
   ]
  },
  {
   "cell_type": "code",
   "execution_count": 77,
   "metadata": {},
   "outputs": [
    {
     "name": "stdout",
     "output_type": "stream",
     "text": [
      "\n",
      "\n",
      "========================================================================\n",
      "\n",
      " Waiting for end of monitoring run 04055eff-da29-4f0c-99be-dd78dde6c877 \n",
      "\n",
      "========================================================================\n",
      "\n",
      "\n",
      "\n",
      "running\n",
      "finished\n",
      "\n",
      "---------------------------\n",
      " Successfully finished run \n",
      "---------------------------\n",
      "\n",
      "\n"
     ]
    }
   ],
   "source": [
    "time.sleep(5)\n",
    "drift_run_details = None\n",
    "try:\n",
    "    drift_run_details = wos_client.monitor_instances.run(monitor_instance_id=drift_monitor_instance_id, background_mode=False)\n",
    "except Exception as e:\n",
    "    print(\"An exception occurred: {0}\".format(e))"
   ]
  },
  {
   "cell_type": "code",
   "execution_count": 78,
   "metadata": {},
   "outputs": [
    {
     "data": {
      "text/html": [
       "<HTML>\n",
       "        <body>\n",
       "            <h3>df22bb4b-1a47-488b-bb98-8323edc7fb7a Monitor Runs Metrics from: 2020-10-13 22:44:53.291927  till: 2020-10-20 22:44:53.291952</h3>\n",
       "            <table style='border: 1px solid #dddddd; font-family: Courier'>\n",
       "                <th style='border: 1px solid #dddddd'>ts</th><th style='border: 1px solid #dddddd'>id</th><th style='border: 1px solid #dddddd'>measurement_id</th><th style='border: 1px solid #dddddd'>value</th><th style='border: 1px solid #dddddd'>lower_limit</th><th style='border: 1px solid #dddddd'>upper_limit</th><th style='border: 1px solid #dddddd'>tags</th><th style='border: 1px solid #dddddd'>monitor_definition_id</th><th style='border: 1px solid #dddddd'>monitor_instance_id</th><th style='border: 1px solid #dddddd'>run_id</th><th style='border: 1px solid #dddddd'>target_type</th><th style='border: 1px solid #dddddd'>target_id</th>\n",
       "                <tr><td style='border: 1px solid #dddddd'>2020-10-20 22:44:39.354483+00:00</td><td style='border: 1px solid #dddddd'>data_drift_magnitude</td><td style='border: 1px solid #dddddd'>dac28b7e-b0fe-4878-bd34-7e31e9d71fe3</td><td style='border: 1px solid #dddddd'>0.07</td><td style='border: 1px solid #dddddd'>None</td><td style='border: 1px solid #dddddd'>None</td><td style='border: 1px solid #dddddd'>[]</td><td style='border: 1px solid #dddddd'>drift</td><td style='border: 1px solid #dddddd'>df22bb4b-1a47-488b-bb98-8323edc7fb7a</td><td style='border: 1px solid #dddddd'>04055eff-da29-4f0c-99be-dd78dde6c877</td><td style='border: 1px solid #dddddd'>subscription</td><td style='border: 1px solid #dddddd'>58ec2a87-6d4f-4e54-ad8d-c6517ac9fdef</td></tr><tr><td style='border: 1px solid #dddddd'>2020-10-20 22:44:39.354483+00:00</td><td style='border: 1px solid #dddddd'>drift_magnitude</td><td style='border: 1px solid #dddddd'>dac28b7e-b0fe-4878-bd34-7e31e9d71fe3</td><td style='border: 1px solid #dddddd'>0.122</td><td style='border: 1px solid #dddddd'>None</td><td style='border: 1px solid #dddddd'>0.05</td><td style='border: 1px solid #dddddd'>[]</td><td style='border: 1px solid #dddddd'>drift</td><td style='border: 1px solid #dddddd'>df22bb4b-1a47-488b-bb98-8323edc7fb7a</td><td style='border: 1px solid #dddddd'>04055eff-da29-4f0c-99be-dd78dde6c877</td><td style='border: 1px solid #dddddd'>subscription</td><td style='border: 1px solid #dddddd'>58ec2a87-6d4f-4e54-ad8d-c6517ac9fdef</td></tr><tr><td style='border: 1px solid #dddddd'>2020-10-20 22:44:39.354483+00:00</td><td style='border: 1px solid #dddddd'>predicted_accuracy</td><td style='border: 1px solid #dddddd'>dac28b7e-b0fe-4878-bd34-7e31e9d71fe3</td><td style='border: 1px solid #dddddd'>0.675</td><td style='border: 1px solid #dddddd'>None</td><td style='border: 1px solid #dddddd'>None</td><td style='border: 1px solid #dddddd'>[]</td><td style='border: 1px solid #dddddd'>drift</td><td style='border: 1px solid #dddddd'>df22bb4b-1a47-488b-bb98-8323edc7fb7a</td><td style='border: 1px solid #dddddd'>04055eff-da29-4f0c-99be-dd78dde6c877</td><td style='border: 1px solid #dddddd'>subscription</td><td style='border: 1px solid #dddddd'>58ec2a87-6d4f-4e54-ad8d-c6517ac9fdef</td></tr>\n",
       "            </table>\n",
       "        </body>\n",
       "        </HTML>"
      ],
      "text/plain": [
       "<IPython.core.display.HTML object>"
      ]
     },
     "metadata": {},
     "output_type": "display_data"
    }
   ],
   "source": [
    "time.sleep(5)\n",
    "wos_client.monitor_instances.show_metrics(monitor_instance_id=drift_monitor_instance_id)"
   ]
  },
  {
   "cell_type": "markdown",
   "metadata": {},
   "source": [
    "## 5.5 Configure Explainability"
   ]
  },
  {
   "cell_type": "markdown",
   "metadata": {},
   "source": [
    "Finally, we provide OpenScale with the training data to enable and configure the explainability features."
   ]
  },
  {
   "cell_type": "code",
   "execution_count": 79,
   "metadata": {
    "scrolled": true
   },
   "outputs": [
    {
     "name": "stdout",
     "output_type": "stream",
     "text": [
      "\n",
      "\n",
      "===================================================================================\n",
      "\n",
      " Waiting for end of monitor instance creation 609fa5b2-a610-4538-9023-64dd42e3fc5c \n",
      "\n",
      "===================================================================================\n",
      "\n",
      "\n",
      "\n",
      "active\n",
      "\n",
      "---------------------------------------\n",
      " Monitor instance successfully created \n",
      "---------------------------------------\n",
      "\n",
      "\n"
     ]
    }
   ],
   "source": [
    "target = Target(\n",
    "    target_type=TargetTypes.SUBSCRIPTION,\n",
    "    target_id=subscription_id\n",
    ")\n",
    "parameters = {\n",
    "    \"enabled\": True\n",
    "}\n",
    "explainability_details = wos_client.monitor_instances.create(\n",
    "    data_mart_id=data_mart_id,\n",
    "    background_mode=False,\n",
    "    monitor_definition_id=wos_client.monitor_definitions.MONITORS.EXPLAINABILITY.ID,\n",
    "    target=target,\n",
    "    parameters=parameters\n",
    ").result\n",
    "\n",
    "explainability_monitor_id = explainability_details.metadata.id"
   ]
  },
  {
   "cell_type": "markdown",
   "metadata": {},
   "source": [
    "### 5.5.1 Run Explanation for Sample Record"
   ]
  },
  {
   "cell_type": "code",
   "execution_count": 80,
   "metadata": {},
   "outputs": [
    {
     "name": "stdout",
     "output_type": "stream",
     "text": [
      "Running explanations on scoring IDs: ['211434e3-0d72-4a8f-bff0-4088eaa37e9c-1']\n",
      "{\n",
      "  \"metadata\": {\n",
      "    \"explanation_task_ids\": [\n",
      "      \"70ead743-acd5-4b42-8a34-1414dacb511a\"\n",
      "    ],\n",
      "    \"created_by\": \"IBMid-060000GRS6\",\n",
      "    \"created_at\": \"2020-10-20T22:45:02.352213Z\"\n",
      "  }\n",
      "}\n",
      "Explanations task ID: 70ead743-acd5-4b42-8a34-1414dacb511a\n"
     ]
    }
   ],
   "source": [
    "pl_records_resp = wos_client.data_sets.get_list_of_records(data_set_id=payload_data_set_id, limit=1, offset=0).result\n",
    "scoring_ids = [pl_records_resp[\"records\"][0][\"entity\"][\"values\"][\"scoring_id\"]]\n",
    "explanation_types = [\"lime\", \"contrastive\"]\n",
    "print(\"Running explanations on scoring IDs: {}\".format(scoring_ids))\n",
    "post_exp_task_resp = wos_client.monitor_instances.explanation_tasks(scoring_ids=scoring_ids, explanation_types=explanation_types).result\n",
    "print(post_exp_task_resp)\n",
    "explanation_task_id = post_exp_task_resp.metadata.explanation_task_ids[0] #Pick up the first explanation task id from list.\n",
    "print(\"Explanations task ID: {}\".format(explanation_task_id))"
   ]
  },
  {
   "cell_type": "code",
   "execution_count": 81,
   "metadata": {},
   "outputs": [
    {
     "name": "stdout",
     "output_type": "stream",
     "text": [
      "Explanation task not ready...\n",
      "Explanation task not ready...\n",
      "Explanation task not ready...\n",
      "Explanation task not ready...\n",
      "Explanation task not ready...\n",
      "Explanation task has not completed.\n",
      "None\n"
     ]
    }
   ],
   "source": [
    "poll_limit = 5\n",
    "def poll_explainability_task(client, epx_task_id):\n",
    "    import time\n",
    "    pcounter = 1\n",
    "    while True:\n",
    "        exp_task = client.monitor_instances.get_explanation_tasks(epx_task_id).result\n",
    "        state = exp_task.entity.status.state\n",
    "        if state == 'finished':\n",
    "            return exp_task\n",
    "        elif pcounter > poll_limit:\n",
    "            print(\"Explanation task has not completed.\")\n",
    "            return None\n",
    "        else:\n",
    "            print(\"Explanation task not ready...\")\n",
    "            pcounter += 1\n",
    "            time.sleep(5)\n",
    "            \n",
    "exp_resp = poll_explainability_task(wos_client, explanation_task_id)\n",
    "print(exp_resp)"
   ]
  },
  {
   "cell_type": "markdown",
   "metadata": {},
   "source": [
    "## 5.6 Check Monitors\n",
    "\n",
    "We can show which monitors are currently enabled, at this point, it would be the Quality, Fairness, Drift and Explainability Monitors"
   ]
  },
  {
   "cell_type": "code",
   "execution_count": 82,
   "metadata": {},
   "outputs": [
    {
     "data": {
      "text/html": [
       "<HTML>\n",
       "        <body>\n",
       "            <h3>Monitor instances</h3>\n",
       "            <table style='border: 1px solid #dddddd; font-family: Courier'>\n",
       "                <th style='border: 1px solid #dddddd'>data_mart_id</th><th style='border: 1px solid #dddddd'>status</th><th style='border: 1px solid #dddddd'>target_id</th><th style='border: 1px solid #dddddd'>target_type</th><th style='border: 1px solid #dddddd'>monitor_definition_id</th><th style='border: 1px solid #dddddd'>created_at</th><th style='border: 1px solid #dddddd'>id</th>\n",
       "                <tr><td style='border: 1px solid #dddddd'>99318397-f315-40be-a572-961b511856bd</td><td style='border: 1px solid #dddddd'>active</td><td style='border: 1px solid #dddddd'>58ec2a87-6d4f-4e54-ad8d-c6517ac9fdef</td><td style='border: 1px solid #dddddd'>subscription</td><td style='border: 1px solid #dddddd'>explainability</td><td style='border: 1px solid #dddddd'>2020-10-20 22:44:56.444000+00:00</td><td style='border: 1px solid #dddddd'>609fa5b2-a610-4538-9023-64dd42e3fc5c</td></tr><tr><td style='border: 1px solid #dddddd'>99318397-f315-40be-a572-961b511856bd</td><td style='border: 1px solid #dddddd'>active</td><td style='border: 1px solid #dddddd'>58ec2a87-6d4f-4e54-ad8d-c6517ac9fdef</td><td style='border: 1px solid #dddddd'>subscription</td><td style='border: 1px solid #dddddd'>drift</td><td style='border: 1px solid #dddddd'>2020-10-20 21:49:52.162000+00:00</td><td style='border: 1px solid #dddddd'>df22bb4b-1a47-488b-bb98-8323edc7fb7a</td></tr><tr><td style='border: 1px solid #dddddd'>99318397-f315-40be-a572-961b511856bd</td><td style='border: 1px solid #dddddd'>active</td><td style='border: 1px solid #dddddd'>58ec2a87-6d4f-4e54-ad8d-c6517ac9fdef</td><td style='border: 1px solid #dddddd'>subscription</td><td style='border: 1px solid #dddddd'>fairness</td><td style='border: 1px solid #dddddd'>2020-10-20 21:48:26.121000+00:00</td><td style='border: 1px solid #dddddd'>7a1791c4-2b71-4192-8e18-e252d1d63e83</td></tr><tr><td style='border: 1px solid #dddddd'>99318397-f315-40be-a572-961b511856bd</td><td style='border: 1px solid #dddddd'>active</td><td style='border: 1px solid #dddddd'>58ec2a87-6d4f-4e54-ad8d-c6517ac9fdef</td><td style='border: 1px solid #dddddd'>subscription</td><td style='border: 1px solid #dddddd'>quality</td><td style='border: 1px solid #dddddd'>2020-10-20 21:47:00.570000+00:00</td><td style='border: 1px solid #dddddd'>522b115b-92fb-4418-ac8d-fe7217ab779d</td></tr><tr><td style='border: 1px solid #dddddd'>99318397-f315-40be-a572-961b511856bd</td><td style='border: 1px solid #dddddd'>active</td><td style='border: 1px solid #dddddd'>4737de0d-5e04-4c91-80b1-3b934d9e9a6c</td><td style='border: 1px solid #dddddd'>subscription</td><td style='border: 1px solid #dddddd'>drift</td><td style='border: 1px solid #dddddd'>2020-10-13 20:56:42.555000+00:00</td><td style='border: 1px solid #dddddd'>9104b117-7ebe-4882-b55a-1daf08ebf86d</td></tr><tr><td style='border: 1px solid #dddddd'>99318397-f315-40be-a572-961b511856bd</td><td style='border: 1px solid #dddddd'>active</td><td style='border: 1px solid #dddddd'>4737de0d-5e04-4c91-80b1-3b934d9e9a6c</td><td style='border: 1px solid #dddddd'>subscription</td><td style='border: 1px solid #dddddd'>fairness</td><td style='border: 1px solid #dddddd'>2020-10-13 20:56:30.974000+00:00</td><td style='border: 1px solid #dddddd'>291b3734-a491-4bbb-a36a-641d7b47e3d4</td></tr><tr><td style='border: 1px solid #dddddd'>99318397-f315-40be-a572-961b511856bd</td><td style='border: 1px solid #dddddd'>active</td><td style='border: 1px solid #dddddd'>4737de0d-5e04-4c91-80b1-3b934d9e9a6c</td><td style='border: 1px solid #dddddd'>subscription</td><td style='border: 1px solid #dddddd'>mrm</td><td style='border: 1px solid #dddddd'>2020-10-13 20:56:47.963000+00:00</td><td style='border: 1px solid #dddddd'>0e34a447-2f10-4941-bbb2-1fddaa22e1a7</td></tr><tr><td style='border: 1px solid #dddddd'>99318397-f315-40be-a572-961b511856bd</td><td style='border: 1px solid #dddddd'>active</td><td style='border: 1px solid #dddddd'>4737de0d-5e04-4c91-80b1-3b934d9e9a6c</td><td style='border: 1px solid #dddddd'>subscription</td><td style='border: 1px solid #dddddd'>quality</td><td style='border: 1px solid #dddddd'>2020-10-13 20:56:36.510000+00:00</td><td style='border: 1px solid #dddddd'>50f05fbf-ebc3-4cc4-9ebe-52b6d1f1ceba</td></tr><tr><td style='border: 1px solid #dddddd'>99318397-f315-40be-a572-961b511856bd</td><td style='border: 1px solid #dddddd'>active</td><td style='border: 1px solid #dddddd'>4737de0d-5e04-4c91-80b1-3b934d9e9a6c</td><td style='border: 1px solid #dddddd'>subscription</td><td style='border: 1px solid #dddddd'>explainability</td><td style='border: 1px solid #dddddd'>2020-10-13 20:56:25.514000+00:00</td><td style='border: 1px solid #dddddd'>d8352727-d28a-44cc-9b8e-70c4181c4ecb</td></tr><tr><td style='border: 1px solid #dddddd'>99318397-f315-40be-a572-961b511856bd</td><td style='border: 1px solid #dddddd'>active</td><td style='border: 1px solid #dddddd'>b449f4a6-4249-459a-85ab-139f015429ce</td><td style='border: 1px solid #dddddd'>subscription</td><td style='border: 1px solid #dddddd'>fairness</td><td style='border: 1px solid #dddddd'>2020-10-13 20:54:53.345000+00:00</td><td style='border: 1px solid #dddddd'>d0fa9fa2-d812-4e11-947e-13c2f7febaf8</td></tr>\n",
       "            </table>\n",
       "        </body>\n",
       "        </HTML>"
      ],
      "text/plain": [
       "<IPython.core.display.HTML object>"
      ]
     },
     "metadata": {},
     "output_type": "display_data"
    },
    {
     "name": "stdout",
     "output_type": "stream",
     "text": [
      "Note: First 10 records were displayed.\n"
     ]
    },
    {
     "data": {
      "text/html": [
       "<HTML>\n",
       "        <body>\n",
       "            <h3>Data sets</h3>\n",
       "            <table style='border: 1px solid #dddddd; font-family: Courier'>\n",
       "                <th style='border: 1px solid #dddddd'>data_mart_id</th><th style='border: 1px solid #dddddd'>status</th><th style='border: 1px solid #dddddd'>target_id</th><th style='border: 1px solid #dddddd'>target_type</th><th style='border: 1px solid #dddddd'>type</th><th style='border: 1px solid #dddddd'>created_at</th><th style='border: 1px solid #dddddd'>id</th>\n",
       "                <tr><td style='border: 1px solid #dddddd'>99318397-f315-40be-a572-961b511856bd</td><td style='border: 1px solid #dddddd'>active</td><td style='border: 1px solid #dddddd'>58ec2a87-6d4f-4e54-ad8d-c6517ac9fdef</td><td style='border: 1px solid #dddddd'>subscription</td><td style='border: 1px solid #dddddd'>payload_logging</td><td style='border: 1px solid #dddddd'>2020-10-20 21:45:58.950000+00:00</td><td style='border: 1px solid #dddddd'>c28c505d-3db2-46ce-94e6-52e8acac36f2</td></tr><tr><td style='border: 1px solid #dddddd'>99318397-f315-40be-a572-961b511856bd</td><td style='border: 1px solid #dddddd'>active</td><td style='border: 1px solid #dddddd'>58ec2a87-6d4f-4e54-ad8d-c6517ac9fdef</td><td style='border: 1px solid #dddddd'>subscription</td><td style='border: 1px solid #dddddd'>feedback</td><td style='border: 1px solid #dddddd'>2020-10-20 21:47:01.155000+00:00</td><td style='border: 1px solid #dddddd'>5d4fe180-73b3-43a2-a461-a89c113ef48d</td></tr><tr><td style='border: 1px solid #dddddd'>99318397-f315-40be-a572-961b511856bd</td><td style='border: 1px solid #dddddd'>active</td><td style='border: 1px solid #dddddd'>58ec2a87-6d4f-4e54-ad8d-c6517ac9fdef</td><td style='border: 1px solid #dddddd'>subscription</td><td style='border: 1px solid #dddddd'>manual_labeling</td><td style='border: 1px solid #dddddd'>2020-10-20 21:45:59.028000+00:00</td><td style='border: 1px solid #dddddd'>fb014a2c-4afb-4ee2-a3c1-ddc2d508d6af</td></tr><tr><td style='border: 1px solid #dddddd'>99318397-f315-40be-a572-961b511856bd</td><td style='border: 1px solid #dddddd'>active</td><td style='border: 1px solid #dddddd'>4737de0d-5e04-4c91-80b1-3b934d9e9a6c</td><td style='border: 1px solid #dddddd'>subscription</td><td style='border: 1px solid #dddddd'>manual_labeling</td><td style='border: 1px solid #dddddd'>2020-10-13 20:56:12.560000+00:00</td><td style='border: 1px solid #dddddd'>66fce8c7-1579-4a5f-a5f3-10bce8a0352f</td></tr><tr><td style='border: 1px solid #dddddd'>99318397-f315-40be-a572-961b511856bd</td><td style='border: 1px solid #dddddd'>active</td><td style='border: 1px solid #dddddd'>4737de0d-5e04-4c91-80b1-3b934d9e9a6c</td><td style='border: 1px solid #dddddd'>subscription</td><td style='border: 1px solid #dddddd'>payload_logging</td><td style='border: 1px solid #dddddd'>2020-10-13 20:56:12.464000+00:00</td><td style='border: 1px solid #dddddd'>0dcb54d4-b1f2-4eb2-b36b-ab3b89fcebcf</td></tr><tr><td style='border: 1px solid #dddddd'>99318397-f315-40be-a572-961b511856bd</td><td style='border: 1px solid #dddddd'>active</td><td style='border: 1px solid #dddddd'>4737de0d-5e04-4c91-80b1-3b934d9e9a6c</td><td style='border: 1px solid #dddddd'>subscription</td><td style='border: 1px solid #dddddd'>feedback</td><td style='border: 1px solid #dddddd'>2020-10-13 20:56:37.059000+00:00</td><td style='border: 1px solid #dddddd'>28d37bc4-c624-4064-b610-e38ecf814e30</td></tr><tr><td style='border: 1px solid #dddddd'>99318397-f315-40be-a572-961b511856bd</td><td style='border: 1px solid #dddddd'>active</td><td style='border: 1px solid #dddddd'>b449f4a6-4249-459a-85ab-139f015429ce</td><td style='border: 1px solid #dddddd'>subscription</td><td style='border: 1px solid #dddddd'>manual_labeling</td><td style='border: 1px solid #dddddd'>2020-10-13 20:54:34.088000+00:00</td><td style='border: 1px solid #dddddd'>94cc0bac-697f-4e9d-918a-6b2c2cd0fab2</td></tr><tr><td style='border: 1px solid #dddddd'>99318397-f315-40be-a572-961b511856bd</td><td style='border: 1px solid #dddddd'>active</td><td style='border: 1px solid #dddddd'>4737de0d-5e04-4c91-80b1-3b934d9e9a6c</td><td style='border: 1px solid #dddddd'>subscription</td><td style='border: 1px solid #dddddd'>training</td><td style='border: 1px solid #dddddd'>2020-10-13 20:56:12.642000+00:00</td><td style='border: 1px solid #dddddd'>60e51703-ab82-4428-afbb-5b61789e469a</td></tr><tr><td style='border: 1px solid #dddddd'>99318397-f315-40be-a572-961b511856bd</td><td style='border: 1px solid #dddddd'>active</td><td style='border: 1px solid #dddddd'>b449f4a6-4249-459a-85ab-139f015429ce</td><td style='border: 1px solid #dddddd'>subscription</td><td style='border: 1px solid #dddddd'>payload_logging</td><td style='border: 1px solid #dddddd'>2020-10-13 20:54:33.989000+00:00</td><td style='border: 1px solid #dddddd'>e81d262b-1379-40e9-9a4f-161987a0898f</td></tr><tr><td style='border: 1px solid #dddddd'>99318397-f315-40be-a572-961b511856bd</td><td style='border: 1px solid #dddddd'>active</td><td style='border: 1px solid #dddddd'>b449f4a6-4249-459a-85ab-139f015429ce</td><td style='border: 1px solid #dddddd'>subscription</td><td style='border: 1px solid #dddddd'>feedback</td><td style='border: 1px solid #dddddd'>2020-10-13 20:54:59.381000+00:00</td><td style='border: 1px solid #dddddd'>3377a80a-8f36-4c69-9dce-dc6a1d256539</td></tr>\n",
       "            </table>\n",
       "        </body>\n",
       "        </HTML>"
      ],
      "text/plain": [
       "<IPython.core.display.HTML object>"
      ]
     },
     "metadata": {},
     "output_type": "display_data"
    },
    {
     "name": "stdout",
     "output_type": "stream",
     "text": [
      "Note: First 10 records were displayed.\n"
     ]
    }
   ],
   "source": [
    "wos_client.monitor_instances.show()\n",
    "wos_client.data_sets.show()"
   ]
  },
  {
   "cell_type": "markdown",
   "metadata": {},
   "source": [
    "# 6.0 Custom monitors and metrics <a name=\"custom\"></a>"
   ]
  },
  {
   "cell_type": "markdown",
   "metadata": {},
   "source": [
    "## 6.1 Register custom monitor"
   ]
  },
  {
   "cell_type": "code",
   "execution_count": 83,
   "metadata": {},
   "outputs": [],
   "source": [
    "def get_definition(monitor_name):\n",
    "    monitor_definitions = wos_client.monitor_definitions.list().result.monitor_definitions\n",
    "    \n",
    "    for definition in monitor_definitions:\n",
    "        if monitor_name == definition.entity.name:\n",
    "            return definition\n",
    "    \n",
    "    return None"
   ]
  },
  {
   "cell_type": "markdown",
   "metadata": {},
   "source": [
    "Change `monitor_name` to something unique."
   ]
  },
  {
   "cell_type": "code",
   "execution_count": 84,
   "metadata": {},
   "outputs": [
    {
     "name": "stdout",
     "output_type": "stream",
     "text": [
      "\n",
      "\n",
      "===================================================================\n",
      "\n",
      " Waiting for end of adding monitor definition my_model_performance \n",
      "\n",
      "===================================================================\n",
      "\n",
      "\n",
      "\n",
      "finished\n",
      "\n",
      "-------------------------------------------------\n",
      " Successfully finished adding monitor definition \n",
      "-------------------------------------------------\n",
      "\n",
      "\n"
     ]
    }
   ],
   "source": [
    "monitor_name = \"My model performance\"\n",
    "metrics = [MonitorMetricRequest(name='sensitivity',\n",
    "                                thresholds=[MetricThreshold(type=MetricThresholdTypes.LOWER_LIMIT, default=0.8)]),\n",
    "          MonitorMetricRequest(name='specificity',\n",
    "                                thresholds=[MetricThreshold(type=MetricThresholdTypes.LOWER_LIMIT, default=0.75)])]\n",
    "tags = [MonitorTagRequest(name='region', description='customer geographical region')]\n",
    "\n",
    "existing_definition = get_definition(monitor_name)\n",
    "\n",
    "if existing_definition is None:\n",
    "    custom_monitor_details = wos_client.monitor_definitions.add(name=monitor_name, metrics=metrics, tags=tags, background_mode=False).result\n",
    "else:\n",
    "    custom_monitor_details = existing_definition"
   ]
  },
  {
   "cell_type": "code",
   "execution_count": 85,
   "metadata": {},
   "outputs": [
    {
     "data": {
      "text/html": [
       "<HTML>\n",
       "        <body>\n",
       "            <h3>Monitor definitions</h3>\n",
       "            <table style='border: 1px solid #dddddd; font-family: Courier'>\n",
       "                <th style='border: 1px solid #dddddd'>monitor id</th><th style='border: 1px solid #dddddd'>monitor name</th><th style='border: 1px solid #dddddd'>metrics names</th>\n",
       "                <tr><td style='border: 1px solid #dddddd'>my_model_performance</td><td style='border: 1px solid #dddddd'>My model performance</td><td style='border: 1px solid #dddddd'>['sensitivity', 'specificity']</td></tr><tr><td style='border: 1px solid #dddddd'>assurance</td><td style='border: 1px solid #dddddd'>Assurance</td><td style='border: 1px solid #dddddd'>['Uncertainty', 'Confidence']</td></tr><tr><td style='border: 1px solid #dddddd'>fairness</td><td style='border: 1px solid #dddddd'>Fairness</td><td style='border: 1px solid #dddddd'>['Fairness value', 'Average Odds Difference metric value', 'False Discovery Rate Difference metric value', 'Error Rate Difference metric value', 'False Negative Rate Difference metric value', 'False Omission Rate Difference metric value', 'False Positive Rate Difference metric value', 'True Positive Rate Difference metric value']</td></tr><tr><td style='border: 1px solid #dddddd'>performance</td><td style='border: 1px solid #dddddd'>Performance</td><td style='border: 1px solid #dddddd'>['Number of records']</td></tr><tr><td style='border: 1px solid #dddddd'>explainability</td><td style='border: 1px solid #dddddd'>Explainability</td><td style='border: 1px solid #dddddd'>[]</td></tr><tr><td style='border: 1px solid #dddddd'>mrm</td><td style='border: 1px solid #dddddd'>Model risk management monitoring</td><td style='border: 1px solid #dddddd'>['Tests run', 'Tests passed', 'Tests failed', 'Tests skipped', 'Fairness score', 'Quality score', 'Drift score']</td></tr><tr><td style='border: 1px solid #dddddd'>correlations</td><td style='border: 1px solid #dddddd'>Correlations</td><td style='border: 1px solid #dddddd'>['Maximum positive correlation coefficient', 'Maximum negative correlation coefficient', 'Mean absolute correlation coefficient', 'Significant correlation coefficients count']</td></tr><tr><td style='border: 1px solid #dddddd'>drift</td><td style='border: 1px solid #dddddd'>Drift</td><td style='border: 1px solid #dddddd'>['Drop in accuracy', 'Predicted accuracy', 'Drop in data consistency']</td></tr><tr><td style='border: 1px solid #dddddd'>quality</td><td style='border: 1px solid #dddddd'>Quality</td><td style='border: 1px solid #dddddd'>['Area under ROC', 'Area under PR', 'Proportion explained variance', 'Mean absolute error', 'Mean squared error', 'R squared', 'Root of mean squared error', 'Accuracy', 'Weighted True Positive Rate (wTPR)', 'True positive rate (TPR)', 'Weighted False Positive Rate (wFPR)', 'False positive rate (FPR)', 'Weighted recall', 'Recall', 'Weighted precision', 'Precision', 'Weighted F1-Measure', 'F1-Measure', 'Logarithmic loss']</td></tr>\n",
       "            </table>\n",
       "        </body>\n",
       "        </HTML>"
      ],
      "text/plain": [
       "<IPython.core.display.HTML object>"
      ]
     },
     "metadata": {},
     "output_type": "display_data"
    }
   ],
   "source": [
    "wos_client.monitor_definitions.show()"
   ]
  },
  {
   "cell_type": "code",
   "execution_count": 86,
   "metadata": {},
   "outputs": [
    {
     "name": "stdout",
     "output_type": "stream",
     "text": [
      "Custom Monitor ID: my_model_performance\n"
     ]
    }
   ],
   "source": [
    "custom_monitor_id = custom_monitor_details.metadata.id\n",
    "print(\"Custom Monitor ID: {}\".format(custom_monitor_id))"
   ]
  },
  {
   "cell_type": "code",
   "execution_count": 87,
   "metadata": {},
   "outputs": [
    {
     "name": "stdout",
     "output_type": "stream",
     "text": [
      "Custom monitor definition details: {\n",
      "  \"metadata\": {\n",
      "    \"id\": \"my_model_performance\",\n",
      "    \"crn\": \"crn:v1:bluemix:public:aiopenscale:us-south:a/f365091ee8c74129813329068811cc54:99318397-f315-40be-a572-961b511856bd:monitor_definition:my_model_performance\",\n",
      "    \"url\": \"/v2/monitor_definitions/my_model_performance\",\n",
      "    \"created_at\": \"2020-10-20T22:45:35.504000Z\",\n",
      "    \"created_by\": \"IBMid-060000GRS6\"\n",
      "  },\n",
      "  \"entity\": {\n",
      "    \"name\": \"My model performance\",\n",
      "    \"metrics\": [\n",
      "      {\n",
      "        \"name\": \"sensitivity\",\n",
      "        \"thresholds\": [\n",
      "          {\n",
      "            \"type\": \"lower_limit\",\n",
      "            \"default\": 0.8\n",
      "          }\n",
      "        ],\n",
      "        \"expected_direction\": \"increasing\",\n",
      "        \"id\": \"sensitivity\"\n",
      "      },\n",
      "      {\n",
      "        \"name\": \"specificity\",\n",
      "        \"thresholds\": [\n",
      "          {\n",
      "            \"type\": \"lower_limit\",\n",
      "            \"default\": 0.75\n",
      "          }\n",
      "        ],\n",
      "        \"expected_direction\": \"increasing\",\n",
      "        \"id\": \"specificity\"\n",
      "      }\n",
      "    ],\n",
      "    \"tags\": [\n",
      "      {\n",
      "        \"name\": \"region\",\n",
      "        \"description\": \"customer geographical region\",\n",
      "        \"id\": \"region\"\n",
      "      }\n",
      "    ]\n",
      "  }\n",
      "}\n"
     ]
    }
   ],
   "source": [
    "custom_monitor_details = wos_client.monitor_definitions.get(monitor_definition_id=custom_monitor_id).result\n",
    "print(\"Custom monitor definition details:\", custom_monitor_details)"
   ]
  },
  {
   "cell_type": "markdown",
   "metadata": {},
   "source": [
    "## 6.2 Enable custom monitor for subscription"
   ]
  },
  {
   "cell_type": "code",
   "execution_count": 88,
   "metadata": {},
   "outputs": [
    {
     "name": "stdout",
     "output_type": "stream",
     "text": [
      "\n",
      "\n",
      "===================================================================================\n",
      "\n",
      " Waiting for end of monitor instance creation fcfde730-7e07-4aae-a9e4-1c7f33b83685 \n",
      "\n",
      "===================================================================================\n",
      "\n",
      "\n",
      "\n",
      "active\n",
      "\n",
      "---------------------------------------\n",
      " Monitor instance successfully created \n",
      "---------------------------------------\n",
      "\n",
      "\n"
     ]
    }
   ],
   "source": [
    "target = Target(\n",
    "        target_type=TargetTypes.SUBSCRIPTION,\n",
    "        target_id=subscription_id\n",
    "    )\n",
    "\n",
    "thresholds = [MetricThresholdOverride(metric_id='sensitivity', type = MetricThresholdTypes.LOWER_LIMIT, value=0.9)]\n",
    "\n",
    "custom_monitor_instance_details = wos_client.monitor_instances.create(\n",
    "            data_mart_id=data_mart_id,\n",
    "            background_mode=False,\n",
    "            monitor_definition_id=custom_monitor_id,\n",
    "            target=target\n",
    ").result"
   ]
  },
  {
   "cell_type": "markdown",
   "metadata": {},
   "source": [
    "### 6.2.1 Get monitor configuration details"
   ]
  },
  {
   "cell_type": "code",
   "execution_count": 89,
   "metadata": {},
   "outputs": [
    {
     "name": "stdout",
     "output_type": "stream",
     "text": [
      "{\n",
      "  \"metadata\": {\n",
      "    \"id\": \"fcfde730-7e07-4aae-a9e4-1c7f33b83685\",\n",
      "    \"crn\": \"crn:v1:bluemix:public:aiopenscale:us-south:a/f365091ee8c74129813329068811cc54:99318397-f315-40be-a572-961b511856bd:monitor_instance:fcfde730-7e07-4aae-a9e4-1c7f33b83685\",\n",
      "    \"url\": \"/v2/monitor_instances/fcfde730-7e07-4aae-a9e4-1c7f33b83685\",\n",
      "    \"created_at\": \"2020-10-20T22:45:44.068000Z\",\n",
      "    \"created_by\": \"IBMid-060000GRS6\"\n",
      "  },\n",
      "  \"entity\": {\n",
      "    \"data_mart_id\": \"99318397-f315-40be-a572-961b511856bd\",\n",
      "    \"monitor_definition_id\": \"my_model_performance\",\n",
      "    \"target\": {\n",
      "      \"target_type\": \"subscription\",\n",
      "      \"target_id\": \"58ec2a87-6d4f-4e54-ad8d-c6517ac9fdef\"\n",
      "    },\n",
      "    \"thresholds\": [\n",
      "      {\n",
      "        \"metric_id\": \"sensitivity\",\n",
      "        \"type\": \"lower_limit\",\n",
      "        \"value\": 0.8\n",
      "      },\n",
      "      {\n",
      "        \"metric_id\": \"specificity\",\n",
      "        \"type\": \"lower_limit\",\n",
      "        \"value\": 0.75\n",
      "      }\n",
      "    ],\n",
      "    \"schedule\": {\n",
      "      \"repeat_interval\": 60,\n",
      "      \"repeat_unit\": \"minute\",\n",
      "      \"repeat_type\": \"minute\"\n",
      "    },\n",
      "    \"status\": {\n",
      "      \"state\": \"active\"\n",
      "    }\n",
      "  }\n",
      "}\n"
     ]
    }
   ],
   "source": [
    "custom_monitor_instance_id = custom_monitor_instance_details.metadata.id\n",
    "custom_monitor_instance_details = wos_client.monitor_instances.get(custom_monitor_instance_id).result\n",
    "print(custom_monitor_instance_details)"
   ]
  },
  {
   "cell_type": "markdown",
   "metadata": {},
   "source": [
    "## 6.3 Storing custom metrics"
   ]
  },
  {
   "cell_type": "code",
   "execution_count": 90,
   "metadata": {},
   "outputs": [
    {
     "name": "stdout",
     "output_type": "stream",
     "text": [
      "{\n",
      "  \"timestamp\": \"2020-10-20T22:45:49.497966Z\",\n",
      "  \"run_id\": \"11122223333111abc\",\n",
      "  \"metrics\": [\n",
      "    {\n",
      "      \"specificity\": 0.78,\n",
      "      \"sensitivity\": 0.67,\n",
      "      \"region\": \"us-south\"\n",
      "    }\n",
      "  ]\n",
      "}\n"
     ]
    }
   ],
   "source": [
    "from datetime import datetime, timezone, timedelta\n",
    "from ibm_watson_openscale.base_classes.watson_open_scale_v2 import MonitorMeasurementRequest\n",
    "custom_monitoring_run_id = \"11122223333111abc\"\n",
    "measurement_request = [MonitorMeasurementRequest(timestamp=datetime.now(timezone.utc), \n",
    "                                                 metrics=[{\"specificity\": 0.78, \"sensitivity\": 0.67, \"region\": \"us-south\"}], run_id=custom_monitoring_run_id)]\n",
    "print(measurement_request[0])"
   ]
  },
  {
   "cell_type": "code",
   "execution_count": 91,
   "metadata": {},
   "outputs": [
    {
     "name": "stdout",
     "output_type": "stream",
     "text": [
      "[{'measurement_id': '9e304462-34c8-4efb-ba44-74e34c769430', 'metrics': [{'region': 'us-south', 'sensitivity': 0.67, 'specificity': 0.78}], 'run_id': '11122223333111abc', 'timestamp': '2020-10-20T22:45:49.497966Z'}]\n"
     ]
    }
   ],
   "source": [
    "published_measurement_response = wos_client.monitor_instances.measurements.add(\n",
    "    monitor_instance_id=custom_monitor_instance_id,\n",
    "    monitor_measurement_request=measurement_request).result\n",
    "published_measurement_id = published_measurement_response[0][\"measurement_id\"]\n",
    "print(published_measurement_response)"
   ]
  },
  {
   "cell_type": "markdown",
   "metadata": {},
   "source": [
    "### 6.3.1 Get custom metrics"
   ]
  },
  {
   "cell_type": "code",
   "execution_count": 92,
   "metadata": {},
   "outputs": [
    {
     "name": "stdout",
     "output_type": "stream",
     "text": [
      "{\n",
      "  \"metadata\": {\n",
      "    \"id\": \"9e304462-34c8-4efb-ba44-74e34c769430\",\n",
      "    \"crn\": \"crn:v1:bluemix:public:aiopenscale:us-south:a/f365091ee8c74129813329068811cc54:99318397-f315-40be-a572-961b511856bd:measurement:9e304462-34c8-4efb-ba44-74e34c769430\",\n",
      "    \"url\": \"/v2/monitor_instances/fcfde730-7e07-4aae-a9e4-1c7f33b83685/measurements/9e304462-34c8-4efb-ba44-74e34c769430\",\n",
      "    \"created_at\": \"2020-10-20T22:45:49.995000Z\",\n",
      "    \"created_by\": \"IBMid-060000GRS6\"\n",
      "  },\n",
      "  \"entity\": {\n",
      "    \"timestamp\": \"2020-10-20T22:45:49.497966Z\",\n",
      "    \"run_id\": \"11122223333111abc\",\n",
      "    \"values\": [\n",
      "      {\n",
      "        \"metrics\": [\n",
      "          {\n",
      "            \"id\": \"sensitivity\",\n",
      "            \"value\": 0.67,\n",
      "            \"lower_limit\": 0.8\n",
      "          },\n",
      "          {\n",
      "            \"id\": \"specificity\",\n",
      "            \"value\": 0.78,\n",
      "            \"lower_limit\": 0.75\n",
      "          }\n",
      "        ],\n",
      "        \"tags\": [\n",
      "          {\n",
      "            \"id\": \"region\",\n",
      "            \"value\": \"us-south\"\n",
      "          }\n",
      "        ]\n",
      "      }\n",
      "    ],\n",
      "    \"issue_count\": 1,\n",
      "    \"target\": {\n",
      "      \"target_type\": \"subscription\",\n",
      "      \"target_id\": \"58ec2a87-6d4f-4e54-ad8d-c6517ac9fdef\"\n",
      "    },\n",
      "    \"monitor_instance_id\": \"fcfde730-7e07-4aae-a9e4-1c7f33b83685\",\n",
      "    \"monitor_definition_id\": \"my_model_performance\"\n",
      "  }\n",
      "}\n"
     ]
    }
   ],
   "source": [
    "time.sleep(5)\n",
    "published_measurement = wos_client.monitor_instances.measurements.get(monitor_instance_id=custom_monitor_instance_id, measurement_id=published_measurement_id).result\n",
    "print(published_measurement)"
   ]
  },
  {
   "cell_type": "markdown",
   "metadata": {},
   "source": [
    "# 7.0 Historical data <a name=\"historical\"></a>"
   ]
  },
  {
   "cell_type": "code",
   "execution_count": 93,
   "metadata": {
    "scrolled": true
   },
   "outputs": [],
   "source": [
    "historyDays = 7"
   ]
  },
  {
   "cell_type": "markdown",
   "metadata": {},
   "source": [
    "## 7.1 Insert historical debias metrics"
   ]
  },
  {
   "cell_type": "code",
   "execution_count": 94,
   "metadata": {},
   "outputs": [
    {
     "name": "stdout",
     "output_type": "stream",
     "text": [
      "rm: cannot remove 'history_debias_v2.json': No such file or directory\n",
      "-rw-r----- 1 wsuser watsonstudio 37K Oct 20 22:57 history_debias_v2.json\n"
     ]
    }
   ],
   "source": [
    "!rm history_debias_v2.json\n",
    "with io.capture_output() as captured:\n",
    "    !wget https://raw.githubusercontent.com/pmservice/ai-openscale-tutorials/master/assets/historical_data/german_credit_risk/wml/history_debias_v2.json\n",
    "!ls -lh history_debias_v2.json"
   ]
  },
  {
   "cell_type": "code",
   "execution_count": 95,
   "metadata": {},
   "outputs": [
    {
     "name": "stdout",
     "output_type": "stream",
     "text": [
      "Loading day 1\n",
      "Loading day 2\n",
      "Loading day 3\n",
      "Loading day 4\n",
      "Loading day 5\n",
      "Loading day 6\n",
      "Loading day 7\n",
      "Finished\n"
     ]
    }
   ],
   "source": [
    "with open('history_debias_v2.json', 'r') as history_file:\n",
    "    payloads = json.load(history_file)\n",
    "\n",
    "for day in range(historyDays):\n",
    "    print('Loading day', day + 1)\n",
    "    daily_measurement_requests = []\n",
    "    for hour in range(24):\n",
    "        score_time = datetime.now(timezone.utc) + timedelta(hours=(-(24*day + hour + 1)))\n",
    "        index = (day * 24 + hour) % len(payloads) # wrap around and reuse values if needed\n",
    "\n",
    "        measurement_request = MonitorMeasurementRequest(timestamp=score_time,metrics = [payloads[index][0], payloads[index][1]])\n",
    "        \n",
    "        daily_measurement_requests.append(measurement_request)\n",
    "        \n",
    "    response = wos_client.monitor_instances.measurements.add(\n",
    "                                            monitor_instance_id=fairness_monitor_instance_id,\n",
    "                                            monitor_measurement_request=daily_measurement_requests).result     \n",
    "\n",
    "print('Finished')"
   ]
  },
  {
   "cell_type": "markdown",
   "metadata": {},
   "source": [
    "## 7.2 Insert historical quality metrics"
   ]
  },
  {
   "cell_type": "code",
   "execution_count": 96,
   "metadata": {
    "scrolled": true
   },
   "outputs": [
    {
     "name": "stdout",
     "output_type": "stream",
     "text": [
      "Loading day 1\n",
      "Loading day 2\n",
      "Loading day 3\n",
      "Loading day 4\n",
      "Loading day 5\n",
      "Loading day 6\n",
      "Loading day 7\n",
      "Finished\n"
     ]
    }
   ],
   "source": [
    "measurements = [0.76, 0.78, 0.68, 0.72, 0.73, 0.77, 0.80]\n",
    "for day in range(historyDays):\n",
    "    quality_measurement_requests = []\n",
    "    print('Loading day', day + 1)\n",
    "    for hour in range(24):\n",
    "        score_time = datetime.utcnow() + timedelta(hours=(-(24*day + hour + 1)))\n",
    "        score_time = score_time.isoformat() + \"Z\"\n",
    "        \n",
    "        metric = {\"area_under_roc\": measurements[day]}\n",
    "                \n",
    "        measurement_request = MonitorMeasurementRequest(timestamp=score_time,metrics = [metric])\n",
    "        quality_measurement_requests.append(measurement_request)\n",
    "        \n",
    "        \n",
    "    response = wos_client.monitor_instances.measurements.add(\n",
    "                                            monitor_instance_id=quality_monitor_instance_id,\n",
    "                                            monitor_measurement_request=quality_measurement_requests).result    \n",
    "    \n",
    "print('Finished')"
   ]
  },
  {
   "cell_type": "markdown",
   "metadata": {},
   "source": [
    "## 7.3 Insert historical confusion matrixes"
   ]
  },
  {
   "cell_type": "code",
   "execution_count": 97,
   "metadata": {},
   "outputs": [
    {
     "name": "stdout",
     "output_type": "stream",
     "text": [
      "rm: cannot remove 'history_quality_metrics.json': No such file or directory\n",
      "-rw-r----- 1 wsuser watsonstudio 79K Oct 20 22:57 history_quality_metrics.json\n"
     ]
    }
   ],
   "source": [
    "!rm history_quality_metrics.json\n",
    "with io.capture_output() as captured:\n",
    "    !wget https://raw.githubusercontent.com/pmservice/ai-openscale-tutorials/master/assets/historical_data/german_credit_risk/wml/history_quality_metrics.json\n",
    "!ls -lh history_quality_metrics.json"
   ]
  },
  {
   "cell_type": "code",
   "execution_count": 98,
   "metadata": {},
   "outputs": [
    {
     "name": "stdout",
     "output_type": "stream",
     "text": [
      "Loading day 1\n",
      "Loading day 2\n",
      "Loading day 3\n",
      "Loading day 4\n",
      "Loading day 5\n",
      "Loading day 6\n",
      "Loading day 7\n",
      "Finished\n"
     ]
    }
   ],
   "source": [
    "from ibm_watson_openscale.base_classes.watson_open_scale_v2 import Source\n",
    "\n",
    "with open('history_quality_metrics.json') as json_file:\n",
    "    records = json.load(json_file)\n",
    "    \n",
    "for day in range(historyDays):\n",
    "    index = 0\n",
    "    cm_measurement_requests = []\n",
    "    print('Loading day', day + 1)\n",
    "    \n",
    "    for hour in range(24):\n",
    "        score_time = datetime.utcnow() + timedelta(hours=(-(24*day + hour + 1)))\n",
    "        score_time = score_time.isoformat() + \"Z\"\n",
    "\n",
    "        metric = records[index]['metrics']\n",
    "        source = records[index]['sources']\n",
    "\n",
    "        measurement_request = {\"timestamp\": score_time, \"metrics\": [metric], \"sources\": [source]}\n",
    "        cm_measurement_requests.append(measurement_request)\n",
    "\n",
    "        index+=1\n",
    "\n",
    "    response = wos_client.monitor_instances.measurements.add(monitor_instance_id=quality_monitor_instance_id, monitor_measurement_request=cm_measurement_requests).result    \n",
    "\n",
    "print('Finished')"
   ]
  },
  {
   "cell_type": "markdown",
   "metadata": {},
   "source": [
    "## 7.4 Insert historical performance metrics"
   ]
  },
  {
   "cell_type": "code",
   "execution_count": 99,
   "metadata": {
    "scrolled": true
   },
   "outputs": [
    {
     "name": "stdout",
     "output_type": "stream",
     "text": [
      "\n",
      "\n",
      "===================================================================================\n",
      "\n",
      " Waiting for end of monitor instance creation e6ddec48-986f-4faf-86ac-31cd0054d5b5 \n",
      "\n",
      "===================================================================================\n",
      "\n",
      "\n",
      "\n",
      "active\n",
      "\n",
      "---------------------------------------\n",
      " Monitor instance successfully created \n",
      "---------------------------------------\n",
      "\n",
      "\n",
      "Loading day 1\n",
      "Loading day 2\n",
      "Loading day 3\n",
      "Loading day 4\n",
      "Loading day 5\n",
      "Loading day 6\n",
      "Loading day 7\n",
      "Finished\n"
     ]
    }
   ],
   "source": [
    "target = Target(\n",
    "        target_type=TargetTypes.INSTANCE,\n",
    "        target_id=payload_data_set_id\n",
    "    )\n",
    "\n",
    "performance_monitor_instance_details = wos_client.monitor_instances.create(\n",
    "            data_mart_id=data_mart_id,\n",
    "            background_mode=False,\n",
    "            monitor_definition_id=wos_client.monitor_definitions.MONITORS.PERFORMANCE.ID,\n",
    "            target=target\n",
    ").result\n",
    "performance_monitor_instance_id = performance_monitor_instance_details.metadata.id\n",
    "\n",
    "for day in range(historyDays):\n",
    "    performance_measurement_requests = []\n",
    "    print('Loading day', day + 1)\n",
    "    for hour in range(24):\n",
    "        score_time = datetime.utcnow() + timedelta(hours=(-(24*day + hour + 1)))\n",
    "        score_time = score_time.isoformat() + \"Z\"\n",
    "        score_count = random.randint(60, 600)\n",
    "        \n",
    "        metric = {\"record_count\": score_count, \"data_set_type\": \"scoring_payload\"}\n",
    "        \n",
    "        measurement_request = {\"timestamp\": score_time, \"metrics\": [metric]}\n",
    "        performance_measurement_requests.append(measurement_request)\n",
    "        \n",
    "    response = wos_client.monitor_instances.measurements.add(\n",
    "                                            monitor_instance_id=performance_monitor_instance_id,\n",
    "                                            monitor_measurement_request=performance_measurement_requests).result    \n",
    "\n",
    "print('Finished')"
   ]
  },
  {
   "cell_type": "markdown",
   "metadata": {},
   "source": [
    "## 7.5 Insert historical drift measurements"
   ]
  },
  {
   "cell_type": "code",
   "execution_count": 100,
   "metadata": {},
   "outputs": [
    {
     "name": "stdout",
     "output_type": "stream",
     "text": [
      "rm: cannot remove 'history_drift_measurement_0.json': No such file or directory\n",
      "rm: cannot remove 'history_drift_measurement_1.json': No such file or directory\n",
      "rm: cannot remove 'history_drift_measurement_2.json': No such file or directory\n",
      "rm: cannot remove 'history_drift_measurement_3.json': No such file or directory\n",
      "rm: cannot remove 'history_drift_measurement_4.json': No such file or directory\n",
      "rm: cannot remove 'history_drift_measurement_5.json': No such file or directory\n",
      "rm: cannot remove 'history_drift_measurement_6.json': No such file or directory\n",
      "-rw-r----- 1 wsuser watsonstudio 832K Oct 20 22:57 history_drift_measurement_0.json\n",
      "-rw-r----- 1 wsuser watsonstudio 868K Oct 20 22:57 history_drift_measurement_1.json\n",
      "-rw-r----- 1 wsuser watsonstudio 870K Oct 20 22:57 history_drift_measurement_2.json\n",
      "-rw-r----- 1 wsuser watsonstudio 910K Oct 20 22:57 history_drift_measurement_3.json\n",
      "-rw-r----- 1 wsuser watsonstudio 841K Oct 20 22:57 history_drift_measurement_4.json\n",
      "-rw-r----- 1 wsuser watsonstudio 836K Oct 20 22:57 history_drift_measurement_5.json\n",
      "-rw-r----- 1 wsuser watsonstudio 840K Oct 20 22:57 history_drift_measurement_6.json\n"
     ]
    }
   ],
   "source": [
    "!rm history_drift_measurement_0.json\n",
    "!rm history_drift_measurement_1.json\n",
    "!rm history_drift_measurement_2.json\n",
    "!rm history_drift_measurement_3.json\n",
    "!rm history_drift_measurement_4.json\n",
    "!rm history_drift_measurement_5.json\n",
    "!rm history_drift_measurement_6.json\n",
    "\n",
    "with io.capture_output() as captured_0:\n",
    "    !wget https://raw.githubusercontent.com/pmservice/ai-openscale-tutorials/master/assets/historical_data/german_credit_risk/wos/history_drift_measurement_0.json\n",
    "    !wget https://raw.githubusercontent.com/pmservice/ai-openscale-tutorials/master/assets/historical_data/german_credit_risk/wos/history_drift_measurement_1.json\n",
    "    !wget https://raw.githubusercontent.com/pmservice/ai-openscale-tutorials/master/assets/historical_data/german_credit_risk/wos/history_drift_measurement_2.json\n",
    "    !wget https://raw.githubusercontent.com/pmservice/ai-openscale-tutorials/master/assets/historical_data/german_credit_risk/wos/history_drift_measurement_3.json\n",
    "    !wget https://raw.githubusercontent.com/pmservice/ai-openscale-tutorials/master/assets/historical_data/german_credit_risk/wos/history_drift_measurement_4.json\n",
    "    !wget https://raw.githubusercontent.com/pmservice/ai-openscale-tutorials/master/assets/historical_data/german_credit_risk/wos/history_drift_measurement_5.json\n",
    "    !wget https://raw.githubusercontent.com/pmservice/ai-openscale-tutorials/master/assets/historical_data/german_credit_risk/wos/history_drift_measurement_6.json\n",
    "\n",
    "!ls -lh history_drift_measurement_0.json\n",
    "!ls -lh history_drift_measurement_1.json\n",
    "!ls -lh history_drift_measurement_2.json\n",
    "!ls -lh history_drift_measurement_3.json\n",
    "!ls -lh history_drift_measurement_4.json\n",
    "!ls -lh history_drift_measurement_5.json\n",
    "!ls -lh history_drift_measurement_6.json"
   ]
  },
  {
   "cell_type": "code",
   "execution_count": 101,
   "metadata": {},
   "outputs": [
    {
     "name": "stdout",
     "output_type": "stream",
     "text": [
      "Loading day 1\n",
      "Daily loading finished.\n",
      "Loading day 2\n",
      "Daily loading finished.\n",
      "Loading day 3\n",
      "Daily loading finished.\n",
      "Loading day 4\n",
      "Daily loading finished.\n",
      "Loading day 5\n",
      "Daily loading finished.\n",
      "Loading day 6\n",
      "Daily loading finished.\n",
      "Loading day 7\n",
      "Daily loading finished.\n"
     ]
    }
   ],
   "source": [
    "for day in range(historyDays):\n",
    "    drift_measurements = []\n",
    "\n",
    "    with open(\"history_drift_measurement_{}.json\".format(day), 'r') as history_file:\n",
    "        drift_daily_measurements = json.load(history_file)\n",
    "    print('Loading day', day + 1)\n",
    "\n",
    "    #Historical data contains 8 records per day - each represents 3 hour drift window.\n",
    "    \n",
    "    for nb_window, records in enumerate(drift_daily_measurements):\n",
    "        for record in records:\n",
    "            window_start =  datetime.utcnow() + timedelta(hours=(-(24 * day + (nb_window+1)*3 + 1))) # first_payload_record_timestamp_in_window (oldest)\n",
    "            window_end = datetime.utcnow() + timedelta(hours=(-(24 * day + nb_window*3 + 1)))# last_payload_record_timestamp_in_window (most recent)\n",
    "            #modify start and end time for each record\n",
    "            record['sources'][0]['data']['start'] = window_start.isoformat() + \"Z\"\n",
    "            record['sources'][0]['data']['end'] = window_end.isoformat() + \"Z\"\n",
    "            \n",
    "            metric = record['metrics'][0]\n",
    "            source = record['sources'][0]\n",
    "\n",
    "            measurement_request = {\"timestamp\": window_start.isoformat() + \"Z\", \"metrics\": [metric], \"sources\": [source]}\n",
    "            \n",
    "            drift_measurements.append(measurement_request)\n",
    "        \n",
    "    response = wos_client.monitor_instances.measurements.add(\n",
    "                                            monitor_instance_id=drift_monitor_instance_id,\n",
    "                                            monitor_measurement_request=drift_measurements).result    \n",
    "    \n",
    "    print(\"Daily loading finished.\")"
   ]
  },
  {
   "cell_type": "markdown",
   "metadata": {},
   "source": [
    "# 8.0 Additional data to help debugging"
   ]
  },
  {
   "cell_type": "code",
   "execution_count": 102,
   "metadata": {
    "scrolled": true
   },
   "outputs": [
    {
     "name": "stdout",
     "output_type": "stream",
     "text": [
      "Datamart id: 99318397-f315-40be-a572-961b511856bd\n",
      "Model id: a4203511-0f56-4422-807f-d28c4f9eab13\n",
      "Deployment id: 1cfae0db-dce3-42cd-bcd7-0773912772d2\n",
      "Scoring URL:https://us-south.ml.cloud.ibm.com/ml/v4/deployments/1cfae0db-dce3-42cd-bcd7-0773912772d2/predictions\n"
     ]
    }
   ],
   "source": [
    "print(\"Datamart id: {}\".format(data_mart_id))\n",
    "print(\"Model id: {}\".format(model_uid))\n",
    "print(\"Deployment id: {}\".format(deployment_uid))\n",
    "print(\"Scoring URL:{}\".format(scoring_url))"
   ]
  },
  {
   "cell_type": "markdown",
   "metadata": {},
   "source": [
    "# 9.0 Identify transactions for Explainability"
   ]
  },
  {
   "cell_type": "markdown",
   "metadata": {},
   "source": [
    "Transaction IDs identified by the cells below can be copied and pasted into the Explainability tab of the OpenScale dashboard."
   ]
  },
  {
   "cell_type": "code",
   "execution_count": 103,
   "metadata": {
    "scrolled": true
   },
   "outputs": [
    {
     "data": {
      "text/html": [
       "<div>\n",
       "<style scoped>\n",
       "    .dataframe tbody tr th:only-of-type {\n",
       "        vertical-align: middle;\n",
       "    }\n",
       "\n",
       "    .dataframe tbody tr th {\n",
       "        vertical-align: top;\n",
       "    }\n",
       "\n",
       "    .dataframe thead th {\n",
       "        text-align: right;\n",
       "    }\n",
       "</style>\n",
       "<table border=\"1\" class=\"dataframe\">\n",
       "  <thead>\n",
       "    <tr style=\"text-align: right;\">\n",
       "      <th></th>\n",
       "      <th>scoring_id</th>\n",
       "      <th>predictedLabel</th>\n",
       "      <th>probability</th>\n",
       "    </tr>\n",
       "  </thead>\n",
       "  <tbody>\n",
       "    <tr>\n",
       "      <th>0</th>\n",
       "      <td>211434e3-0d72-4a8f-bff0-4088eaa37e9c-1</td>\n",
       "      <td>No Risk</td>\n",
       "      <td>[0.7380826635268305, 0.2619173364731694]</td>\n",
       "    </tr>\n",
       "    <tr>\n",
       "      <th>1</th>\n",
       "      <td>211434e3-0d72-4a8f-bff0-4088eaa37e9c-10</td>\n",
       "      <td>No Risk</td>\n",
       "      <td>[0.6168214805325938, 0.3831785194674062]</td>\n",
       "    </tr>\n",
       "    <tr>\n",
       "      <th>2</th>\n",
       "      <td>211434e3-0d72-4a8f-bff0-4088eaa37e9c-100</td>\n",
       "      <td>Risk</td>\n",
       "      <td>[0.45599045442964903, 0.5440095455703511]</td>\n",
       "    </tr>\n",
       "    <tr>\n",
       "      <th>3</th>\n",
       "      <td>211434e3-0d72-4a8f-bff0-4088eaa37e9c-101</td>\n",
       "      <td>No Risk</td>\n",
       "      <td>[0.7847855656309244, 0.21521443436907556]</td>\n",
       "    </tr>\n",
       "    <tr>\n",
       "      <th>4</th>\n",
       "      <td>211434e3-0d72-4a8f-bff0-4088eaa37e9c-102</td>\n",
       "      <td>No Risk</td>\n",
       "      <td>[0.5783722712960039, 0.42162772870399606]</td>\n",
       "    </tr>\n",
       "  </tbody>\n",
       "</table>\n",
       "</div>"
      ],
      "text/plain": [
       "                                 scoring_id predictedLabel  \\\n",
       "0    211434e3-0d72-4a8f-bff0-4088eaa37e9c-1        No Risk   \n",
       "1   211434e3-0d72-4a8f-bff0-4088eaa37e9c-10        No Risk   \n",
       "2  211434e3-0d72-4a8f-bff0-4088eaa37e9c-100           Risk   \n",
       "3  211434e3-0d72-4a8f-bff0-4088eaa37e9c-101        No Risk   \n",
       "4  211434e3-0d72-4a8f-bff0-4088eaa37e9c-102        No Risk   \n",
       "\n",
       "                                 probability  \n",
       "0   [0.7380826635268305, 0.2619173364731694]  \n",
       "1   [0.6168214805325938, 0.3831785194674062]  \n",
       "2  [0.45599045442964903, 0.5440095455703511]  \n",
       "3  [0.7847855656309244, 0.21521443436907556]  \n",
       "4  [0.5783722712960039, 0.42162772870399606]  "
      ]
     },
     "execution_count": 103,
     "metadata": {},
     "output_type": "execute_result"
    }
   ],
   "source": [
    "#wos_client.data_sets.show_records(payload_data_set_id, limit=5)\n",
    "pl_pd = wos_client.data_sets.get_list_of_records(data_set_id=payload_data_set_id, limit=5, output_type=ResponseTypes.PANDAS).result\n",
    "df = pl_pd[['scoring_id','predictedLabel','probability']]\n",
    "df.head(5)"
   ]
  },
  {
   "cell_type": "markdown",
   "metadata": {},
   "source": [
    "## Congratulations!\n",
    "\n",
    "You have finished the hands-on lab for IBM Watson OpenScale. You can now view the OpenScale dashboard. Choose the `OpenScale` service instance and launch the application UI. Click on the tile for the model you've created to see fairness, accuracy, and performance monitors. Click on the timeseries graph to get detailed information on transactions during a specific time window.\n",
    "\n",
    "OpenScale shows model performance over time. You have two options to keep data flowing to your OpenScale graphs:\n",
    "  * Download, configure and schedule the [model feed notebook](https://raw.githubusercontent.com/emartensibm/german-credit/master/german_credit_scoring_feed.ipynb). This notebook can be set up with your WML credentials, and scheduled to provide a consistent flow of scoring requests to your model, which will appear in your OpenScale monitors.\n",
    "  * Re-run this notebook. Running this notebook from the beginning will delete and re-create the model and deployment, and re-create the historical data. Please note that the payload and measurement logs for the previous deployment will continue to be stored in your datamart, and can be deleted if necessary."
   ]
  },
  {
   "cell_type": "code",
   "execution_count": null,
   "metadata": {},
   "outputs": [],
   "source": []
  }
 ],
 "metadata": {
  "kernelspec": {
   "display_name": "Python 3.7",
   "language": "python",
   "name": "python3"
  },
  "language_info": {
   "codemirror_mode": {
    "name": "ipython",
    "version": 3
   },
   "file_extension": ".py",
   "mimetype": "text/x-python",
   "name": "python",
   "nbconvert_exporter": "python",
   "pygments_lexer": "ipython3",
   "version": "3.7.9"
  }
 },
 "nbformat": 4,
 "nbformat_minor": 1
}
