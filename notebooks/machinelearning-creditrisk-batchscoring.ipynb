{
 "cells": [
  {
   "cell_type": "markdown",
   "metadata": {
    "id": "ee16916d-de53-44a5-b8c8-64b0b44d5b3e"
   },
   "source": [
    "# Batch Scoring on IBM Cloud Pak for Data (ICP4D)\n",
    "\n",
    "We are going to use this notebook to create and/or run a batch scoring job against a model that has previously been created and deployed to the Watson Machine Learning (WML) instance on Cloud Pak for Data (CP4D)."
   ]
  },
  {
   "cell_type": "markdown",
   "metadata": {
    "id": "955f0b35-1d1c-4f4b-accf-2404292b85de"
   },
   "source": [
    "## 1.0 Install required packages\n",
    "\n",
    "\n",
    "There are a couple of Python packages we will use in this notebook. We will install/upgrade the Watson Machine Learning (WML) client library to interact with the Watson Machine Learning service from this notebook. These package may already be installed by default on CP4D.\n",
    "\n",
    "- WML Client: http://ibm-wml-api-pyclient.mybluemix.net/"
   ]
  },
  {
   "cell_type": "code",
   "execution_count": null,
   "metadata": {
    "id": "dc2a56c5068944818eecb6659a85aa64"
   },
   "outputs": [],
   "source": [
    "import warnings\n",
    "warnings.filterwarnings('ignore')"
   ]
  },
  {
   "cell_type": "code",
   "execution_count": null,
   "metadata": {
    "id": "c1d08a5c-7e5c-4428-8cf9-08e4806c8a55"
   },
   "outputs": [],
   "source": [
    "!pip install --user ibm-watson-machine-learning==1.0.53 --upgrade | tail -n 1"
   ]
  },
  {
   "cell_type": "code",
   "execution_count": null,
   "metadata": {
    "id": "cbf8c579-abe6-4d2b-b6c2-cf3a9e632031"
   },
   "outputs": [],
   "source": [
    "import json\n",
    "from ibm_watson_machine_learning import APIClient"
   ]
  },
  {
   "cell_type": "markdown",
   "metadata": {
    "id": "4e7835ff-8c55-48b5-9c9f-3298340a4a59"
   },
   "source": [
    "## 2.0 Create Batch Deployment Job"
   ]
  },
  {
   "cell_type": "markdown",
   "metadata": {
    "id": "a3cba8e1-3ea2-495b-bb9c-80232fb88601"
   },
   "source": [
    "### 2.1 Instantiate Watson Machine Learning Client\n",
    "\n",
    "To interact with the local Watson Machine Learning instance, we will be using the Python SDK. \n",
    "\n",
    "<font color=red>**<< UPDATE THE VARIABLES BELOW >>**</font>\n",
    "\n",
    "<font color='red'>Replace the `username` and `password` values of `************` with your Cloud Pak for Data `username` and `password`. The value for `url` should match the `url` for your Cloud Pak for Data cluster, which you can get from the browser address bar (be sure to include the 'https://'.</font> The credentials should look something like this (these are example values, not the ones you will use):\n",
    "\n",
    "`\n",
    "wml_credentials = {\n",
    "    \"url\": \"https://zen.clusterid.us-south.containers.appdomain.cloud/\",\n",
    "    \"username\": \"cp4duser\",\n",
    "    \"password\" : \"cp4dpass\",\n",
    "    \"instance_id\": \"wml_local\",\n",
    "    \"version\" : \"3.5\"\n",
    "}\n",
    "`\n",
    "#### NOTE: Make sure that there is no trailing forward slash `/` in the `url`"
   ]
  },
  {
   "cell_type": "code",
   "execution_count": null,
   "metadata": {
    "id": "9a266961-9775-43cb-8a3d-bf78af225a44"
   },
   "outputs": [],
   "source": [
    "# Be sure to update these credentials before running the cell.\n",
    "wml_credentials = {\n",
    "                   \"url\": \"************\",\n",
    "                   \"username\": \"************\",\n",
    "                   \"password\" : \"************\",\n",
    "                   \"instance_id\": \"wml_local\",\n",
    "                   \"version\" : \"3.5\"\n",
    "                  }\n",
    "\n",
    "wml_client = APIClient(wml_credentials)"
   ]
  },
  {
   "cell_type": "code",
   "execution_count": null,
   "metadata": {
    "id": "e4526a42-5ea3-4b2e-8e1e-91a246936c02"
   },
   "outputs": [],
   "source": [
    "wml_client.spaces.list()"
   ]
  },
  {
   "cell_type": "markdown",
   "metadata": {
    "id": "b1985d96-d46e-4384-9892-e33bfa9ca64f"
   },
   "source": [
    "### 2.2 Find Deployment Space\n",
    "\n",
    "We will try to find the `ID` for the deployment space you want to use and set it as the default space for the client.\n",
    "\n",
    "<font color=red>**<< UPDATE THE VARIABLES BELOW >>**</font>\n",
    "\n",
    "- Update with the name of the deployment space where you have created the batch deployment."
   ]
  },
  {
   "cell_type": "code",
   "execution_count": null,
   "metadata": {
    "id": "38b47170-1409-40f6-a80e-ba81b42777b3"
   },
   "outputs": [],
   "source": [
    "# Be sure to update the name of the space with the one you want to use.\n",
    "DEPLOYMENT_SPACE_NAME = '************'"
   ]
  },
  {
   "cell_type": "code",
   "execution_count": null,
   "metadata": {
    "id": "5c23eb54-85a4-4abb-a745-d83ef9999d08"
   },
   "outputs": [],
   "source": [
    "all_spaces = wml_client.spaces.get_details()['resources']\n",
    "space_id = None\n",
    "for space in all_spaces:\n",
    "    if space['entity']['name'] == DEPLOYMENT_SPACE_NAME:\n",
    "        space_id = space[\"metadata\"][\"id\"]\n",
    "        print(\"\\nDeployment Space ID: \", space_id)\n",
    "\n",
    "if space_id is None:\n",
    "    print(\"WARNING: Your space does not exist. Create a deployment space before proceeding.\")\n",
    "    # We could programmatically create the space.\n",
    "    #space_id = wml_client.spaces.store(meta_props={wml_client.spaces.ConfigurationMetaNames.NAME: space_name})[\"metadata\"][\"guid\"]"
   ]
  },
  {
   "cell_type": "code",
   "execution_count": null,
   "metadata": {
    "id": "b94e81cd-3b51-4014-b591-2883a1e12471"
   },
   "outputs": [],
   "source": [
    "# Now set the default space to the ID for your deployment space. If this is successful, you will see a 'SUCCESS' message.\n",
    "wml_client.set.default_space(space_id)"
   ]
  },
  {
   "cell_type": "code",
   "execution_count": null,
   "metadata": {
    "id": "9a164d98-9e4d-4bec-a5c9-b7e285304ae9"
   },
   "outputs": [],
   "source": [
    "# These are the models and deployments we currently have in our deployment space.\n",
    "wml_client.repository.list_models()\n",
    "wml_client.deployments.list()"
   ]
  },
  {
   "cell_type": "markdown",
   "metadata": {
    "id": "6b05b0ae-fa87-436a-946a-f3c6eb14b5b5"
   },
   "source": [
    "### 2.3 Find Batch Deployment\n",
    "\n",
    "We will try to find the batch deployment which was created.\n",
    "\n",
    "<font color=red>**<< UPDATE THE VARIABLES BELOW >>**</font>\n",
    "\n",
    "- Update the variable with the name of the batch deployment you created previously."
   ]
  },
  {
   "cell_type": "code",
   "execution_count": null,
   "metadata": {
    "id": "f23d64a4-d0c4-4e0e-83a7-04b45e420caf"
   },
   "outputs": [],
   "source": [
    "DEPLOYMENT_NAME = '************'"
   ]
  },
  {
   "cell_type": "code",
   "execution_count": null,
   "metadata": {
    "id": "11524458-364d-41fb-ba5c-d10e48e5ba9c"
   },
   "outputs": [],
   "source": [
    "wml_deployments = wml_client.deployments.get_details()\n",
    "deployment_uid = None\n",
    "deployment_details = None\n",
    "for deployment in wml_deployments['resources']:\n",
    "    if DEPLOYMENT_NAME == deployment['entity']['name']:\n",
    "        deployment_uid = deployment['metadata']['id']\n",
    "        deployment_details = deployment\n",
    "        #print(json.dumps(deployment_details, indent=3))\n",
    "        break\n",
    "\n",
    "print(\"Deployment id: {}\".format(deployment_uid))\n",
    "wml_client.deployments.get_details(deployment_uid)"
   ]
  },
  {
   "cell_type": "markdown",
   "metadata": {
    "id": "1da2a5a0-990a-4b54-b6ab-6dece51a2376"
   },
   "source": [
    "### 2.4 Get Batch Test Data\n",
    "\n",
    "We will load some data to run the batch predictions."
   ]
  },
  {
   "cell_type": "code",
   "execution_count": null,
   "metadata": {
    "id": "9bae812f-9083-4ade-bd91-931f88e3dee2"
   },
   "outputs": [],
   "source": [
    "import pandas as pd\n",
    "\n",
    "from project_lib import Project\n",
    "project = Project.access()\n",
    "\n",
    "batch_set = pd.read_csv(project.get_file('German-Credit-Risk-SmallBatchSet.csv'))\n",
    "batch_set = batch_set.drop('CustomerID', axis=1,errors = 'ignore')\n",
    "batch_set.head()"
   ]
  },
  {
   "cell_type": "markdown",
   "metadata": {
    "id": "f4f3bedf-41e6-4538-b19b-f066f6d2af45"
   },
   "source": [
    "### 2.5 Create Job\n",
    "\n",
    "We can now use the information about the deployment and the test data to create a new job against our batch deployment. We submit the data as inline payload and want the results (i.e predictions) stored in a CSV file."
   ]
  },
  {
   "cell_type": "code",
   "execution_count": null,
   "metadata": {
    "id": "8abb76da-28ba-4ec7-95fd-a542eea1257b"
   },
   "outputs": [],
   "source": [
    "import time\n",
    "timestr = time.strftime(\"%Y%m%d_%H%M%S\")\n",
    "job_payload = {\n",
    "    wml_client.deployments.ScoringMetaNames.INPUT_DATA: [{\n",
    "        'fields': batch_set.columns.values.tolist(),\n",
    "        'values': batch_set.values.tolist()\n",
    "    }],\n",
    "    wml_client.deployments.ScoringMetaNames.OUTPUT_DATA_REFERENCE: {\n",
    "            \"type\": \"data_asset\",\n",
    "            \"connection\": {},\n",
    "            \"location\": {\n",
    "                \"name\": \"batchres_{}_{}.csv\".format(timestr,deployment_uid),\n",
    "                \"description\": \"results\"\n",
    "            }\n",
    "    }\n",
    "}\n",
    "\n",
    "job = wml_client.deployments.create_job(deployment_id=deployment_uid, meta_props=job_payload)\n",
    "job_uid = wml_client.deployments.get_job_uid(job)\n",
    "\n",
    "print('Job uid = {}'.format(job_uid))"
   ]
  },
  {
   "cell_type": "code",
   "execution_count": null,
   "metadata": {
    "id": "e97442ec-8b8f-4e2d-bbcf-10f494aa89e7"
   },
   "outputs": [],
   "source": [
    "wml_client.deployments.list_jobs()"
   ]
  },
  {
   "cell_type": "markdown",
   "metadata": {
    "id": "50d206e6-63ec-459d-b8d1-9126d3618bb9"
   },
   "source": [
    "## 3.0 Monitor Batch Job Status\n",
    "\n",
    "The batch job is an async operation. We can use the identifier to track its progress. Below we will just poll until the job completes (or fails)."
   ]
  },
  {
   "cell_type": "code",
   "execution_count": null,
   "metadata": {
    "id": "29e4a526-c43c-4365-a8f2-729312812fe1"
   },
   "outputs": [],
   "source": [
    "def poll_async_job(client, job_uid):\n",
    "    import time\n",
    "    while True:\n",
    "        job_status = client.deployments.get_job_status(job_uid)\n",
    "        print(job_status)\n",
    "        state = job_status['state']\n",
    "        if state == 'completed' or 'fail' in state:\n",
    "            return client.deployments.get_job_details(job_uid)\n",
    "        time.sleep(5)\n",
    "            \n",
    "job_details = poll_async_job(wml_client, job_uid)"
   ]
  },
  {
   "cell_type": "code",
   "execution_count": null,
   "metadata": {
    "id": "5b43fc37-6517-4bef-bffd-06b4631035b5"
   },
   "outputs": [],
   "source": [
    "wml_client.deployments.list_jobs()"
   ]
  },
  {
   "cell_type": "markdown",
   "metadata": {
    "id": "156b75de-73fe-49fd-9d87-d1250dfa47f8"
   },
   "source": [
    "### 3.1 Check Results\n",
    "\n",
    "With the job complete, we can see the predictions. "
   ]
  },
  {
   "cell_type": "code",
   "execution_count": null,
   "metadata": {
    "id": "96d814bd-adcd-4d4e-a30c-ff904b0c8a04"
   },
   "outputs": [],
   "source": [
    "wml_client.deployments.get_job_details()"
   ]
  },
  {
   "cell_type": "code",
   "execution_count": null,
   "metadata": {
    "id": "249924a0-5b43-417b-a628-f211b95c1ad3"
   },
   "outputs": [],
   "source": [
    "print(json.dumps(job_details, indent=2))"
   ]
  },
  {
   "cell_type": "markdown",
   "metadata": {
    "id": "d35a5729-9cba-40fb-9abb-866cf881f363"
   },
   "source": [
    "## Congratulations, you have created and submitted a job for batch scoring !"
   ]
  }
 ],
 "metadata": {
  "kernelspec": {
   "display_name": "Python 3.7",
   "language": "python",
   "name": "python3"
  },
  "language_info": {
   "codemirror_mode": {
    "name": "ipython",
    "version": 3
   },
   "file_extension": ".py",
   "mimetype": "text/x-python",
   "name": "python",
   "nbconvert_exporter": "python",
   "pygments_lexer": "ipython3",
   "version": "3.7.9"
  }
 },
 "nbformat": 4,
 "nbformat_minor": 1
}
