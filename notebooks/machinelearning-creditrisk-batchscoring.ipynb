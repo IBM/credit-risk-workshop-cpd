{
 "cells": [
  {
   "cell_type": "markdown",
   "metadata": {},
   "source": [
    "# Batch Scoring on IBM Cloud Pak for Data (ICP4D)\n",
    "\n",
    "We are going to use this notebook to create and/or run a batch scoring job against a model that has previously been created and deployed to the Watson Machine Learning (WML) instance on Cloud Pak for Data (CP4D)."
   ]
  },
  {
   "cell_type": "markdown",
   "metadata": {},
   "source": [
    "## 1.0 Install required packages\n",
    "\n",
    "\n",
    "There are a couple of Python packages we will use in this notebook. First we make sure the Watson Machine Learning client v3 is removed (its not installed by default) and then install/upgrade the v4 version of the client (this package is installed by default on CP4D).\n",
    "- WML Client: https://wml-api-pyclient-dev-v4.mybluemix.net/#repository"
   ]
  },
  {
   "cell_type": "code",
   "execution_count": null,
   "metadata": {},
   "outputs": [],
   "source": [
    "!pip uninstall watson-machine-learning-client -y\n",
    "!pip install --user watson-machine-learning-client-v4==1.0.95 --upgrade | tail -n 1"
   ]
  },
  {
   "cell_type": "code",
   "execution_count": null,
   "metadata": {},
   "outputs": [],
   "source": [
    "import json\n",
    "from watson_machine_learning_client import WatsonMachineLearningAPIClient"
   ]
  },
  {
   "cell_type": "markdown",
   "metadata": {},
   "source": [
    "## 2.0 Create Batch Deployment Job"
   ]
  },
  {
   "cell_type": "markdown",
   "metadata": {},
   "source": [
    "### 2.1 Instantiate Watson Machine Learning Client\n",
    "\n",
    "To interact with the local Watson Machine Learning instance, we will be using the Python SDK. \n",
    "\n",
    "<font color=red>**<< UPDATE THE VARIABLES BELOW >>**</font>\n",
    "\n",
    "<font color='red'>Replace the `username` and `password` values of `************` with your Cloud Pak for Data `username` and `password`. The value for `url` should match the `url` for your Cloud Pak for Data cluster, which you can get from the browser address bar (be sure to include the 'https://'.</font> The credentials should look something like this (these are example values, not the ones you will use):\n",
    "\n",
    "`\n",
    "wml_credentials = {\n",
    "                   \"url\": \"https://zen.clusterid.us-south.containers.appdomain.cloud\",\n",
    "                   \"username\": \"cp4duser\",\n",
    "                   \"password\" : \"cp4dpass\",\n",
    "                   \"instance_id\": \"wml_local\",\n",
    "                   \"version\" : \"3.0\"\n",
    "                  }\n",
    "`\n",
    "#### NOTE: Make sure that there is no trailing forward slash `/` in the `url`"
   ]
  },
  {
   "cell_type": "code",
   "execution_count": null,
   "metadata": {},
   "outputs": [],
   "source": [
    "# Be sure to update these credentials before running the cell.\n",
    "wml_credentials = {\n",
    "                   \"url\": \"************\",\n",
    "                   \"username\": \"************\",\n",
    "                   \"password\" : \"************\",\n",
    "                   \"instance_id\": \"wml_local\",\n",
    "                   \"version\" : \"3.0.0\"\n",
    "                  }\n",
    "\n",
    "wml_client = WatsonMachineLearningAPIClient(wml_credentials)"
   ]
  },
  {
   "cell_type": "code",
   "execution_count": null,
   "metadata": {},
   "outputs": [],
   "source": [
    "wml_client.spaces.list()"
   ]
  },
  {
   "cell_type": "markdown",
   "metadata": {},
   "source": [
    "### 2.2 Find Deployment Space\n",
    "\n",
    "We will try to find the `GUID` for the deployment space you want to use and set it as the default space for the client.\n",
    "\n",
    "<font color=red>**<< UPDATE THE VARIABLES BELOW >>**</font>\n",
    "\n",
    "- Update with the name of the deployment space where you have created the batch deployment."
   ]
  },
  {
   "cell_type": "code",
   "execution_count": null,
   "metadata": {},
   "outputs": [],
   "source": [
    "# Be sure to update the name of the space with the one you want to use.\n",
    "DEPLOYMENT_SPACE_NAME = '************'"
   ]
  },
  {
   "cell_type": "code",
   "execution_count": null,
   "metadata": {},
   "outputs": [],
   "source": [
    "all_spaces = wml_client.spaces.get_details()['resources']\n",
    "space_id = None\n",
    "for space in all_spaces:\n",
    "    if space['entity']['name'] == DEPLOYMENT_SPACE_NAME:\n",
    "        space_id = space[\"metadata\"][\"guid\"]\n",
    "        print(\"\\nDeployment Space GUID: \", space_id)\n",
    "\n",
    "if space_id is None:\n",
    "    print(\"WARNING: Your space does not exist. Create a deployment space before proceeding.\")\n",
    "    # We could programmatically create the space.\n",
    "    #space_id = wml_client.spaces.store(meta_props={wml_client.spaces.ConfigurationMetaNames.NAME: space_name})[\"metadata\"][\"guid\"]"
   ]
  },
  {
   "cell_type": "code",
   "execution_count": null,
   "metadata": {},
   "outputs": [],
   "source": [
    "# Now set the default space to the GUID for your deployment space. If this is successful, you will see a 'SUCCESS' message.\n",
    "wml_client.set.default_space(space_id)"
   ]
  },
  {
   "cell_type": "code",
   "execution_count": null,
   "metadata": {},
   "outputs": [],
   "source": [
    "# These are the models and deployments we currently have in our deployment space.\n",
    "wml_client.repository.list_models()\n",
    "wml_client.deployments.list()"
   ]
  },
  {
   "cell_type": "markdown",
   "metadata": {},
   "source": [
    "### 2.3 Find Batch Deployment\n",
    "\n",
    "We will try to find the batch deployment which was created.\n",
    "\n",
    "<font color=red>**<< UPDATE THE VARIABLES BELOW >>**</font>\n",
    "\n",
    "- Update the variable with the name of the batch deployment you created previously."
   ]
  },
  {
   "cell_type": "code",
   "execution_count": null,
   "metadata": {},
   "outputs": [],
   "source": [
    "DEPLOYMENT_NAME = '************'"
   ]
  },
  {
   "cell_type": "code",
   "execution_count": null,
   "metadata": {},
   "outputs": [],
   "source": [
    "wml_deployments = wml_client.deployments.get_details()\n",
    "deployment_uid = None\n",
    "deployment_details = None\n",
    "for deployment in wml_deployments['resources']:\n",
    "    if DEPLOYMENT_NAME == deployment['entity']['name']:\n",
    "        deployment_uid = deployment['metadata']['guid']\n",
    "        deployment_details = deployment\n",
    "        #print(json.dumps(deployment_details, indent=3))\n",
    "        break\n",
    "\n",
    "print(\"Deployment id: {}\".format(deployment_uid))\n",
    "wml_client.deployments.get_details(deployment_uid)"
   ]
  },
  {
   "cell_type": "markdown",
   "metadata": {},
   "source": [
    "### 2.4 Get Batch Test Data\n",
    "\n",
    "We will load some data to run the batch predictions."
   ]
  },
  {
   "cell_type": "code",
   "execution_count": null,
   "metadata": {},
   "outputs": [],
   "source": [
    "import pandas as pd\n",
    "\n",
    "from project_lib import Project\n",
    "project = Project.access()\n",
    "\n",
    "batch_set = pd.read_csv(project.get_file('German-Credit-Risk-SmallBatchSet.csv'))\n",
    "batch_set = batch_set.drop('CustomerID', axis=1,errors = 'ignore')\n",
    "batch_set.head()"
   ]
  },
  {
   "cell_type": "markdown",
   "metadata": {},
   "source": [
    "### 2.5 Create Job\n",
    "\n",
    "We can now use the information about the deployment and the test data to create a new job against our batch deployment. We submit the data as inline payload and want the results (i.e predictions) stored in a CSV file."
   ]
  },
  {
   "cell_type": "code",
   "execution_count": null,
   "metadata": {},
   "outputs": [],
   "source": [
    "import time\n",
    "timestr = time.strftime(\"%Y%m%d_%H%M%S\")\n",
    "job_payload = {\n",
    "    wml_client.deployments.ScoringMetaNames.INPUT_DATA: [{\n",
    "        'fields': batch_set.columns.values.tolist(),\n",
    "        'values': batch_set.values.tolist()\n",
    "    }],\n",
    "    wml_client.deployments.ScoringMetaNames.OUTPUT_DATA_REFERENCE: {\n",
    "            \"type\": \"data_asset\",\n",
    "            \"connection\": {},\n",
    "            \"location\": {\n",
    "                \"name\": \"batchres_{}_{}.csv\".format(timestr,deployment_uid),\n",
    "                \"description\": \"results\"\n",
    "            }\n",
    "    }\n",
    "}\n",
    "\n",
    "job = wml_client.deployments.create_job(deployment_id=deployment_uid, meta_props=job_payload)\n",
    "job_uid = wml_client.deployments.get_job_uid(job)\n",
    "\n",
    "print('Job uid = {}'.format(job_uid))"
   ]
  },
  {
   "cell_type": "code",
   "execution_count": null,
   "metadata": {},
   "outputs": [],
   "source": [
    "wml_client.deployments.list_jobs()"
   ]
  },
  {
   "cell_type": "markdown",
   "metadata": {},
   "source": [
    "## 3.0 Monitor Batch Job Status\n",
    "\n",
    "The batch job is an async operation. We can use the identifier to track its progress. Below we will just poll until the job completes (or fails)."
   ]
  },
  {
   "cell_type": "code",
   "execution_count": null,
   "metadata": {},
   "outputs": [],
   "source": [
    "def poll_async_job(client, job_uid):\n",
    "    import time\n",
    "    while True:\n",
    "        job_status = client.deployments.get_job_status(job_uid)\n",
    "        print(job_status)\n",
    "        state = job_status['state']\n",
    "        if state == 'completed' or 'fail' in state:\n",
    "            return client.deployments.get_job_details(job_uid)\n",
    "        time.sleep(5)\n",
    "            \n",
    "job_details = poll_async_job(wml_client, job_uid)"
   ]
  },
  {
   "cell_type": "code",
   "execution_count": null,
   "metadata": {},
   "outputs": [],
   "source": [
    "wml_client.deployments.list_jobs()"
   ]
  },
  {
   "cell_type": "markdown",
   "metadata": {},
   "source": [
    "### 3.1 Check Results\n",
    "\n",
    "With the job complete, we can see the predictions. "
   ]
  },
  {
   "cell_type": "code",
   "execution_count": null,
   "metadata": {},
   "outputs": [],
   "source": [
    "wml_client.deployments.get_job_details()"
   ]
  },
  {
   "cell_type": "code",
   "execution_count": null,
   "metadata": {},
   "outputs": [],
   "source": [
    "print(json.dumps(job_details, indent=2))"
   ]
  },
  {
   "cell_type": "markdown",
   "metadata": {},
   "source": [
    "## Congratulations, you have created and submitted a job for batch scoring !"
   ]
  }
 ],
 "metadata": {
  "kernelspec": {
   "display_name": "Python 3.6",
   "language": "python",
   "name": "python3"
  },
  "language_info": {
   "codemirror_mode": {
    "name": "ipython",
    "version": 3
   },
   "file_extension": ".py",
   "mimetype": "text/x-python",
   "name": "python",
   "nbconvert_exporter": "python",
   "pygments_lexer": "ipython3",
   "version": "3.6.10"
  }
 },
 "nbformat": 4,
 "nbformat_minor": 1
}
